{
 "cells": [
  {
   "cell_type": "markdown",
   "id": "86f49d4542c93daa",
   "metadata": {},
   "source": [
    "# Lab 7A - Inheritance & Private Methods\n",
    "*Day 7 - August 7, 2024*\n",
    "\n",
    "*I School Python Bootcamp*\n",
    "\n",
    "*Author: Lauren Chambers*\n"
   ]
  },
  {
   "cell_type": "markdown",
   "id": "effccd4b8b0713c4",
   "metadata": {},
   "source": [
    "Today we're building upon yesterday's introduction to objects, classes, attributes, and methods - with concepts including *inheritance*, which allows for the creation of hierarchical class structures, and *private methods* which encapsulate internal class logic. \n",
    "\n",
    "As we're exploring these more advanced topics, let's stick with our `Car` class from earlier.\n",
    "\n",
    "Our original `Car` class is pretty simple:"
   ]
  },
  {
   "cell_type": "code",
   "execution_count": null,
   "id": "5b99ceecec701787",
   "metadata": {},
   "outputs": [],
   "source": [
    "# Same code from yesterday!\n",
    "class Car:\n",
    "    # class attribute \n",
    "    n_wheels = 4\n",
    "    \n",
    "    # initialization constructor\n",
    "    def __init__(self, color, brand):\n",
    "        # instance attributes\n",
    "        self.color = color \n",
    "        self.brand = brand \n",
    "        \n",
    "    # description method\n",
    "    def describe(self):\n",
    "        print(\"This car is a {} {}.\".format(self.color, self.brand))\n",
    "        \n",
    "    # Color change method\n",
    "    def paint(self, new_color):\n",
    "        self.color = new_color"
   ]
  },
  {
   "cell_type": "markdown",
   "id": "b617e5d262c993d8",
   "metadata": {},
   "source": [
    "But what if we wanted to represent objects that are similar in some ways to cars, yet different in others? Like bicycles, or motorcycles, or snowmobiles? \n",
    "\n",
    "## Inheritance\n",
    "In order to set ourselves up for this, we can create a `Vehicle` parent class that our `Car` class will *inherit*: "
   ]
  },
  {
   "cell_type": "code",
   "execution_count": null,
   "id": "54a59c26d9d3e346",
   "metadata": {
    "jupyter": {
     "is_executing": true
    }
   },
   "outputs": [],
   "source": [
    "class Vehicle:\n",
    "    # initialization constructor\n",
    "    def __init__(self, color, brand):\n",
    "        # instance attributes\n",
    "        self.color = color \n",
    "        self.brand = brand \n",
    "        \n",
    "    # description method\n",
    "    def describe(self):\n",
    "        print(\"This vehicle is a {} {}.\".format(self.color, self.brand))\n",
    "        \n",
    "    # Color change method\n",
    "    def paint(self, new_color):\n",
    "        self.color = new_color"
   ]
  },
  {
   "cell_type": "markdown",
   "id": "5991c42a8d6cb1d8",
   "metadata": {},
   "source": [
    "Then we can redefine `Car`, and add a new class `Motorcycle`, as classes that *inherit* from `Vehicle`:"
   ]
  },
  {
   "cell_type": "code",
   "execution_count": null,
   "id": "a797f42e947bcfd9",
   "metadata": {},
   "outputs": [],
   "source": [
    "class Car(Vehicle):\n",
    "    # class attribute \n",
    "    n_wheels = 4\n",
    "    \n",
    "class Motorcycle(Vehicle):\n",
    "    # class attribute \n",
    "    n_wheels = 2\n",
    "    n_doors = 0"
   ]
  },
  {
   "cell_type": "markdown",
   "id": "25b0442e113b5c3a",
   "metadata": {},
   "source": [
    "These *child classes* or *subclasses* still have access to all of the old methods from their *parent class*, `Car`:"
   ]
  },
  {
   "cell_type": "code",
   "execution_count": null,
   "id": "da74e3ab40602a95",
   "metadata": {},
   "outputs": [],
   "source": [
    "sube = Car(\"silver\", \"Subaru\")\n",
    "sube.describe()\n",
    "sube.paint(\"white\")\n",
    "sube.describe()"
   ]
  },
  {
   "cell_type": "markdown",
   "id": "c1bacaedf17f6d8a",
   "metadata": {},
   "source": [
    "We can add new methods, potentially *overriding* the methods from `Vehicle` too. Remember that a child class's `__init__()` constructor will override the parent class's, so you must explicitly call the parent constructor too:"
   ]
  },
  {
   "cell_type": "code",
   "execution_count": null,
   "id": "d69f45b566d64dc8",
   "metadata": {},
   "outputs": [],
   "source": [
    "class Car(Vehicle):\n",
    "    # class attribute \n",
    "    n_wheels = 4\n",
    "    \n",
    "    def __init__(self, color, brand, gas_level=.5, n_doors=4):\n",
    "        Vehicle.__init__(self, color, brand)\n",
    "        self.gas_level = gas_level\n",
    "        self.n_doors = n_doors\n",
    "    \n",
    "    # description method\n",
    "    def describe(self):\n",
    "        print(\"This car is a {} {}.\".format(self.color, self.brand))\n",
    "        \n",
    "    def check_gas_level(self):\n",
    "        print(\"The gas tank is {}% full.\".format(self.gas_level * 100))\n",
    "        \n",
    "    def fill_up(self):\n",
    "        self.gas_level = 1"
   ]
  },
  {
   "cell_type": "markdown",
   "id": "52b463244b6bb801",
   "metadata": {},
   "source": [
    "In our `Car` class we have now overridden the `describe()` method to say \"This car\" instead of \"This vehicle\". However, we have not overridden that method for our `Motorcycle` class:"
   ]
  },
  {
   "cell_type": "code",
   "execution_count": null,
   "id": "173b6b07e37a1558",
   "metadata": {},
   "outputs": [],
   "source": [
    "tricycle = Vehicle(\"red\", \"Little Tykes\")\n",
    "prius = Car(\"grey\", \"Toyota\")\n",
    "harley_davidson = Motorcycle(\"grey\", \"Harley Davidson\")\n",
    "\n",
    "tricycle.describe()\n",
    "harley_davidson.describe()\n",
    "prius.describe()"
   ]
  },
  {
   "cell_type": "markdown",
   "id": "1c7a9864a0028c8a",
   "metadata": {},
   "source": [
    "We've also added some new attributes and methods that are specific to cars, rather than vehicles writ large. Let's play around with those."
   ]
  },
  {
   "cell_type": "code",
   "execution_count": null,
   "id": "9307fbf0-9c8d-4377-b10a-f5473c6b5fa0",
   "metadata": {},
   "outputs": [],
   "source": [
    "maserati = Car(\"red\", \"Maserati\", n_doors = 2)\n",
    "print(\"The {} has {} doors but this {} has {}\".format(prius.brand, prius.n_doors, maserati.brand, maserati.n_doors))"
   ]
  },
  {
   "cell_type": "code",
   "execution_count": null,
   "id": "171c4ab38e987e2b",
   "metadata": {},
   "outputs": [],
   "source": [
    "sube = Car(\"silver\", \"Subaru\")\n",
    "print(sube.gas_level)\n",
    "sube.check_gas_level()\n",
    "sube.fill_up()\n",
    "sube.check_gas_level()"
   ]
  },
  {
   "cell_type": "markdown",
   "id": "3cf6b21c81637d9b",
   "metadata": {},
   "source": [
    "## Private methods\n",
    "\n",
    "We can use private methods to rewrite the behavior of our classes with typically hidden processes, such as their string representations or how they are manipulated by operators. Let's use the `__str__()` method to streamline our `describe()` method here:"
   ]
  },
  {
   "cell_type": "code",
   "execution_count": null,
   "id": "79849c6671768e7f",
   "metadata": {},
   "outputs": [],
   "source": [
    "class Vehicle:\n",
    "    # initialization constructor\n",
    "    def __init__(self, color, brand):\n",
    "        # instance attributes\n",
    "        self.color = color \n",
    "        self.brand = brand \n",
    "        \n",
    "    # description method\n",
    "    def describe(self):\n",
    "        print(\"This {} is a {} {}.\".format(self, self.color, self.brand))\n",
    "        \n",
    "    # Color change method\n",
    "    def paint(self, new_color):\n",
    "        self.color = new_color\n",
    "        \n",
    "    def __str__(self):\n",
    "        return \"vehicle\"\n",
    "    \n",
    "class Car(Vehicle):\n",
    "    # class attribute \n",
    "    n_wheels = 4\n",
    "    \n",
    "    def __str__(self):\n",
    "        return \"car\"\n",
    "\n",
    "    def check_gas_level(self):\n",
    "        print(\"The gas tank is {}% full.\".format(self.gas_level * 100))\n",
    "        \n",
    "    def fill_up(self):\n",
    "        self.gas_level = 1\n",
    "    "
   ]
  },
  {
   "cell_type": "code",
   "execution_count": null,
   "id": "8e8c6ec04cd3a0e7",
   "metadata": {},
   "outputs": [],
   "source": [
    "horse_and_buggy = Vehicle(\"black\", \"CarriagesRUs\")\n",
    "prius = Car(\"grey\", \"Toyota\")\n",
    "\n",
    "print(horse_and_buggy)\n",
    "print(prius)\n",
    "\n",
    "tricycle.describe()\n",
    "prius.describe()"
   ]
  },
  {
   "cell_type": "markdown",
   "id": "935cf3be2f075d20",
   "metadata": {},
   "source": [
    "And remember, if at any time you can't remember which methods and attributes are attached to which objects, you can use `dir()`! It's a bit overwhelming, but it gets the job done."
   ]
  },
  {
   "cell_type": "code",
   "execution_count": null,
   "id": "2345a5114d1b929d",
   "metadata": {},
   "outputs": [],
   "source": [
    "dir(horse_and_buggy)"
   ]
  },
  {
   "cell_type": "code",
   "execution_count": null,
   "id": "79e04ba8f4152d72",
   "metadata": {},
   "outputs": [],
   "source": [
    "dir(prius)"
   ]
  },
  {
   "cell_type": "markdown",
   "id": "228aa48353c20a1f",
   "metadata": {},
   "source": [
    "# Exercises\n",
    "## Exercise 1\n",
    "*Private methods*\n",
    "\n",
    "Create a new class, `Fraction`:\n",
    "- The constructor should assign two attributes: a numerator and denominator.\n",
    "- Add a private method to define how multiplication works. It should look like this to start:\n",
    "    ```python\n",
    "    def __mul__(self, other_fraction):\n",
    "        # Your code\n",
    "        return product\n",
    "    ```\n",
    "- Add a private method to define the string representation of the fraction.\n",
    "- Test out your code by defining two fractions, printing them out, and multiplying them by one another."
   ]
  },
  {
   "cell_type": "code",
   "execution_count": null,
   "id": "451375fc48b8f17d",
   "metadata": {},
   "outputs": [],
   "source": []
  },
  {
   "cell_type": "markdown",
   "id": "76cbe0dd6f8a8f19",
   "metadata": {},
   "source": [
    "## Exercise 2\n",
    "*Inheritance*\n",
    "\n",
    "Create a basic inheritance structure where a child class inherits from a parent class and overrides a method:\n",
    "\n",
    " - Create a class named `Animal` with a method `speak()` that prints \"The animal makes a sound.\"\n",
    "- Create a subclass named `Dog` that inherits from `Animal`.\n",
    "- Override the `speak()` method in the `Dog` class to print \"The dog barks.\""
   ]
  },
  {
   "cell_type": "code",
   "execution_count": null,
   "id": "8f2aab752e48ed5c",
   "metadata": {},
   "outputs": [],
   "source": []
  }
 ],
 "metadata": {
  "kernelspec": {
   "display_name": "Python 3 (ipykernel)",
   "language": "python",
   "name": "python3"
  },
  "language_info": {
   "codemirror_mode": {
    "name": "ipython",
    "version": 3
   },
   "file_extension": ".py",
   "mimetype": "text/x-python",
   "name": "python",
   "nbconvert_exporter": "python",
   "pygments_lexer": "ipython3",
   "version": "3.8.17"
  }
 },
 "nbformat": 4,
 "nbformat_minor": 5
}

{
 "cells": [
  {
   "cell_type": "markdown",
   "metadata": {},
   "source": [
    "# Lab 7B - OOP in Practice\n",
    "*Day 7 - August 7, 2024*\n",
    "\n",
    "*I School Python Bootcamp*\n",
    "\n",
    "*Author: Lauren Chambers*\n",
    "\n",
    "We've spent the last three lessons developing our understanding of what object-oriented programming is, and how to use it. This lab explores more about what OOP looks like in practice! We'll use OOP principles to build modular and maintainable code, using case studies and examples from packages and code we've already been studying."
   ]
  },
  {
   "cell_type": "code",
   "execution_count": null,
   "metadata": {},
   "outputs": [],
   "source": [
    "import datetime\n",
    "\n",
    "import drawsvg as draw\n",
    "import matplotlib.pyplot as plt\n",
    "import matplotlib.dates as mdates\n",
    "import numpy as np"
   ]
  },
  {
   "cell_type": "markdown",
   "metadata": {},
   "source": [
    "## Objects in the wild\n",
    "Almost everything that we have interacted with up until this point in the bootcamp is - surprise! - an object. How can we know? Try out the `__class__` attribute on something; if it returns a class name, then your variable is an instance of that class."
   ]
  },
  {
   "cell_type": "code",
   "execution_count": null,
   "metadata": {},
   "outputs": [],
   "source": [
    "# String variables are instances of the class `str`\n",
    "\"string\".__class__"
   ]
  },
  {
   "cell_type": "code",
   "execution_count": null,
   "metadata": {},
   "outputs": [],
   "source": [
    "# List variables are instances of the class `list`\n",
    "[1, 23, 4].__class__"
   ]
  },
  {
   "cell_type": "code",
   "execution_count": null,
   "metadata": {},
   "outputs": [],
   "source": [
    "# Functions are instances of the class `function`\n",
    "\n",
    "def add(x, y):\n",
    "    return x + y\n",
    "\n",
    "add.__class__"
   ]
  },
  {
   "cell_type": "code",
   "execution_count": null,
   "metadata": {},
   "outputs": [],
   "source": [
    "# Matplotlib objects are instances of various custom matplotlib classes\n",
    "plt.figure().__class__"
   ]
  },
  {
   "cell_type": "code",
   "execution_count": null,
   "metadata": {},
   "outputs": [],
   "source": [
    "# Even the `print()` function is an instance of the class `builtin_function_or_method`\n",
    "print.__class__"
   ]
  },
  {
   "cell_type": "markdown",
   "metadata": {},
   "source": [
    "Really, the only things that aren't objects are operators and keywords (like `in`, `and`, `for`, `return`, `with`...).\n",
    "\n",
    "What does this mean? It means that these objects:\n",
    "1. Are constructed using fundamental classes that determine how they work, how they interact with other objects, and how they interact with things like operators.\n",
    "2. Have attributes and methods! You can view a full list of any object's attributes and methods using the `dir()` function.\n",
    "\n",
    "It's objects all the way down!!!"
   ]
  },
  {
   "cell_type": "code",
   "execution_count": null,
   "metadata": {
    "scrolled": true
   },
   "outputs": [],
   "source": [
    "dir(print)"
   ]
  },
  {
   "cell_type": "code",
   "execution_count": null,
   "metadata": {
    "scrolled": true
   },
   "outputs": [],
   "source": [
    "dir(\"string\")"
   ]
  },
  {
   "cell_type": "code",
   "execution_count": null,
   "metadata": {},
   "outputs": [],
   "source": [
    "fig = plt.figure()\n",
    "dir(fig)"
   ]
  },
  {
   "cell_type": "markdown",
   "metadata": {},
   "source": [
    "## Object-oriented `drawsvg`\n",
    "\n",
    "We can use classes to streamline the vector graphics we create using `drawsvg`. Here's an example of a `Face` class which streamlines the process of drawing the various elements that create different faces."
   ]
  },
  {
   "cell_type": "code",
   "execution_count": null,
   "metadata": {},
   "outputs": [],
   "source": [
    "class Face:\n",
    "    def __init__(self):\n",
    "        self.d = draw.Drawing(width=300, height=300, origin=\"center\")\n",
    "\n",
    "        # Make the face\n",
    "        face = draw.Circle(0, 0, 100, fill='white', stroke_width=2, stroke='black')\n",
    "        self.d.append(face)\n",
    "\n",
    "        # Add the eyes\n",
    "        left_eye = draw.Circle(cx=-30, cy=-30, r=6, fill='black', stroke_width=2, stroke='black')\n",
    "        right_eye = draw.Circle(cx=30, cy=-30, r=6, fill='black', stroke_width=2, stroke='black')\n",
    "        self.d.append(left_eye)\n",
    "        self.d.append(right_eye)\n",
    "\n",
    "\n",
    "    def smile(self):\n",
    "        self.__init__()\n",
    "        smile = draw.ArcLine(cx=0, cy=-10, r=60, start_deg=210, \n",
    "                             end_deg=330, stroke='black', stroke_width=5, \n",
    "                             fill='none', fill_opacity=0.2)\n",
    "        self.d.append(smile)\n",
    "\n",
    "    def frown(self):\n",
    "        self.__init__()\n",
    "        frown = draw.ArcLine(cx=0, cy=70, r=60, start_deg=30, \n",
    "                             end_deg=150, stroke='black', stroke_width=5, \n",
    "                             fill='none', fill_opacity=0.2)\n",
    "        self.d.append(frown)\n",
    "\n",
    "    def scowl(self):\n",
    "        self.frown()\n",
    "\n",
    "        # Add eyebrows\n",
    "        left_eyebrow = draw.Line(-40, -55, -20, -45, stroke='black', stroke_width=2)\n",
    "        right_eyebrow = draw.Line(40, -55, 20, -45, stroke='black', stroke_width=2)\n",
    "        self.d.append(left_eyebrow)\n",
    "        self.d.append(right_eyebrow)\n",
    "    \n",
    "    def display(self):\n",
    "        return self.d\n"
   ]
  },
  {
   "cell_type": "code",
   "execution_count": null,
   "metadata": {},
   "outputs": [],
   "source": [
    "happy_face = Face()\n",
    "happy_face.smile()\n",
    "happy_face.display()"
   ]
  },
  {
   "cell_type": "code",
   "execution_count": null,
   "metadata": {},
   "outputs": [],
   "source": [
    "sad_face = Face()\n",
    "sad_face.frown()\n",
    "sad_face.display()"
   ]
  },
  {
   "cell_type": "markdown",
   "metadata": {},
   "source": [
    "Note that we've built our methods in such a way that you don't have to create a new object to draw a new face - you can draw over one that you've already instantiated."
   ]
  },
  {
   "cell_type": "code",
   "execution_count": null,
   "metadata": {},
   "outputs": [],
   "source": [
    "sad_face.scowl()\n",
    "sad_face.display()"
   ]
  },
  {
   "cell_type": "markdown",
   "metadata": {},
   "source": [
    "## Object-oriented `matplotlib`\n",
    "\n",
    "Similarly, we can use classes to help cut down on repetitive code using a package like `matplotlib`. Inspired by my own prior project that required me to develop a lot of different line charts for different datasets that nonetheless had a lot of similar qualities (e.g. fonts, axis labels, color schemes), here is a `lineChart` class that we can use to simplify the process of making repetitive data visualizations."
   ]
  },
  {
   "cell_type": "code",
   "execution_count": null,
   "metadata": {},
   "outputs": [],
   "source": [
    "class lineChart:\n",
    "    line_colors = [\"black\", \"royalblue\", \"gold\"]\n",
    "    i_data = 0\n",
    "    \n",
    "    def __init__(self,title):\n",
    "        self.title = title\n",
    "        self.fig, self.ax = plt.subplots()\n",
    "\n",
    "    def add_data(self, x, y, label):\n",
    "        plt.plot(x, y, label = label, \n",
    "                 color=self.line_colors[self.i_data], lw=4,\n",
    "                alpha = .8)\n",
    "        self.i_data += 1\n",
    "    \n",
    "    def draw_and_display(self):\n",
    "        plt.title(self.title, fontfamily=\"serif\")\n",
    "        plt.legend(loc=\"lower center\", bbox_to_anchor=(.5, -.2), facecolor=\"lightgrey\", ncols=self.i_data)\n",
    "        plt.ylabel(self.title, fontfamily=\"serif\")\n",
    "        self.ax.set_xticklabels(labels=self.ax.get_xticks(), fontfamily=\"serif\")\n",
    "        self.ax.xaxis.set_major_formatter(mdates.DateFormatter('%b\\n%d'))\n",
    "        self.ax.set_yticklabels(['{:,}'.format(int(x)) for x in self.ax.get_yticks().tolist()], fontfamily=\"serif\")\n",
    "        \n",
    "        plt.show()"
   ]
  },
  {
   "cell_type": "code",
   "execution_count": null,
   "metadata": {},
   "outputs": [],
   "source": [
    "# Our x axis for each chart will be the same date range\n",
    "date_range = [datetime.date(2020, 3, 4) + datetime.timedelta(days=x) for x in range(200)]"
   ]
  },
  {
   "cell_type": "code",
   "execution_count": null,
   "metadata": {},
   "outputs": [],
   "source": [
    "tests = lineChart(\"Prisoners & Staff Tested\")\n",
    "tests.add_data(date_range, np.arange(200)**2, \"Prisoners\")\n",
    "tests.add_data(date_range, np.arange(200)**1.8, \"Staff\")\n",
    "tests.draw_and_display()"
   ]
  },
  {
   "cell_type": "code",
   "execution_count": null,
   "metadata": {},
   "outputs": [],
   "source": [
    "tests = lineChart(\"Prisoners Tested Positive\")\n",
    "tests.add_data(date_range, 10000 * .8 * np.log(np.arange(200)), \"Prisons & Jails\")\n",
    "tests.add_data(date_range, 10000 * .5* np.log(np.arange(200)), \"Prisons\")\n",
    "tests.add_data(date_range, 10000 * .3* np.log(np.arange(200)), \"Jails\")\n",
    "tests.draw_and_display()"
   ]
  },
  {
   "cell_type": "markdown",
   "metadata": {},
   "source": [
    "# Exercises\n",
    "## Exercise 1\n",
    "\n",
    "Write a Python program to create a class representing a `Ellipse`. Include:\n",
    "- methods to calculate its area and perimeter (Google the formulas if you don't remember 😉)\n",
    "- a method to flip the ellipse, that is, swap its x-radius and its y-radius\n",
    "- a method to draw the ellipse using `drawsvg` (see [here](https://cduck.github.io/drawsvg/#ellipse) for documentation)"
   ]
  },
  {
   "cell_type": "code",
   "execution_count": null,
   "metadata": {},
   "outputs": [],
   "source": []
  },
  {
   "cell_type": "markdown",
   "metadata": {},
   "source": [
    "## Exercise 2\n",
    "\n",
    "First, load in the `USpresidents.txt` file as a list of lists.\n",
    "\n",
    "*Hint: Look at Lab 4A to remember file operations, and use `readlines()` and `split(\":\")`.*\n",
    "\n",
    "Next, create a President class. \n",
    "1. This class should have a constructor (`__init__()` that takes one argument, the index number of the president (1-44), and instantiates an object containing associated information from the presidents.txt file. In the constructor, assign the following attributes:\n",
    "- term_number\n",
    "- first_name\n",
    "- last_name\n",
    "- birth_date\n",
    "- death_date\n",
    "- birth_place\n",
    "- birth_state\n",
    "- term_start_date\n",
    "- term_end_date\n",
    "- party\n",
    "\n",
    "For example:\n",
    "```python\n",
    "obama = President(44)\n",
    "obama.first_name # Barack\n",
    "obama.term_start_date # 2009-01-20\n",
    "obama.party # Democratic\n",
    "```\n",
    "\n",
    "2. Add a method `inauguration_age()` that calculate's the president's age at the start of their term.\n",
    "\n",
    "3. Add a method `plot_ages()` that uses `matplotlib` to create a line plot with all of the president's inaugural ages versus their term number (1-44). Add a red dot for the specific instance's president (at the coordinate (`self.term_number`, `self.inauguration_age`))."
   ]
  },
  {
   "cell_type": "code",
   "execution_count": null,
   "metadata": {},
   "outputs": [],
   "source": []
  }
 ],
 "metadata": {
  "kernelspec": {
   "display_name": "Python 3 (ipykernel)",
   "language": "python",
   "name": "python3"
  },
  "language_info": {
   "codemirror_mode": {
    "name": "ipython",
    "version": 3
   },
   "file_extension": ".py",
   "mimetype": "text/x-python",
   "name": "python",
   "nbconvert_exporter": "python",
   "pygments_lexer": "ipython3",
   "version": "3.8.17"
  }
 },
 "nbformat": 4,
 "nbformat_minor": 4
}

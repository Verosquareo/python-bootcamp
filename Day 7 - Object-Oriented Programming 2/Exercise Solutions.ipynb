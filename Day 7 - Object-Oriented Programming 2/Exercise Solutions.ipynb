{
 "cells": [
  {
   "cell_type": "markdown",
   "id": "acb5ae370ae9b42",
   "metadata": {},
   "source": [
    "# Exercise Solutions - Day 7\n",
    "*August 7, 2024*\n",
    "\n",
    "*I School Python Bootcamp*\n",
    "\n",
    "*Author: Lauren Chambers*\n",
    "\n",
    "## Lab 7A - Inheritance & Private Methods"
   ]
  },
  {
   "cell_type": "markdown",
   "id": "228aa48353c20a1f",
   "metadata": {},
   "source": [
    "### Exercise 1\n",
    "*Private methods*\n",
    "\n",
    "Create a new class, `Fraction`:\n",
    "- The constructor should assign two attributes: a numerator and denominator.\n",
    "- Add a private method to define how multiplication works. It should look like this to start:\n",
    "    ```python\n",
    "    def __mul__(self, other_fraction):\n",
    "        # Your code\n",
    "        return product\n",
    "    ```\n",
    "- Add a private method to define the string representation of the fraction.\n",
    "- Test out your code by defining two fractions, printing them out, and multiplying them by one another."
   ]
  },
  {
   "cell_type": "code",
   "execution_count": 53,
   "id": "451375fc48b8f17d",
   "metadata": {},
   "outputs": [],
   "source": [
    "class Fraction:\n",
    "    # constructor method\n",
    "    def __init__(self, numerator, denominator):\n",
    "        self.n = numerator\n",
    "        self.d = denominator\n",
    "\n",
    "    # private multiplication method\n",
    "    def __mul__(self, other_fraction):\n",
    "        # Option 1: Return product as float\n",
    "        # product = (self.n * other_fraction.n) / (self.d * other_fraction.d)\n",
    "\n",
    "        # Option 2: Return product as fraction\n",
    "        product = Fraction(self.n * other_fraction.n, self.d * other_fraction.d)\n",
    "        return product\n",
    "\n",
    "    # private string representation method\n",
    "    def __str__(self):\n",
    "        return f\"{self.n}/{self.d}\" # \"{}/{}\".format(self.n, self.d)\n",
    "\n",
    "    # Bonus challenge: work out how to simplify fractions using their greatest common denominator\n",
    "    # def simplify(n, d):\n",
    "    #     '''divides two integers by their common factor.'''\n",
    "    #     common_factor = fractionsgcd(n, d)\n",
    "    #     n /= common_factor\n",
    "    #     d /= common_factor\n",
    "    #     return n, d"
   ]
  },
  {
   "cell_type": "code",
   "execution_count": 54,
   "id": "39c609cb-6fb7-497e-9fe0-dcd3cc86d03c",
   "metadata": {},
   "outputs": [
    {
     "name": "stdout",
     "output_type": "stream",
     "text": [
      "3/5\n"
     ]
    }
   ],
   "source": [
    "f = Fraction(3, 5)\n",
    "print(f)"
   ]
  },
  {
   "cell_type": "code",
   "execution_count": 56,
   "id": "60bc9585-6468-4b3a-9135-15e605d31659",
   "metadata": {},
   "outputs": [
    {
     "name": "stdout",
     "output_type": "stream",
     "text": [
      "3/15\n"
     ]
    }
   ],
   "source": [
    "prod = Fraction(3, 5) * Fraction(1, 3)\n",
    "print(prod)"
   ]
  },
  {
   "cell_type": "markdown",
   "id": "76cbe0dd6f8a8f19",
   "metadata": {},
   "source": [
    "### Exercise 2\n",
    "*Inheritance*\n",
    "\n",
    "Create a basic inheritance structure where a child class inherits from a parent class and overrides a method:\n",
    "\n",
    " - Create a class named `Animal` with a method `speak()` that prints \"The animal makes a sound.\"\n",
    "- Create a subclass named `Dog` that inherits from `Animal`.\n",
    "- Override the `speak()` method in the `Dog` class to print \"The dog barks.\""
   ]
  },
  {
   "cell_type": "code",
   "execution_count": 7,
   "id": "8f2aab752e48ed5c",
   "metadata": {},
   "outputs": [],
   "source": [
    "# Parent class\n",
    "class Animal:\n",
    "    def speak(self):\n",
    "        print(\"The animal makes a sound\")\n",
    "\n",
    "# Subclass\n",
    "class Dog(Animal):\n",
    "    def speak(self):\n",
    "        print(\"The dog barks\")"
   ]
  },
  {
   "cell_type": "code",
   "execution_count": 9,
   "id": "cdd7283e-46b5-4568-86aa-26840a157049",
   "metadata": {},
   "outputs": [
    {
     "name": "stdout",
     "output_type": "stream",
     "text": [
      "The animal makes a sound\n"
     ]
    }
   ],
   "source": [
    "tiger = Animal()\n",
    "tiger.speak()"
   ]
  },
  {
   "cell_type": "code",
   "execution_count": 11,
   "id": "2a5452da-62fa-46c1-8734-4b9dc1501c81",
   "metadata": {},
   "outputs": [
    {
     "name": "stdout",
     "output_type": "stream",
     "text": [
      "The dog barks\n"
     ]
    }
   ],
   "source": [
    "chihuahua = Dog()\n",
    "chihuahua.speak()"
   ]
  },
  {
   "cell_type": "markdown",
   "id": "9de1cd7a-18c8-4ca5-9a49-c19587e54f36",
   "metadata": {},
   "source": [
    "## Lab 7B - OOP in Practice"
   ]
  },
  {
   "cell_type": "markdown",
   "id": "808238c9",
   "metadata": {},
   "source": [
    "### Exercise 1\n",
    "\n",
    "Write a Python program to create a class representing a `Ellipse`. Include:\n",
    "- methods to calculate its area and perimeter (Google the formulas if you don't remember 😉)\n",
    "- a method to flip the ellipse, that is, swap its x-radius and its y-radius\n",
    "- a method to draw the ellipse using `drawsvg` (see [here](https://cduck.github.io/drawsvg/#ellipse) for documentation)"
   ]
  },
  {
   "cell_type": "code",
   "execution_count": 21,
   "id": "3f8fa8bb",
   "metadata": {},
   "outputs": [],
   "source": [
    "import math"
   ]
  },
  {
   "cell_type": "code",
   "execution_count": 69,
   "id": "c9ac9603",
   "metadata": {},
   "outputs": [],
   "source": [
    "class Ellipse:\n",
    "    # constructor method\n",
    "    def __init__(self, rx, ry):\n",
    "        self.rx = rx\n",
    "        self.ry = ry\n",
    "\n",
    "    def area(self):\n",
    "        # Area = 2π * r_x * r_y\n",
    "        return math.pi * self.rx * self.ry\n",
    "\n",
    "    def perimeter_approx(self):\n",
    "        # See https://www.mathsisfun.com/geometry/ellipse-perimeter.html\n",
    "        return 2 * math.pi * ((self.rx**2 + self.ry**2) / 2)**.5\n",
    "\n",
    "    def flip(self):\n",
    "        # First save out old versions of rx and ry\n",
    "        old_rx = self.rx\n",
    "        old_ry = self.ry\n",
    "\n",
    "        # Then reassign\n",
    "        self.rx = old_ry\n",
    "        self.ry = old_rx\n",
    "\n",
    "    def draw(self):\n",
    "        # Initialize\n",
    "        d = draw.Drawing(300, 250, \"center\")\n",
    "        # Draw\n",
    "        ellipse = draw.Ellipse(0, 0, self.rx, self.ry, \n",
    "                               fill=\"none\", stroke=\"black\")\n",
    "        d.append(ellipse)\n",
    "        # Display\n",
    "        return d"
   ]
  },
  {
   "cell_type": "code",
   "execution_count": 70,
   "id": "704b90ed",
   "metadata": {},
   "outputs": [
    {
     "data": {
      "text/plain": [
       "<__main__.Ellipse at 0x7f8dd00c8820>"
      ]
     },
     "execution_count": 70,
     "metadata": {},
     "output_type": "execute_result"
    }
   ],
   "source": [
    "e = Ellipse(100, 50)\n",
    "e"
   ]
  },
  {
   "cell_type": "code",
   "execution_count": 71,
   "id": "e8066f3c",
   "metadata": {},
   "outputs": [
    {
     "data": {
      "text/plain": [
       "15707.963267948966"
      ]
     },
     "execution_count": 71,
     "metadata": {},
     "output_type": "execute_result"
    }
   ],
   "source": [
    "e.area()"
   ]
  },
  {
   "cell_type": "code",
   "execution_count": 72,
   "id": "aa576821",
   "metadata": {},
   "outputs": [
    {
     "data": {
      "text/plain": [
       "496.7294132898051"
      ]
     },
     "execution_count": 72,
     "metadata": {},
     "output_type": "execute_result"
    }
   ],
   "source": [
    "e.perimeter_approx()"
   ]
  },
  {
   "cell_type": "code",
   "execution_count": 73,
   "id": "0c217e9b",
   "metadata": {},
   "outputs": [
    {
     "data": {
      "image/svg+xml": [
       "<?xml version=\"1.0\" encoding=\"UTF-8\"?>\n",
       "<svg xmlns=\"http://www.w3.org/2000/svg\" xmlns:xlink=\"http://www.w3.org/1999/xlink\"\n",
       "     width=\"300\" height=\"250\" viewBox=\"-150.0 -125.0 300 250\">\n",
       "<defs>\n",
       "</defs>\n",
       "<ellipse cx=\"0\" cy=\"0\" rx=\"100\" ry=\"50\" fill=\"none\" stroke=\"black\" />\n",
       "</svg>"
      ],
      "text/plain": [
       "<drawsvg.drawing.Drawing at 0x7f8dd00baf40>"
      ]
     },
     "execution_count": 73,
     "metadata": {},
     "output_type": "execute_result"
    }
   ],
   "source": [
    "e.draw()"
   ]
  },
  {
   "cell_type": "code",
   "execution_count": 74,
   "id": "7112a63b",
   "metadata": {},
   "outputs": [],
   "source": [
    "e.flip()"
   ]
  },
  {
   "cell_type": "code",
   "execution_count": 75,
   "id": "179f13bb",
   "metadata": {},
   "outputs": [
    {
     "data": {
      "image/svg+xml": [
       "<?xml version=\"1.0\" encoding=\"UTF-8\"?>\n",
       "<svg xmlns=\"http://www.w3.org/2000/svg\" xmlns:xlink=\"http://www.w3.org/1999/xlink\"\n",
       "     width=\"300\" height=\"250\" viewBox=\"-150.0 -125.0 300 250\">\n",
       "<defs>\n",
       "</defs>\n",
       "<ellipse cx=\"0\" cy=\"0\" rx=\"50\" ry=\"100\" fill=\"none\" stroke=\"black\" />\n",
       "</svg>"
      ],
      "text/plain": [
       "<drawsvg.drawing.Drawing at 0x7f8dd00c8730>"
      ]
     },
     "execution_count": 75,
     "metadata": {},
     "output_type": "execute_result"
    }
   ],
   "source": [
    "e.draw()"
   ]
  },
  {
   "cell_type": "markdown",
   "id": "13d0cfd6",
   "metadata": {},
   "source": [
    "### Exercise 2\n",
    "\n",
    "First, load in the `USpresidents.txt` file as a list of lists.\n",
    "\n",
    "*Hint: Look at Lab 4A to remember file operations, and use `readlines()` and `split(\":\")`.*\n",
    "\n",
    "Next, create a President class. \n",
    "1. This class should have a constructor (`__init__()` that takes one argument, the index number of the president (1-44), and instantiates an object containing associated information from the presidents.txt file. In the constructor, assign the following attributes:\n",
    "- term_number\n",
    "- first_name\n",
    "- last_name\n",
    "- birth_date\n",
    "- death_date\n",
    "- birth_place\n",
    "- birth_state\n",
    "- term_start_date\n",
    "- term_end_date\n",
    "- party\n",
    "\n",
    "For example:\n",
    "```python\n",
    "obama = President(44)\n",
    "obama.first_name # Barack\n",
    "obama.term_start_date # 2009-01-20\n",
    "obama.party # Democratic\n",
    "```\n",
    "\n",
    "2. Add a method `inauguration_age()` that calculate's the president's age at the start of their term.\n",
    "\n",
    "3. Add a method `plot_ages()` that uses `matplotlib` to create a line plot with all of the president's inaugural ages versus their term number (1-44). Add a red dot for the specific instance's president (at the coordinate (`self.term_number`, `self.inauguration_age`))."
   ]
  },
  {
   "cell_type": "code",
   "execution_count": 78,
   "id": "9f15437b",
   "metadata": {
    "scrolled": true
   },
   "outputs": [
    {
     "data": {
      "text/plain": [
       "[['1',\n",
       "  'Washington',\n",
       "  'George',\n",
       "  '1732-02-22',\n",
       "  '1799-12-14',\n",
       "  'Westmoreland County',\n",
       "  'Virginia',\n",
       "  '1789-04-30',\n",
       "  '1797-03-04',\n",
       "  'no party'],\n",
       " ['2',\n",
       "  'Adams',\n",
       "  'John',\n",
       "  '1735-10-30',\n",
       "  '1826-07-04',\n",
       "  'Braintree, Norfolk',\n",
       "  'Massachusetts',\n",
       "  '1797-03-04',\n",
       "  '1801-03-04',\n",
       "  'Federalist'],\n",
       " ['3',\n",
       "  'Jefferson',\n",
       "  'Thomas',\n",
       "  '1743-04-13',\n",
       "  '1826-07-04',\n",
       "  'Albermarle County',\n",
       "  'Virginia',\n",
       "  '1801-03-04',\n",
       "  '1809-03-04',\n",
       "  'Democratic - Republican'],\n",
       " ['4',\n",
       "  'Madison',\n",
       "  'James',\n",
       "  '1751-03-16',\n",
       "  '1836-06-28',\n",
       "  'Port Conway',\n",
       "  'Virginia',\n",
       "  '1809-03-04',\n",
       "  '1817-03-04',\n",
       "  'Democratic - Republican'],\n",
       " ['5',\n",
       "  'Monroe',\n",
       "  'James',\n",
       "  '1758-04-28',\n",
       "  '1831-07-04',\n",
       "  'Westmoreland County',\n",
       "  'Virginia',\n",
       "  '1817-03-04',\n",
       "  '1825-03-04',\n",
       "  'Democratic - Republican'],\n",
       " ['6',\n",
       "  'Adams',\n",
       "  'John Quincy',\n",
       "  '1767-07-11',\n",
       "  '1848-02-23',\n",
       "  'Braintree, Norfolk',\n",
       "  'Massachusetts',\n",
       "  '1825-03-04',\n",
       "  '1829-03-04',\n",
       "  'Democratic - Republican'],\n",
       " ['7',\n",
       "  'Jackson',\n",
       "  'Andrew',\n",
       "  '1767-03-15',\n",
       "  '1845-06-08',\n",
       "  'Waxhaw',\n",
       "  'South Carolina',\n",
       "  '1829-03-04',\n",
       "  '1837-03-04',\n",
       "  'Democratic'],\n",
       " ['8',\n",
       "  'Van Buren',\n",
       "  'Martin',\n",
       "  '1782-12-05',\n",
       "  '1862-07-24',\n",
       "  'Kinderhook',\n",
       "  'New York',\n",
       "  '1837-03-04',\n",
       "  '1841-03-04',\n",
       "  'Democratic'],\n",
       " ['9',\n",
       "  'Harrison',\n",
       "  'William Henry',\n",
       "  '1773-02-09',\n",
       "  '1841-04-04',\n",
       "  'Berkeley',\n",
       "  'Virginia',\n",
       "  '1841-03-04',\n",
       "  '1841-04-04',\n",
       "  'Whig'],\n",
       " ['10',\n",
       "  'Tyler',\n",
       "  'John',\n",
       "  '1790-03-29',\n",
       "  '1862-01-18',\n",
       "  'Charles City County',\n",
       "  'Virginia',\n",
       "  '1841-04-04',\n",
       "  '1845-03-04',\n",
       "  'Whig'],\n",
       " ['11',\n",
       "  'Polk',\n",
       "  'James Knox',\n",
       "  '1795-11-02',\n",
       "  '1849-06-15',\n",
       "  'Mecklenburg County',\n",
       "  'North Carolina',\n",
       "  '1845-03-04',\n",
       "  '1849-03-03',\n",
       "  'Democratic'],\n",
       " ['12',\n",
       "  'Taylor',\n",
       "  'Zachary',\n",
       "  '1784-11-24',\n",
       "  '1850-07-09',\n",
       "  'Orange County',\n",
       "  'Virginia',\n",
       "  '1849-03-05',\n",
       "  '1850-07-09',\n",
       "  'Whig'],\n",
       " ['13',\n",
       "  'Fillmore',\n",
       "  'Millard',\n",
       "  '1800-01-07',\n",
       "  '1874-03-08',\n",
       "  'Cayuga County',\n",
       "  'New York',\n",
       "  '1850-07-09',\n",
       "  '1853-03-04',\n",
       "  'Whig'],\n",
       " ['14',\n",
       "  'Pierce',\n",
       "  'Franklin',\n",
       "  '1804-11-23',\n",
       "  '1869-10-08',\n",
       "  'Hillsboro',\n",
       "  'New Hampshire',\n",
       "  '1853-03-04',\n",
       "  '1857-03-04',\n",
       "  'Democratic'],\n",
       " ['15',\n",
       "  'Buchanan',\n",
       "  'James',\n",
       "  '1791-04-23',\n",
       "  '1868-06-01',\n",
       "  'Cove Gap',\n",
       "  'Pennsylvania',\n",
       "  '1857-03-04',\n",
       "  '1861-03-04',\n",
       "  'Democratic'],\n",
       " ['16',\n",
       "  'Lincoln',\n",
       "  'Abraham',\n",
       "  '1809-02-12',\n",
       "  '1865-04-15',\n",
       "  'Hodgenville, Hardin County',\n",
       "  'Kentucky',\n",
       "  '1861-03-04',\n",
       "  '1865-04-15',\n",
       "  'Republican'],\n",
       " ['17',\n",
       "  'Johnson',\n",
       "  'Andrew',\n",
       "  '1808-12-29',\n",
       "  '1875-07-31',\n",
       "  'Raleigh',\n",
       "  'North Carolina',\n",
       "  '1865-04-15',\n",
       "  '1869-03-04',\n",
       "  'Republican'],\n",
       " ['18',\n",
       "  'Grant',\n",
       "  'Ulysses Simpson',\n",
       "  '1822-04-27',\n",
       "  '1885-07-23',\n",
       "  'Point Pleasant',\n",
       "  'Ohio',\n",
       "  '1869-03-04',\n",
       "  '1877-03-04',\n",
       "  'Republican'],\n",
       " ['19',\n",
       "  'Hayes',\n",
       "  'Rutherford Birchard',\n",
       "  '1822-10-04',\n",
       "  '1893-01-17',\n",
       "  'Delaware',\n",
       "  'Ohio',\n",
       "  '1877-03-04',\n",
       "  '1881-03-04',\n",
       "  'Republican'],\n",
       " ['20',\n",
       "  'Garfield',\n",
       "  'James Abram',\n",
       "  '1831-11-19',\n",
       "  '1881-09-19',\n",
       "  'Orange, Cuyahoga County',\n",
       "  'Ohio',\n",
       "  '1881-03-04',\n",
       "  '1881-09-19',\n",
       "  'Republican'],\n",
       " ['21',\n",
       "  'Arthur',\n",
       "  'Chester Alan',\n",
       "  '1829-10-05',\n",
       "  '1886-11-18',\n",
       "  'Fairfield',\n",
       "  'Vermont',\n",
       "  '1881-09-20',\n",
       "  '1885-03-04',\n",
       "  'Republican'],\n",
       " ['22',\n",
       "  'Cleveland',\n",
       "  'Grover',\n",
       "  '1837-03-18',\n",
       "  '1908-06-24',\n",
       "  'Caldwell',\n",
       "  'New Jersey',\n",
       "  '1885-03-04',\n",
       "  '1889-03-04',\n",
       "  'Democratic'],\n",
       " ['23',\n",
       "  'Harrison',\n",
       "  'Benjamin',\n",
       "  '1833-08-20',\n",
       "  '1901-03-13',\n",
       "  'North Bend',\n",
       "  'Ohio',\n",
       "  '1889-03-04',\n",
       "  '1893-03-04',\n",
       "  'Republican'],\n",
       " ['24',\n",
       "  'Cleveland',\n",
       "  'Grover',\n",
       "  '1837-03-18',\n",
       "  '1908-06-24',\n",
       "  'Caldwell',\n",
       "  'New Jersey',\n",
       "  '1893-03-04',\n",
       "  '1897-03-04',\n",
       "  'Democratic'],\n",
       " ['25',\n",
       "  'McKinley',\n",
       "  'William',\n",
       "  '1843-01-29',\n",
       "  '1901-09-14',\n",
       "  'Niles',\n",
       "  'Ohio',\n",
       "  '1897-03-04',\n",
       "  '1901-09-14',\n",
       "  'Republican'],\n",
       " ['26',\n",
       "  'Roosevelt',\n",
       "  'Theodore',\n",
       "  '1858-10-27',\n",
       "  '1919-01-06',\n",
       "  'New York City',\n",
       "  'New York',\n",
       "  '1901-09-14',\n",
       "  '1909-03-04',\n",
       "  'Republican'],\n",
       " ['27',\n",
       "  'Taft',\n",
       "  'William Howard',\n",
       "  '1857-09-15',\n",
       "  '1930-03-08',\n",
       "  'Cincinnati',\n",
       "  'Ohio',\n",
       "  '1909-03-04',\n",
       "  '1913-03-04',\n",
       "  'Republican'],\n",
       " ['28',\n",
       "  'Wilson',\n",
       "  'Woodrow',\n",
       "  '1856-12-28',\n",
       "  '1924-02-03',\n",
       "  'Staunton',\n",
       "  'Virginia',\n",
       "  '1913-03-04',\n",
       "  '1921-03-04',\n",
       "  'Democratic'],\n",
       " ['29',\n",
       "  'Harding',\n",
       "  'Warren Gamaliel',\n",
       "  '1865-11-02',\n",
       "  '1923-08-02',\n",
       "  'Blooming Grove',\n",
       "  'Ohio',\n",
       "  '1921-03-04',\n",
       "  '1923-08-02',\n",
       "  'Republican'],\n",
       " ['30',\n",
       "  'Coolidge',\n",
       "  'Calvin',\n",
       "  '1872-07-04',\n",
       "  '1933-01-05',\n",
       "  'Plymouth',\n",
       "  'Vermont',\n",
       "  '1923-08-03',\n",
       "  '1929-03-04',\n",
       "  'Republican'],\n",
       " ['31',\n",
       "  'Hoover',\n",
       "  'Herbert Clark',\n",
       "  '1874-08-10',\n",
       "  '1964-10-20',\n",
       "  'West Branch',\n",
       "  'Iowa',\n",
       "  '1929-03-04',\n",
       "  '1933-03-04',\n",
       "  'Republican'],\n",
       " ['32',\n",
       "  'Roosevelt',\n",
       "  'Franklin Delano',\n",
       "  '1882-01-30',\n",
       "  '1945-04-12',\n",
       "  'Hyde Park',\n",
       "  'New York',\n",
       "  '1933-03-04',\n",
       "  '1945-04-12',\n",
       "  'Democratic'],\n",
       " ['33',\n",
       "  'Truman',\n",
       "  'Harry S.',\n",
       "  '1884-05-08',\n",
       "  '1972-12-26',\n",
       "  'Lamar',\n",
       "  'Missouri',\n",
       "  '1945-04-12',\n",
       "  '1953-01-20',\n",
       "  'Democratic'],\n",
       " ['34',\n",
       "  'Eisenhower',\n",
       "  'Dwight David',\n",
       "  '1890-10-14',\n",
       "  '1969-03-28',\n",
       "  'Denison',\n",
       "  'Texas',\n",
       "  '1953-01-20',\n",
       "  '1961-01-20',\n",
       "  'Republican'],\n",
       " ['35',\n",
       "  'Kennedy',\n",
       "  'John Fitzgerald',\n",
       "  '1917-05-29',\n",
       "  '1963-11-22',\n",
       "  'Brookline',\n",
       "  'Massachusetts',\n",
       "  '1961-01-20',\n",
       "  '1963-11-22',\n",
       "  'Democratic'],\n",
       " ['36',\n",
       "  'Johnson',\n",
       "  'Lyndon Baines',\n",
       "  '1908-08-27',\n",
       "  '1973-01-22',\n",
       "  'near Stonewall',\n",
       "  'Texas',\n",
       "  '1963-11-22',\n",
       "  '1969-01-20',\n",
       "  'Democratic'],\n",
       " ['37',\n",
       "  'Nixon',\n",
       "  'Richard Milhous',\n",
       "  '1913-01-09',\n",
       "  '1994-04-22',\n",
       "  'Yorba Linda',\n",
       "  'California',\n",
       "  '1969-01-20',\n",
       "  '1974-08-09',\n",
       "  'Republican'],\n",
       " ['38',\n",
       "  'Ford',\n",
       "  'Gerald Rudolph',\n",
       "  '1913-07-14',\n",
       "  '2006-12-26',\n",
       "  'Omaha',\n",
       "  'Nebraska',\n",
       "  '1974-08-09',\n",
       "  '1977-01-20',\n",
       "  'Republican'],\n",
       " ['39',\n",
       "  'Carter',\n",
       "  \"James Earl 'Jimmy'\",\n",
       "  '1924-10-01',\n",
       "  'NONE',\n",
       "  'Plains',\n",
       "  'Georgia',\n",
       "  '1977-01-20',\n",
       "  '1981-01-20',\n",
       "  'Democratic'],\n",
       " ['40',\n",
       "  'Reagan',\n",
       "  'Ronald Wilson',\n",
       "  '1911-02-06',\n",
       "  '2004-06-05',\n",
       "  'Tampico',\n",
       "  'Illinois',\n",
       "  '1981-01-20',\n",
       "  '1989-01-20',\n",
       "  'Republican'],\n",
       " ['41',\n",
       "  'Bush',\n",
       "  'George Herbert Walker',\n",
       "  '1924-06-12',\n",
       "  'NONE',\n",
       "  'Milton',\n",
       "  'Massachusetts',\n",
       "  '1989-01-20',\n",
       "  '1993-01-20',\n",
       "  'Republican'],\n",
       " ['42',\n",
       "  'Clinton',\n",
       "  \"William Jefferson 'Bill'\",\n",
       "  '1946-08-19',\n",
       "  'NONE',\n",
       "  'Hope',\n",
       "  'Arkansas',\n",
       "  '1993-01-20',\n",
       "  '2001-01-20',\n",
       "  'Democratic'],\n",
       " ['43',\n",
       "  'Bush',\n",
       "  'George Walker',\n",
       "  '1946-07-06',\n",
       "  'NONE',\n",
       "  'New Haven',\n",
       "  'Connecticut',\n",
       "  '2001-01-20',\n",
       "  '2009-01-20',\n",
       "  'Republican'],\n",
       " ['44',\n",
       "  'Obama',\n",
       "  'Barack Hussein',\n",
       "  '1961-08-04',\n",
       "  'NONE',\n",
       "  'Honolulu',\n",
       "  'Hawaii',\n",
       "  '2009-01-20',\n",
       "  '2016-01-20',\n",
       "  'Democratic']]"
      ]
     },
     "execution_count": 78,
     "metadata": {},
     "output_type": "execute_result"
    }
   ],
   "source": [
    "# Load in the presidents data\n",
    "with open(\"USpresidents.txt\", \"r\") as fo:\n",
    "    # Load each line as a list item\n",
    "    presidents_data = fo.readlines()\n",
    "\n",
    "# Split each row into lists\n",
    "presidents_data = [row.replace(\"\\n\", \"\").split(\":\") for row in presidents_data]\n",
    "presidents_data"
   ]
  },
  {
   "cell_type": "code",
   "execution_count": 114,
   "id": "ef32fffc",
   "metadata": {},
   "outputs": [],
   "source": [
    "class President:\n",
    "    def __init__(self, term_number):\n",
    "        self.term_number = term_number\n",
    "\n",
    "        for row in presidents_data:\n",
    "            num = int(row[0])\n",
    "            if num == term_number:\n",
    "                self.first_name = row[2]\n",
    "                self.last_name = row[1]\n",
    "                self.birth_date = row[3]\n",
    "                self.death_date = row[4]\n",
    "                self.birth_place = row[5]\n",
    "                self.birth_state = row[6]\n",
    "                self.term_start_date = row[7]\n",
    "                self.term_end_date = row[8]\n",
    "                self.party = row[9]\n",
    "\n",
    "    def inauguration_age(self):\n",
    "        # Turn dates (str) into years (int)\n",
    "        term_start_yr = int(self.term_start_date[:4])\n",
    "        birth_yr = int(self.birth_date[:4])\n",
    "        return term_start_yr - birth_yr\n",
    "\n",
    "    def plot_ages(self):\n",
    "        # Calculate list of term numbers for all presidents\n",
    "        term_nums = [int(row[0]) for row in presidents_data]\n",
    "\n",
    "        # Calculate list of ages for all presidents\n",
    "        term_start_yrs = [int(row[7][:4]) for row in presidents_data]\n",
    "        birth_yrs = [int(row[3][:4]) for row in presidents_data]\n",
    "        ages = [t - b for t, b in zip(term_start_yrs, birth_yrs)]\n",
    "\n",
    "        # Create figures\n",
    "        plt.figure()\n",
    "        plt.plot(term_nums, ages)\n",
    "        plt.scatter(self.term_number, self.inauguration_age(), color=\"red\")\n",
    "        plt.ylabel(\"Age (yrs)\")\n",
    "        plt.xlabel(\"Presidential Term Number\")\n",
    "        return plt.show()"
   ]
  },
  {
   "cell_type": "code",
   "execution_count": 115,
   "id": "46a716b6",
   "metadata": {},
   "outputs": [
    {
     "name": "stdout",
     "output_type": "stream",
     "text": [
      "Barack Hussein\n",
      "1961-08-04\n",
      "Hawaii\n",
      "2009-01-20\n",
      "Democratic\n"
     ]
    }
   ],
   "source": [
    "obama = President(44)\n",
    "print(obama.first_name)\n",
    "print(obama.birth_date)\n",
    "print(obama.birth_state)\n",
    "print(obama.term_start_date)\n",
    "print(obama.party)"
   ]
  },
  {
   "cell_type": "code",
   "execution_count": 118,
   "id": "bf2c7bd1",
   "metadata": {},
   "outputs": [
    {
     "data": {
      "text/plain": [
       "48"
      ]
     },
     "execution_count": 118,
     "metadata": {},
     "output_type": "execute_result"
    }
   ],
   "source": [
    "obama.inauguration_age()"
   ]
  },
  {
   "cell_type": "code",
   "execution_count": 116,
   "id": "c90baff8",
   "metadata": {},
   "outputs": [
    {
     "data": {
      "image/png": "[encoded data removed]",
      "text/plain": [
       "<Figure size 640x480 with 1 Axes>"
      ]
     },
     "metadata": {},
     "output_type": "display_data"
    }
   ],
   "source": [
    "obama.plot_ages()"
   ]
  },
  {
   "cell_type": "code",
   "execution_count": 117,
   "id": "855166a2",
   "metadata": {},
   "outputs": [
    {
     "data": {
      "image/png": "[encoded data removed]",
      "text/plain": [
       "<Figure size 640x480 with 1 Axes>"
      ]
     },
     "metadata": {},
     "output_type": "display_data"
    }
   ],
   "source": [
    "reagan = President(40)\n",
    "reagan.plot_ages()"
   ]
  },
  {
   "cell_type": "code",
   "execution_count": null,
   "id": "33c64827",
   "metadata": {},
   "outputs": [],
   "source": []
  },
  {
   "cell_type": "code",
   "execution_count": null,
   "id": "798b4b9a",
   "metadata": {},
   "outputs": [],
   "source": []
  }
 ],
 "metadata": {
  "kernelspec": {
   "display_name": "Python 3 (ipykernel)",
   "language": "python",
   "name": "python3"
  },
  "language_info": {
   "codemirror_mode": {
    "name": "ipython",
    "version": 3
   },
   "file_extension": ".py",
   "mimetype": "text/x-python",
   "name": "python",
   "nbconvert_exporter": "python",
   "pygments_lexer": "ipython3",
   "version": "3.8.17"
  }
 },
 "nbformat": 4,
 "nbformat_minor": 5
}

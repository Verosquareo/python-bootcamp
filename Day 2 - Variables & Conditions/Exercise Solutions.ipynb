{
 "cells": [
  {
   "cell_type": "markdown",
   "id": "cc6757fffa530216",
   "metadata": {},
   "source": [
    "### Exercise Solutions - Day 2\n",
    "*July 30, 2024*\n",
    "\n",
    "*I School Python Bootcamp*\n",
    "\n",
    "*Author: Lauren Chambers<br>Modified from exercises by George McIntire, Hellina Nigatu, & Kat Tian*\n",
    "\n",
    "## Lab 2A - Variable Types"
   ]
  },
  {
   "cell_type": "markdown",
   "id": "814b9011d4186354",
   "metadata": {},
   "source": [
    "### Exercise 1"
   ]
  },
  {
   "cell_type": "code",
   "execution_count": 100,
   "id": "b2aae66814e9cae8",
   "metadata": {},
   "outputs": [],
   "source": [
    "a = 1.0\n",
    "b = \"1\"\n",
    "c = \"1.1\""
   ]
  },
  {
   "cell_type": "markdown",
   "id": "b77cf5cba19292f2",
   "metadata": {},
   "source": [
    "What do each of these operations do?"
   ]
  },
  {
   "cell_type": "markdown",
   "id": "e57f2124d65a15f7",
   "metadata": {},
   "source": [
    "1. `a + float(b)`\n",
    "2. `float(b) + float(c)`\n",
    "3. `a + int(c)`\n",
    "4. `a + int(float(c))`\n",
    "5. `int(a) + int(float(c))`\n",
    "6. `2.0 * b`"
   ]
  },
  {
   "cell_type": "code",
   "execution_count": 102,
   "id": "b4d19993-3b74-4846-a4f8-f6ef89436722",
   "metadata": {},
   "outputs": [
    {
     "data": {
      "text/plain": [
       "2.0"
      ]
     },
     "execution_count": 102,
     "metadata": {},
     "output_type": "execute_result"
    }
   ],
   "source": [
    "a + float(b)\n",
    "# adding float (a = 1.0) and float converted from a string (b = \"1\")."
   ]
  },
  {
   "cell_type": "code",
   "execution_count": 103,
   "id": "eea0db15-b277-47bf-a1fc-339b519f3c49",
   "metadata": {},
   "outputs": [
    {
     "data": {
      "text/plain": [
       "2.1"
      ]
     },
     "execution_count": 103,
     "metadata": {},
     "output_type": "execute_result"
    }
   ],
   "source": [
    "float(b) + float(c)\n",
    "# adding float converted from a string (b = \"1\") and\n",
    "# float converted from a string (c = \"1.1\") and"
   ]
  },
  {
   "cell_type": "code",
   "execution_count": 104,
   "id": "cc2094cb-f1c7-47dd-9f53-9a42c2c0a970",
   "metadata": {},
   "outputs": [
    {
     "ename": "ValueError",
     "evalue": "invalid literal for int() with base 10: '1.1'",
     "output_type": "error",
     "traceback": [
      "\u001b[0;31m---------------------------------------------------------------------------\u001b[0m",
      "\u001b[0;31mValueError\u001b[0m                                Traceback (most recent call last)",
      "Cell \u001b[0;32mIn[104], line 1\u001b[0m\n\u001b[0;32m----> 1\u001b[0m a \u001b[38;5;241m+\u001b[39m \u001b[38;5;28;43mint\u001b[39;49m\u001b[43m(\u001b[49m\u001b[43mc\u001b[49m\u001b[43m)\u001b[49m\n",
      "\u001b[0;31mValueError\u001b[0m: invalid literal for int() with base 10: '1.1'"
     ]
    }
   ],
   "source": [
    "a + int(c)\n",
    "# Error! c = \"1.1\" which is not an integer. Cannot convert c to an integer."
   ]
  },
  {
   "cell_type": "code",
   "execution_count": 105,
   "id": "e6e28b37-d639-4528-9909-e1807b54cf15",
   "metadata": {},
   "outputs": [
    {
     "data": {
      "text/plain": [
       "2.0"
      ]
     },
     "execution_count": 105,
     "metadata": {},
     "output_type": "execute_result"
    }
   ],
   "source": [
    "a + int(float(c))\n",
    "# adding float (a = 1.0) and an integer converted from a \n",
    "# float converted from a string (c = \"1.1\"). \n",
    "# conversion to int rounds c down to 1.\n",
    "# NOTE: implicit conversion here: float + int = float"
   ]
  },
  {
   "cell_type": "code",
   "execution_count": 106,
   "id": "30e90c82-fd54-4d30-83b4-a5be913b9100",
   "metadata": {},
   "outputs": [
    {
     "data": {
      "text/plain": [
       "2"
      ]
     },
     "execution_count": 106,
     "metadata": {},
     "output_type": "execute_result"
    }
   ],
   "source": [
    "int(a) + int(float(c))\n",
    "# adding integer converted from a float (a = 1.0) and an \n",
    "# integer converted from a float converted from a string (c = \"1.1\").\n",
    "# conversion to int rounds c down to 1."
   ]
  },
  {
   "cell_type": "code",
   "execution_count": 107,
   "id": "3861b729-da18-4dfe-9273-3c8b30bd079d",
   "metadata": {},
   "outputs": [
    {
     "ename": "TypeError",
     "evalue": "can't multiply sequence by non-int of type 'float'",
     "output_type": "error",
     "traceback": [
      "\u001b[0;31m---------------------------------------------------------------------------\u001b[0m",
      "\u001b[0;31mTypeError\u001b[0m                                 Traceback (most recent call last)",
      "Cell \u001b[0;32mIn[107], line 1\u001b[0m\n\u001b[0;32m----> 1\u001b[0m \u001b[38;5;241;43m2.0\u001b[39;49m\u001b[43m \u001b[49m\u001b[38;5;241;43m*\u001b[39;49m\u001b[43m \u001b[49m\u001b[43mb\u001b[49m\n",
      "\u001b[0;31mTypeError\u001b[0m: can't multiply sequence by non-int of type 'float'"
     ]
    }
   ],
   "source": [
    "2.0 * b\n",
    "# Error! Cannot multiple a float (2.0) times a string (b = \"1\")\n",
    "# note that `2 * b` would be fine, resulting in \"11\""
   ]
  },
  {
   "cell_type": "markdown",
   "id": "3163eef7c5a62041",
   "metadata": {},
   "source": [
    "### Exercise 2\n",
    "\n",
    "Write out a sentence without punctuation and then _concatenate_ it with a period, exclamation point or question mark."
   ]
  },
  {
   "cell_type": "code",
   "execution_count": 109,
   "id": "a0ad63b068627fe2",
   "metadata": {},
   "outputs": [],
   "source": [
    "sentence = \"\"\n",
    "period = \".\"\n",
    "exclamation_point = \"!\"\n",
    "question_mark = \"?\""
   ]
  },
  {
   "cell_type": "code",
   "execution_count": 110,
   "id": "54bf08ab-ec13-4b91-886a-61cc8a121dd2",
   "metadata": {},
   "outputs": [
    {
     "data": {
      "text/plain": [
       "'How are you doing today?'"
      ]
     },
     "execution_count": 110,
     "metadata": {},
     "output_type": "execute_result"
    }
   ],
   "source": [
    "sentence = \"How are you doing today\"\n",
    "sentence + question_mark # string concatenation uses +"
   ]
  },
  {
   "cell_type": "markdown",
   "id": "52f16ec9f758740",
   "metadata": {},
   "source": [
    "### Exercise 3\n",
    "\n",
    "Why do the following code snippets produce errors? If you need help, pay attention to the error messages in the tracebacks"
   ]
  },
  {
   "cell_type": "code",
   "execution_count": 124,
   "id": "8d823a9739be6ef2",
   "metadata": {},
   "outputs": [
    {
     "ename": "SyntaxError",
     "evalue": "EOL while scanning string literal (91141951.py, line 1)",
     "output_type": "error",
     "traceback": [
      "\u001b[0;36m  Cell \u001b[0;32mIn[124], line 1\u001b[0;36m\u001b[0m\n\u001b[0;31m    print('I love python\")\u001b[0m\n\u001b[0m                          ^\u001b[0m\n\u001b[0;31mSyntaxError\u001b[0m\u001b[0;31m:\u001b[0m EOL while scanning string literal\n"
     ]
    }
   ],
   "source": [
    "print('I love python\")\n",
    "# The quotes don't match. The first is a single quote ' while the \n",
    "# second is a double \". Note the error message: EOL (end of line) while\n",
    "# scanning string literal - it's saying, \"hey I was looking for the end\n",
    "# of the quote, but I hit the end of a line first!\""
   ]
  },
  {
   "cell_type": "code",
   "execution_count": 4,
   "id": "5c6d88d5219fcf1f",
   "metadata": {},
   "outputs": [
    {
     "ename": "NameError",
     "evalue": "name 'super_variable' is not defined",
     "output_type": "error",
     "traceback": [
      "\u001b[0;31m---------------------------------------------------------------------------\u001b[0m",
      "\u001b[0;31mNameError\u001b[0m                                 Traceback (most recent call last)",
      "Cell \u001b[0;32mIn[4], line 1\u001b[0m\n\u001b[0;32m----> 1\u001b[0m \u001b[38;5;28mprint\u001b[39m(\u001b[43msuper_variable\u001b[49m)\n",
      "\u001b[0;31mNameError\u001b[0m: name 'super_variable' is not defined"
     ]
    }
   ],
   "source": [
    "print(super_variable)\n",
    "# The variable `super_variable` has not yet been defined in this notebook."
   ]
  },
  {
   "cell_type": "code",
   "execution_count": 6,
   "id": "668ca5deb54ea583",
   "metadata": {},
   "outputs": [
    {
     "ename": "ValueError",
     "evalue": "could not convert string to float: '3.9O'",
     "output_type": "error",
     "traceback": [
      "\u001b[0;31m---------------------------------------------------------------------------\u001b[0m",
      "\u001b[0;31mValueError\u001b[0m                                Traceback (most recent call last)",
      "Cell \u001b[0;32mIn[6], line 1\u001b[0m\n\u001b[0;32m----> 1\u001b[0m \u001b[38;5;28;43mfloat\u001b[39;49m\u001b[43m(\u001b[49m\u001b[38;5;124;43m\"\u001b[39;49m\u001b[38;5;124;43m3.9O\u001b[39;49m\u001b[38;5;124;43m\"\u001b[39;49m\u001b[43m)\u001b[49m\n",
      "\u001b[0;31mValueError\u001b[0m: could not convert string to float: '3.9O'"
     ]
    }
   ],
   "source": [
    "float(\"3.9O\")\n",
    "# sneaky one! Notice that the letter O and the number 0 are similar\n",
    "# but distinct. This line is similar to `float(\"3.9o\")` which is \n",
    "# not a numeric string and cannot be converted to float."
   ]
  },
  {
   "cell_type": "markdown",
   "id": "91bfe27fe1081308",
   "metadata": {},
   "source": [
    "### Exercise 4\n",
    "\n",
    "Write out a script that composes an email address for someone using the lower-cased first letters of the first name, an underscore, and their last name in all caps.\n",
    "\n",
    "For example: jer_FARNSWORTH@gmail.com\n",
    "\n",
    "Use slicing, concatenation, and string methods"
   ]
  },
  {
   "cell_type": "code",
   "execution_count": 114,
   "id": "ab34851da33c0d26",
   "metadata": {},
   "outputs": [],
   "source": [
    "first_name = \"Jeremy\"\n",
    "last_name = \"Farnsworth\"\n",
    "\n",
    "domain = \"@gmail.com\""
   ]
  },
  {
   "cell_type": "code",
   "execution_count": 128,
   "id": "28ec4e5e06f5754",
   "metadata": {},
   "outputs": [
    {
     "data": {
      "text/plain": [
       "'jer_FARNSWORTH@gmail.com'"
      ]
     },
     "execution_count": 128,
     "metadata": {},
     "output_type": "execute_result"
    }
   ],
   "source": [
    "first_name[:3].lower() + \"_\" + last_name.upper() + domain"
   ]
  },
  {
   "cell_type": "markdown",
   "id": "194892a5e982a6c2",
   "metadata": {},
   "source": [
    "### Exercise 5\n",
    "\n",
    "Check to see if the following string is anagram — when reversing the order of a string does not change it.\n",
    "\n",
    "Output should be boolean."
   ]
  },
  {
   "cell_type": "code",
   "execution_count": 130,
   "id": "cfd0f2b4a3e2e8d4",
   "metadata": {},
   "outputs": [],
   "source": [
    "string = \"tacocat\""
   ]
  },
  {
   "cell_type": "code",
   "execution_count": 132,
   "id": "a7aa2f69-44ea-4876-adc4-9046027e7224",
   "metadata": {},
   "outputs": [
    {
     "data": {
      "text/plain": [
       "False"
      ]
     },
     "execution_count": 132,
     "metadata": {},
     "output_type": "execute_result"
    }
   ],
   "source": [
    "string == string[::-1] # reverse string using steps"
   ]
  },
  {
   "cell_type": "markdown",
   "id": "567504cc-d0d6-470f-8dfa-cbdf428ab4fb",
   "metadata": {},
   "source": [
    "### Challenge Exercise\n",
    "Why does this code throw an error?"
   ]
  },
  {
   "cell_type": "code",
   "execution_count": 10,
   "id": "644fb68d3928cf59",
   "metadata": {},
   "outputs": [
    {
     "ename": "SyntaxError",
     "evalue": "EOL while scanning string literal (1779523252.py, line 1)",
     "output_type": "error",
     "traceback": [
      "\u001b[0;36m  Cell \u001b[0;32mIn[10], line 1\u001b[0;36m\u001b[0m\n\u001b[0;31m    string = \"sequence”\u001b[0m\n\u001b[0m                       ^\u001b[0m\n\u001b[0;31mSyntaxError\u001b[0m\u001b[0;31m:\u001b[0m EOL while scanning string literal\n"
     ]
    }
   ],
   "source": [
    "string = \"sequence”\n",
    "# another sneaky one. note that the first double-quote is straight \n",
    "# while the second is curvy. these are two distinct characters, \n",
    "# so Python treats it as an open quotation."
   ]
  },
  {
   "cell_type": "markdown",
   "id": "b0024593",
   "metadata": {},
   "source": [
    "## Lab 2B - Conditions\n",
    "### Exercise 0 "
   ]
  },
  {
   "cell_type": "markdown",
   "id": "331f7c17",
   "metadata": {},
   "source": [
    "Let's write a program together that checks to see if a year is a leap year. \n",
    "\n",
    "Remember that a leap year\n",
    "\n",
    "    - Divisible by 4\n",
    "    \n",
    "    - Not divisible by 100\n",
    "    \n",
    "    - Divisible by 400"
   ]
  },
  {
   "cell_type": "code",
   "execution_count": 25,
   "id": "4ae8c827",
   "metadata": {},
   "outputs": [
    {
     "name": "stdout",
     "output_type": "stream",
     "text": [
      "2100 is not a leap year!\n"
     ]
    }
   ],
   "source": [
    "# Use the modulo operator to determine divisibility\n",
    "# Use multiple condition clauses to work out the difference\n",
    "# between 100 years (not leap years) and 400 years (yes leap years)\n",
    "\n",
    "year = 2100\n",
    "\n",
    "if (year % 400 == 0):\n",
    "    if (year % 4 == 0):\n",
    "        print(year, \"is a leap year!\")\n",
    "elif (year % 100 != 0):\n",
    "    if (year % 4 == 0):\n",
    "        print(year, \"is a leap year!\")\n",
    "    else:\n",
    "        print(year, \"is not a leap year!\")\n",
    "else:\n",
    "    print(year, \"is not a leap year!\")"
   ]
  },
  {
   "cell_type": "markdown",
   "id": "1ab1e4ef47abe464",
   "metadata": {},
   "source": [
    "### Exercise 1\n",
    "\n",
    "\n",
    "Write a program that checks to see if `num` is positive, negative, or zero. Print that says `num` is negative, positive, or zero\n",
    "\n"
   ]
  },
  {
   "cell_type": "code",
   "execution_count": null,
   "id": "d7d76da25758a2a0",
   "metadata": {},
   "outputs": [],
   "source": [
    "num = -1"
   ]
  },
  {
   "cell_type": "code",
   "execution_count": null,
   "id": "f8753e23-0f28-4350-822b-ccc0417e2a10",
   "metadata": {},
   "outputs": [],
   "source": [
    "if num > 0:\n",
    "    print(\"num is positive\")\n",
    "elif num < 0:\n",
    "    print(\"num is negative\")\n",
    "else:\n",
    "    print(\"num is zero\")"
   ]
  },
  {
   "cell_type": "markdown",
   "id": "c7ff93e002bbe7be",
   "metadata": {},
   "source": [
    "### Exercise 2"
   ]
  },
  {
   "cell_type": "markdown",
   "id": "2adcc0d292dd81f1",
   "metadata": {},
   "source": [
    "Check to see if a string exclusively has number and thus can be converted to an integer and convert it if that's the case. If not then print \"cannot convert to integer\""
   ]
  },
  {
   "cell_type": "code",
   "execution_count": 65,
   "id": "e4c4313829b4a474",
   "metadata": {},
   "outputs": [],
   "source": [
    "string_num = \"34a\""
   ]
  },
  {
   "cell_type": "code",
   "execution_count": 66,
   "id": "bd678c2a-4470-41be-a1a0-a04aca8af4fa",
   "metadata": {},
   "outputs": [
    {
     "name": "stdout",
     "output_type": "stream",
     "text": [
      "cannot convert to integer\n"
     ]
    }
   ],
   "source": [
    "if string_num.isnumeric():\n",
    "    num = int(string_num)\n",
    "    print(num)\n",
    "else: \n",
    "    print(\"cannot convert to integer\")"
   ]
  },
  {
   "cell_type": "markdown",
   "id": "a3a3d560efa0bccf",
   "metadata": {},
   "source": [
    "### Exercise 3\n",
    "\n",
    "Calculate a tax bill calculator where \n",
    "\n",
    "    - Less than 0-$50000 is taxed at 10%\n",
    "\n",
    "    - Greater than $50000 is taxed 25%"
   ]
  },
  {
   "cell_type": "code",
   "execution_count": 38,
   "id": "7efbb37068214bab",
   "metadata": {},
   "outputs": [],
   "source": [
    "income = 60000"
   ]
  },
  {
   "cell_type": "code",
   "execution_count": 71,
   "id": "63d1a262-768b-4a44-b174-d2b2ce9b4cdf",
   "metadata": {},
   "outputs": [
    {
     "name": "stdout",
     "output_type": "stream",
     "text": [
      "7500.0\n"
     ]
    }
   ],
   "source": [
    "if income <= 50000:\n",
    "    tax = income * .1\n",
    "else:\n",
    "    tax = 50000 * .1\n",
    "    tax += (income - 50000) * .25\n",
    "print(tax)"
   ]
  },
  {
   "cell_type": "markdown",
   "id": "7482556e06a43fd6",
   "metadata": {},
   "source": [
    "### Exercise 4"
   ]
  },
  {
   "cell_type": "markdown",
   "id": "fe2946fc61b3d949",
   "metadata": {},
   "source": [
    "Add parentheses so that the following expressions all evaluate to True"
   ]
  },
  {
   "cell_type": "code",
   "execution_count": 69,
   "id": "f68878d4f881559a",
   "metadata": {},
   "outputs": [
    {
     "data": {
      "text/plain": [
       "True"
      ]
     },
     "execution_count": 69,
     "metadata": {},
     "output_type": "execute_result"
    }
   ],
   "source": [
    "False == (not True)\n",
    "# Without parantheses, tries to execute `False == not` and throws error"
   ]
  },
  {
   "cell_type": "code",
   "execution_count": 44,
   "id": "51cd762a1e2727e7",
   "metadata": {},
   "outputs": [
    {
     "data": {
      "text/plain": [
       "True"
      ]
     },
     "execution_count": 44,
     "metadata": {},
     "output_type": "execute_result"
    }
   ],
   "source": [
    "(True and False) == (True and False)\n",
    "# Without parantheses, executes in order:\n",
    "# - True and False -> False\n",
    "# - (True and False) == True -> False == True -> False\n",
    "# - ((True and False) == True) and False -> (False == True) and False -> False and False -> False"
   ]
  },
  {
   "cell_type": "code",
   "execution_count": 33,
   "id": "a444c0512359ce78",
   "metadata": {},
   "outputs": [
    {
     "data": {
      "text/plain": [
       "True"
      ]
     },
     "execution_count": 33,
     "metadata": {},
     "output_type": "execute_result"
    }
   ],
   "source": [
    "not (True and (\"A\" == \"B\"))\n",
    "# Without parantheses, executes in order:\n",
    "# - not True -> False\n",
    "# - (not True) and \"A\" -> False and \"A\" -> False\n",
    "# - ((not True) and \"A\") == \"B\" -> (False and \"A\") == \"B\" -> False == \"B\" -> False"
   ]
  },
  {
   "cell_type": "markdown",
   "id": "2a7d4e40d7a55eea",
   "metadata": {},
   "source": [
    "### Exercise 5"
   ]
  },
  {
   "cell_type": "markdown",
   "id": "eea781d763dbfece",
   "metadata": {},
   "source": [
    "How would you check to see if a number is odd or even?\n",
    "\n",
    "Hint: use modulo sign %"
   ]
  },
  {
   "cell_type": "code",
   "execution_count": 47,
   "id": "42cd6dacf5029795",
   "metadata": {},
   "outputs": [
    {
     "data": {
      "text/plain": [
       "0"
      ]
     },
     "execution_count": 47,
     "metadata": {},
     "output_type": "execute_result"
    }
   ],
   "source": [
    "2 % 2"
   ]
  },
  {
   "cell_type": "code",
   "execution_count": 49,
   "id": "1737f509-d3a4-49e9-9093-e161e28e87e1",
   "metadata": {},
   "outputs": [
    {
     "data": {
      "text/plain": [
       "1"
      ]
     },
     "execution_count": 49,
     "metadata": {},
     "output_type": "execute_result"
    }
   ],
   "source": [
    "3 % 2"
   ]
  },
  {
   "cell_type": "code",
   "execution_count": 50,
   "id": "1acc5930-efaf-42f8-94df-c48f0f55ee2c",
   "metadata": {},
   "outputs": [
    {
     "name": "stdout",
     "output_type": "stream",
     "text": [
      "even\n"
     ]
    }
   ],
   "source": [
    "if num % 2 == 0:\n",
    "    print(\"even\")\n",
    "else:\n",
    "    print(\"odd\")"
   ]
  },
  {
   "cell_type": "markdown",
   "id": "ba558f4c-faec-430b-add8-73583582d3d0",
   "metadata": {},
   "source": [
    "### Exercise 6\n",
    "Write code using nested conditions to represent your decision process as you choose what to wear in the morning."
   ]
  },
  {
   "cell_type": "code",
   "execution_count": 54,
   "id": "8bfea6d1-7d33-481d-9999-f71759668b1c",
   "metadata": {},
   "outputs": [
    {
     "name": "stdout",
     "output_type": "stream",
     "text": [
      "sweatpants and hoodie\n"
     ]
    }
   ],
   "source": [
    "day = \"saturday\"\n",
    "temp = 62\n",
    "\n",
    "if day in [\"saturday\", \"sunday\"]:\n",
    "    if temp > 65:\n",
    "        outfit = \"comfy shorts and t-shirt\"\n",
    "    else:\n",
    "        outfit = \"sweatpants and hoodie\"\n",
    "else:\n",
    "    if temp > 65:\n",
    "        outfit = \"jeans and t-shirt\"\n",
    "    else:\n",
    "        outfit = \"jeans and sweater\"\n",
    "\n",
    "print(outfit)"
   ]
  },
  {
   "cell_type": "code",
   "execution_count": null,
   "id": "cd38fe92-d1d0-4c5a-add4-104c852bf7e5",
   "metadata": {},
   "outputs": [],
   "source": []
  }
 ],
 "metadata": {
  "kernelspec": {
   "display_name": "Python 3 (ipykernel)",
   "language": "python",
   "name": "python3"
  },
  "language_info": {
   "codemirror_mode": {
    "name": "ipython",
    "version": 3
   },
   "file_extension": ".py",
   "mimetype": "text/x-python",
   "name": "python",
   "nbconvert_exporter": "python",
   "pygments_lexer": "ipython3",
   "version": "3.8.17"
  }
 },
 "nbformat": 4,
 "nbformat_minor": 5
}

{
 "cells": [
  {
   "cell_type": "markdown",
   "id": "bc7b65443903ddab",
   "metadata": {},
   "source": [
    "# Lab 2A - Variable Types\n",
    "*Day 2 - July 30, 2024*\n",
    "\n",
    "*I School Python Bootcamp*\n",
    "\n",
    "*Author: Lauren Chambers<br>Modified from notebooks by George McIntire, Hellina Nigatu, & Kat Tian*"
   ]
  },
  {
   "cell_type": "markdown",
   "id": "387e1eb7ac6723f5",
   "metadata": {},
   "source": [
    "## Data Types\n",
    "\n",
    "Every value in python has a specific type.\n",
    "\n",
    "Iterables:\n",
    "* **Strings** - Strings are sequences of characters, and they are used to represent textual data in Python.\n",
    "Strings are enclosed in either single quotes (' ') or double quotes (\" \").\n",
    "* **Lists** - Lists contain more than one item. Items don't all have to be the same type!\n",
    "* **Tuples** - Tuples are _immutable_ lists. Once they have been declared, items cannot be added or removed from them.\n",
    "* **Dictionaries** - Dictionaries contain two elements: keys and items. You use a key to retrieve an item. Keys cannot be duplicated.\n",
    "* **Sets** - Sets are lists which contain no duplicate items; each item in a set is unique.\n",
    "\n",
    "\n",
    "Numbers:\n",
    "\n",
    "* **Booleans** - A binary choice encoded as True or False. Used to make logical decisions and dictate the flow of programs\n",
    "* **Integers** - Whole numbers without decimal points, can be positive, negative or zero. Ex: 3, 582, -2893\n",
    "* **Float** - Floats are numbers with decimal points or numbers represented in scientific notation. Ex 49.12, -0.98\n",
    "\n",
    "|  | e.g. | Numeric | Iterable | Ordered | Mutable | Duplicates |\n",
    "|---|---|---|---|---|---|---|\n",
    "| strings | `\"hello\"` |  | ✔ | ✔ | ✔ | ✔ |\n",
    "| list | `[\"hello\", \"world\", 123]` |  | ✔ | ✔ | ✔ | ✔ |\n",
    "| dict | `{\"greeting\": \"hello world\"`} |  | ✔ |  | ✔ |  |\n",
    "| tuple | `(\"hello\", \"world\", 123)` |  | ✔ | ✔ |  | ✔ |\n",
    "| set | `{\"hello\", \"world\"}` |  | ✔ | ✔ | ✔ |  |\n",
    "| integer | `1` | ✔ |  |  |  |  |\n",
    "| float | `1.0` | ✔ |  |  |  |  |\n",
    "| boolean | `True, False` | ✔ |  |  |  |  |\n",
    "\n",
    "Here are examples of each of these types:"
   ]
  },
  {
   "cell_type": "code",
   "execution_count": null,
   "id": "814c0363268696f7",
   "metadata": {},
   "outputs": [],
   "source": [
    "# Strings\n",
    "x=\"hello world\"\n",
    "print(x)"
   ]
  },
  {
   "cell_type": "code",
   "execution_count": null,
   "id": "d39cda8299f705a0",
   "metadata": {},
   "outputs": [],
   "source": [
    "# Integers\n",
    "y=5\n",
    "print(y)"
   ]
  },
  {
   "cell_type": "code",
   "execution_count": null,
   "id": "63c1977301b689d4",
   "metadata": {},
   "outputs": [],
   "source": [
    "# Floats\n",
    "x=7.9\n",
    "print(x)"
   ]
  },
  {
   "cell_type": "code",
   "execution_count": null,
   "id": "6db29cab-7c23-4b65-83bf-17ee5da71dae",
   "metadata": {},
   "outputs": [],
   "source": [
    "# Tuples\n",
    "tuple_of_numbers = (1,2,3,4,5)\n",
    "print(\"The first three elements in the tuple are: \",tuple_of_numbers[:3])\n",
    "print(\"The first element in the tuple is: \", tuple_of_numbers[0])\n",
    "\n",
    "# lists are NOT mutable - you cannot add or remove elements\n",
    "tuple_of_numbers.append(6)"
   ]
  },
  {
   "cell_type": "code",
   "execution_count": null,
   "id": "22795a56d32d6fba",
   "metadata": {},
   "outputs": [],
   "source": [
    "# Dictionaries\n",
    "name={'first_name': 'Lauren', 'last_name':'Chambers'}\n",
    "\n",
    "print(\"The keys of the dictionary are: \", name.keys())\n",
    "\n",
    "print(\"The values of the dictionary are: \", name.values())\n",
    "\n",
    "print(\"The items of the dictionary are: \", name.items())\n",
    "\n",
    "print(\"The first name is: \", name[\"first_name\"])"
   ]
  },
  {
   "cell_type": "code",
   "execution_count": null,
   "id": "062be69e-ab0a-4fd2-949b-0c3d2bbb9305",
   "metadata": {},
   "outputs": [],
   "source": [
    "# Sets\n",
    "list_with_duplicates = [1, 2, 2, 1, 2]\n",
    "set_of_list = set(list_with_duplicates)\n",
    "print(set_of_list)"
   ]
  },
  {
   "cell_type": "markdown",
   "id": "6ce0f83274e10e3a",
   "metadata": {},
   "source": [
    "### Syntax highlighting\n",
    "\n",
    "Python (and most programming languages) gives you hints as to variable types through _syntax highlighting_ - a fancy word for changing the colors of the code as you type.\n",
    "\n",
    "What's the difference between these two lines?"
   ]
  },
  {
   "cell_type": "code",
   "execution_count": null,
   "id": "41d540fe9ff9c3a1",
   "metadata": {},
   "outputs": [],
   "source": [
    "print(1 + 1) # What variable type is this?\n",
    "print(\"1 + 1\") # What  variable type is this?"
   ]
  },
  {
   "cell_type": "code",
   "execution_count": null,
   "id": "e5e9942f72771804",
   "metadata": {
    "jupyter": {
     "is_executing": true
    }
   },
   "outputs": [],
   "source": [
    "\"1\" + 1"
   ]
  },
  {
   "cell_type": "markdown",
   "id": "61ecf8ea7fb7ede5",
   "metadata": {},
   "source": [
    "### Naming constraints\n",
    "Why do the following cells throw errors? "
   ]
  },
  {
   "cell_type": "code",
   "execution_count": null,
   "id": "7a06ab3a5ae5c47a",
   "metadata": {},
   "outputs": [],
   "source": [
    "1stname = \"Jeff\""
   ]
  },
  {
   "cell_type": "code",
   "execution_count": null,
   "id": "508975b8cc8f7dda",
   "metadata": {
    "jupyter": {
     "is_executing": true
    }
   },
   "outputs": [],
   "source": [
    "city, state = \"Berkeley, CA\""
   ]
  },
  {
   "cell_type": "markdown",
   "id": "3c656d93-d65a-4cf3-a6d6-c27b80129c27",
   "metadata": {},
   "source": [
    "Variable names cannot start with a number, and cannot contain characters like commas or spaces. In the second cell, `city` and `state` act as two separate variables:"
   ]
  },
  {
   "cell_type": "code",
   "execution_count": null,
   "id": "9760ca47-5058-43d3-b4fd-05aa0d21229b",
   "metadata": {},
   "outputs": [],
   "source": [
    "city, state = [\"Berkeley\", \"CA\"]\n",
    "print(city)\n",
    "print(state)"
   ]
  },
  {
   "cell_type": "markdown",
   "id": "8462e51a24a33031",
   "metadata": {},
   "source": [
    "### Checking with `type()`\n",
    "We can use the keyword function native to python `type` to figure out the type of a variable"
   ]
  },
  {
   "cell_type": "code",
   "execution_count": null,
   "id": "773980e9fbed1cc6",
   "metadata": {},
   "outputs": [],
   "source": [
    "green = True\n",
    "red = False \n",
    "print(\"What is the type of green?\", type(green))"
   ]
  },
  {
   "cell_type": "markdown",
   "id": "906eacb544488a4c",
   "metadata": {},
   "source": [
    "## Numbers and operators\n",
    "All numeric types can be manipulated using mathematical operators"
   ]
  },
  {
   "cell_type": "code",
   "execution_count": null,
   "id": "31d6ea60c67807a2",
   "metadata": {},
   "outputs": [],
   "source": [
    "#Use multiplication to calculate revenue\n",
    "quantity = 100\n",
    "price = 5\n",
    "revenue = quantity * price\n",
    "\n",
    "revenue"
   ]
  },
  {
   "cell_type": "code",
   "execution_count": null,
   "id": "110abee5b165add7",
   "metadata": {},
   "outputs": [],
   "source": [
    "#addition\n",
    "\n",
    "2678 + 329"
   ]
  },
  {
   "cell_type": "code",
   "execution_count": null,
   "id": "4015db91b4667006",
   "metadata": {},
   "outputs": [],
   "source": [
    "#Subtraction\n",
    "40 - 28"
   ]
  },
  {
   "cell_type": "code",
   "execution_count": null,
   "id": "89b1061cc3c02ed2",
   "metadata": {},
   "outputs": [],
   "source": [
    "#Division\n",
    "\n",
    "50 / 5"
   ]
  },
  {
   "cell_type": "code",
   "execution_count": null,
   "id": "7b79c6db6a47b4bd",
   "metadata": {},
   "outputs": [],
   "source": [
    "#Square\n",
    "\n",
    "2 ** 2"
   ]
  },
  {
   "cell_type": "markdown",
   "id": "804317d7eafdc42d",
   "metadata": {},
   "source": [
    "### Comparison operators\n",
    "\n",
    "In Python, comparison operators are used to compare two values and determine the relationship between them. These operators return a Boolean value (True or False) based on whether the comparison is true or false. "
   ]
  },
  {
   "cell_type": "code",
   "execution_count": null,
   "id": "c2d956f42390378b",
   "metadata": {},
   "outputs": [],
   "source": [
    "# Equal to (==): Checks if the values on both sides are equal.\n",
    "num1 = 8\n",
    "num2 = 5\n",
    "num1 == num2"
   ]
  },
  {
   "cell_type": "code",
   "execution_count": null,
   "id": "2d879c09a635cf3a",
   "metadata": {},
   "outputs": [],
   "source": [
    "num2 = 8\n",
    "\n",
    "num1 == num2"
   ]
  },
  {
   "cell_type": "code",
   "execution_count": null,
   "id": "45027f6c8c04d240",
   "metadata": {},
   "outputs": [],
   "source": [
    "# Integer and float versions of the same number output `True`\n",
    "3 == 3.0"
   ]
  },
  {
   "cell_type": "code",
   "execution_count": null,
   "id": "7153f7a146845b01",
   "metadata": {},
   "outputs": [],
   "source": [
    "# Not equal to (!=): Checks if the values on both sides are not equal.\n",
    "num1 != num2"
   ]
  },
  {
   "cell_type": "code",
   "execution_count": null,
   "id": "4c55b48b5953f9bb",
   "metadata": {},
   "outputs": [],
   "source": [
    "# Greater than (>): Checks if the value on the left side is greater than the value on the right side.\n",
    "greater_status = 10 > 9\n",
    "greater_status"
   ]
  },
  {
   "cell_type": "code",
   "execution_count": null,
   "id": "4698af7c9e985b47",
   "metadata": {},
   "outputs": [],
   "source": [
    "# Adding an `=` sign changes the operation to greatet than or equal.\n",
    "3 >= 3"
   ]
  },
  {
   "cell_type": "code",
   "execution_count": null,
   "id": "90c16451cdbfff6a",
   "metadata": {},
   "outputs": [],
   "source": [
    "# Lesser than and lesser than or equal comparison\n",
    "x = 13\n",
    "y = 20\n",
    "\n",
    "x <= y"
   ]
  },
  {
   "cell_type": "markdown",
   "id": "99938f5a-73fe-4a98-b059-5a76f2ca176b",
   "metadata": {},
   "source": [
    "## Iterables\n",
    "\n",
    "We can use certain operators on iterables, too."
   ]
  },
  {
   "cell_type": "code",
   "execution_count": null,
   "id": "6f881b350ef71463",
   "metadata": {},
   "outputs": [],
   "source": [
    "# Concatenation. We can attach strings or lists together by adding them\n",
    "greeting = \"hello\" + \" \" + \"world\"\n",
    "print(greeting)\n",
    "\n",
    "list1 = [\"hello\", \"world\"]\n",
    "list2 = [\"nice\", \"to\", \"meet\", \"you\"]\n",
    "print(list1 + list2)"
   ]
  },
  {
   "cell_type": "code",
   "execution_count": null,
   "id": "130686c90e9a2fdc",
   "metadata": {},
   "outputs": [],
   "source": [
    "# We can duplicate iterables by multiplying them by integers\n",
    "double_greeting = greeting * 2\n",
    "print(double_greeting)\n",
    "\n",
    "double_list = list * 2\n",
    "print(double_list)"
   ]
  },
  {
   "cell_type": "code",
   "execution_count": null,
   "id": "9b9048ded560bd9a",
   "metadata": {},
   "outputs": [],
   "source": [
    "# Subtraction and division operations do not apply to iterables\n",
    "\"hello\" - \"h\""
   ]
  },
  {
   "cell_type": "code",
   "execution_count": null,
   "id": "d70f123a2af35bbc",
   "metadata": {},
   "outputs": [],
   "source": [
    "\"california\" /2"
   ]
  },
  {
   "cell_type": "markdown",
   "id": "b0d72110011a2d30",
   "metadata": {},
   "source": [
    "We can use the built-in `len` function to calculate the number of characters in any iterable, including strings."
   ]
  },
  {
   "cell_type": "code",
   "execution_count": null,
   "id": "c1164de5a8ae7a45",
   "metadata": {},
   "outputs": [],
   "source": [
    "word = \"Antidisestablishmentarianism\"\n",
    "\n",
    "word_length = len(word)\n",
    "word_length"
   ]
  },
  {
   "cell_type": "code",
   "execution_count": null,
   "id": "8ed76653-2bb7-49d7-9513-cb7171e41a74",
   "metadata": {},
   "outputs": [],
   "source": [
    "len(list1)"
   ]
  },
  {
   "cell_type": "code",
   "execution_count": null,
   "id": "8ef6a29ba77957ca",
   "metadata": {},
   "outputs": [],
   "source": [
    "empty_string = ''\n",
    "\n",
    "len(empty_string)"
   ]
  },
  {
   "cell_type": "markdown",
   "id": "64cf31d178b78772",
   "metadata": {},
   "source": [
    "### Slicing and indexing\n",
    "\n",
    "In Python, slicing allows you to extract a portion of a string (a substring) or a list based on a specific range of indices. The slicing notation is done using square brackets [], and it follows the format [start_index:end_index], where start_index is the index of the first character/item you want to include in the slice, and end_index is the index of the character/item just after the last character you want to include. The resulting slice will contain all characters/items from the start_index up to, but not including, the end_index.\n",
    "\n",
    "Here's the general syntax for slicing a string:\n",
    "\n",
    "`string_variable[start_index:end_index]`\n",
    "\n",
    "And a list is the same:\n",
    "\n",
    "`list_variable[start_index:end_index]`"
   ]
  },
  {
   "cell_type": "markdown",
   "id": "3d7209c8c06ec125",
   "metadata": {},
   "source": [
    "The `start_index` number is inclusive while the `end_index` is not."
   ]
  },
  {
   "cell_type": "markdown",
   "id": "a775cfacf04682a3",
   "metadata": {},
   "source": [
    "<div class=\"alert alert-block alert-danger\">\n",
    "Remember!! Python indexes from ZERO, not one!\n",
    "</div>"
   ]
  },
  {
   "cell_type": "markdown",
   "id": "b87b6999c61b1d88",
   "metadata": {},
   "source": [
    "Extract the 3rd through 6th characters from the word quintessential. We should see `inte` returned"
   ]
  },
  {
   "cell_type": "code",
   "execution_count": null,
   "id": "3962661efb934051",
   "metadata": {},
   "outputs": [],
   "source": [
    "word = \"quintessential\"\n",
    "\n",
    "substring = word[2:6]\n",
    "substring"
   ]
  },
  {
   "cell_type": "markdown",
   "id": "81019bd4ecd732fe",
   "metadata": {},
   "source": [
    "Since Python starts at 0, the 2 in this case represents the third character."
   ]
  },
  {
   "cell_type": "markdown",
   "id": "5758b951bcf09156",
   "metadata": {},
   "source": [
    "Extract the first four characters"
   ]
  },
  {
   "cell_type": "code",
   "execution_count": null,
   "id": "6c1e8a4e170921a3",
   "metadata": {},
   "outputs": [],
   "source": [
    "#This works\n",
    "word[:4]"
   ]
  },
  {
   "cell_type": "code",
   "execution_count": null,
   "id": "2c9f0196acc5dabb",
   "metadata": {},
   "outputs": [],
   "source": [
    "#So does this \n",
    "word[0:4]"
   ]
  },
  {
   "cell_type": "markdown",
   "id": "96f198ea91519682",
   "metadata": {},
   "source": [
    "Extract the characters after the fifth character"
   ]
  },
  {
   "cell_type": "code",
   "execution_count": null,
   "id": "cc7d26c16fa4fb3b",
   "metadata": {},
   "outputs": [],
   "source": [
    "word[5:]"
   ]
  },
  {
   "cell_type": "markdown",
   "id": "8acd3aa96fc3b08c",
   "metadata": {},
   "source": [
    "Slicing does not affect the original string."
   ]
  },
  {
   "cell_type": "code",
   "execution_count": null,
   "id": "db59809bf8231a13",
   "metadata": {},
   "outputs": [],
   "source": [
    "word"
   ]
  },
  {
   "cell_type": "markdown",
   "id": "3ef1cd7c57220a4d",
   "metadata": {},
   "source": [
    "If you do not put integers on either side of the : you get the original string"
   ]
  },
  {
   "cell_type": "code",
   "execution_count": null,
   "id": "c8b64ad27d0c99bf",
   "metadata": {},
   "outputs": [],
   "source": [
    "word[:]"
   ]
  },
  {
   "cell_type": "markdown",
   "id": "2fc84099f3aa366a",
   "metadata": {},
   "source": [
    "Accessing individual characters in the string"
   ]
  },
  {
   "cell_type": "code",
   "execution_count": null,
   "id": "8e0a98347c95d869",
   "metadata": {},
   "outputs": [],
   "source": [
    "#First character\n",
    "word[0]"
   ]
  },
  {
   "cell_type": "code",
   "execution_count": null,
   "id": "74a8ee5b0aa9be6e",
   "metadata": {},
   "outputs": [],
   "source": [
    "#Seventh character\n",
    "word[6]"
   ]
  },
  {
   "cell_type": "code",
   "execution_count": null,
   "id": "973dcc4ff2b7f8f8",
   "metadata": {},
   "outputs": [],
   "source": [
    "#Last character\n",
    "word[-1]"
   ]
  },
  {
   "cell_type": "markdown",
   "id": "c374f693b64842a1",
   "metadata": {},
   "source": [
    "We can also slice string using intervals or steps"
   ]
  },
  {
   "cell_type": "code",
   "execution_count": null,
   "id": "f1cf448ccbc28515",
   "metadata": {},
   "outputs": [],
   "source": [
    "print(word[::2]) # Slice every even position character in this string.\n",
    "print(word[1::2]) # Odd position characters\n",
    "print(word[::-1]) # Reverse string by putting -1 after the second :"
   ]
  },
  {
   "cell_type": "markdown",
   "id": "0f70bbd9-3ee2-417c-8b0b-0c7b46a9e75d",
   "metadata": {},
   "source": [
    "### Strings\n",
    "\n",
    "In jupyter notebook, strings are color coded as red.\n",
    "\n",
    "Write your first and last name between the quotation marks, which are used to denote strings in python."
   ]
  },
  {
   "cell_type": "code",
   "execution_count": null,
   "id": "d1b81fbcac83c545",
   "metadata": {},
   "outputs": [],
   "source": [
    "first_name = \"\"\n",
    "last_name = \"\"\n",
    "\n",
    "print(\"My name is \", first_name, last_name)"
   ]
  },
  {
   "cell_type": "code",
   "execution_count": null,
   "id": "483dbcba938df68a",
   "metadata": {},
   "outputs": [],
   "source": [
    "type(first_name)"
   ]
  },
  {
   "cell_type": "markdown",
   "id": "d4ff335c82560cc5",
   "metadata": {},
   "source": [
    "We can use single, double or triple quotations, so long as both ends match."
   ]
  },
  {
   "cell_type": "code",
   "execution_count": null,
   "id": "a59caa9fa5aebf51",
   "metadata": {},
   "outputs": [],
   "source": [
    "single = 'text'\n",
    "double = \"text\"\n",
    "triple = \"\"\"text\"\"\""
   ]
  },
  {
   "cell_type": "markdown",
   "id": "619a2d3365575f79",
   "metadata": {},
   "source": [
    "Strings are case sensitive, so what will the following code output?"
   ]
  },
  {
   "cell_type": "code",
   "execution_count": null,
   "id": "1daac2a4ce6efcf4",
   "metadata": {},
   "outputs": [],
   "source": [
    "\"berkeley\" == \"BerkeleY\""
   ]
  },
  {
   "cell_type": "markdown",
   "id": "314bf3a4d67ecb36",
   "metadata": {},
   "source": [
    "What if I wanted to change the casing of every character in a string?\n",
    "\n",
    "We use methods exclusively to string objects."
   ]
  },
  {
   "cell_type": "code",
   "execution_count": null,
   "id": "d8ac3bca94357803",
   "metadata": {
    "jupyter": {
     "is_executing": true
    }
   },
   "outputs": [],
   "source": [
    "title = \"How Language and Social Status Change the Developing Brain\"\n",
    "upper_title = title.upper()\n",
    "upper_title"
   ]
  },
  {
   "cell_type": "code",
   "execution_count": null,
   "id": "6ede1db20f0f4b3c",
   "metadata": {},
   "outputs": [],
   "source": [
    "lower_title = upper_title.lower()\n",
    "lower_title"
   ]
  },
  {
   "cell_type": "code",
   "execution_count": null,
   "id": "a365d38865d8d1c4",
   "metadata": {},
   "outputs": [],
   "source": [
    "capital_title = lower_title.capitalize()\n",
    "capital_title"
   ]
  },
  {
   "cell_type": "code",
   "execution_count": null,
   "id": "518fdf9cc0217f46",
   "metadata": {},
   "outputs": [],
   "source": [
    "title = lower_title.title()\n",
    "title"
   ]
  },
  {
   "cell_type": "markdown",
   "id": "b305d0f1bcf8cf1d",
   "metadata": {},
   "source": [
    "Integers have no method named `upper` so this code throws up an error."
   ]
  },
  {
   "cell_type": "code",
   "execution_count": null,
   "id": "285ae9c19b900083",
   "metadata": {},
   "outputs": [],
   "source": [
    "hour = 12\n",
    "hour.upper()"
   ]
  },
  {
   "cell_type": "markdown",
   "id": "c8ab924b076b9c88",
   "metadata": {},
   "source": [
    "<div class=\"alert alert-block alert-info\">\n",
    "<b>Jupyter Notebook Detour Tip</b>\n",
    "\n",
    "Use the `?` or `help()` command to pull the doc strings of a method or function.</div>"
   ]
  },
  {
   "cell_type": "code",
   "execution_count": null,
   "id": "e0e36303ff16f632",
   "metadata": {},
   "outputs": [],
   "source": [
    "title.lower?"
   ]
  },
  {
   "cell_type": "code",
   "execution_count": null,
   "id": "6316dabcad2dc346",
   "metadata": {},
   "outputs": [],
   "source": [
    "help(title.lower)"
   ]
  },
  {
   "cell_type": "markdown",
   "id": "e543f07bcbad21fd",
   "metadata": {},
   "source": [
    "Fix the following code so that the proper names are capitalized"
   ]
  },
  {
   "cell_type": "code",
   "execution_count": null,
   "id": "e13ff1a2068f73a4",
   "metadata": {},
   "outputs": [],
   "source": [
    "name = \"emily\"\n",
    "location = \"paris\"\n",
    "employer = \"nasa\"\n",
    "\n",
    "sentence = name + \" works for \" + employer + \" but lives in \" + location\n",
    "\n",
    "sentence"
   ]
  },
  {
   "cell_type": "code",
   "execution_count": null,
   "id": "f3dc2df52da418c0",
   "metadata": {},
   "outputs": [],
   "source": []
  },
  {
   "cell_type": "markdown",
   "id": "dee26d43ba82d55c",
   "metadata": {},
   "source": [
    "Replace characters in a string."
   ]
  },
  {
   "cell_type": "code",
   "execution_count": null,
   "id": "341b11fa9725ab3a",
   "metadata": {},
   "outputs": [],
   "source": [
    "animal = \"aardvark\""
   ]
  },
  {
   "cell_type": "markdown",
   "id": "b2d21ceee27cb720",
   "metadata": {},
   "source": [
    "Use `.replace()` to replace the a in aardvark with an @"
   ]
  },
  {
   "cell_type": "code",
   "execution_count": null,
   "id": "dfec2b55818ac8ac",
   "metadata": {},
   "outputs": [],
   "source": [
    "animal.replace(\"a\", \"@\")\n"
   ]
  },
  {
   "cell_type": "markdown",
   "id": "15b5ccc3c0b13226",
   "metadata": {},
   "source": [
    "Replace can be used to delete characters in a string by replacing characters with an empty string. Strings don't have a defined delete method."
   ]
  },
  {
   "cell_type": "code",
   "execution_count": null,
   "id": "492bf9a0dd23919",
   "metadata": {},
   "outputs": [],
   "source": [
    "animal.replace(\"a\", '')"
   ]
  },
  {
   "cell_type": "markdown",
   "id": "284c3dff40e043ce",
   "metadata": {},
   "source": [
    "**Boolean String Methods**\n",
    "\n",
    "These methods produce booleans when called."
   ]
  },
  {
   "cell_type": "code",
   "execution_count": null,
   "id": "5ddfdc953e04df3d",
   "metadata": {},
   "outputs": [],
   "source": [
    "text = \"What is Hello World?\"\n",
    "text.startswith(\"W\")"
   ]
  },
  {
   "cell_type": "code",
   "execution_count": null,
   "id": "ca1c77629fc5e47",
   "metadata": {},
   "outputs": [],
   "source": [
    "text.startswith(\"What\")"
   ]
  },
  {
   "cell_type": "code",
   "execution_count": null,
   "id": "f5365f3df34be062",
   "metadata": {},
   "outputs": [],
   "source": [
    "text.endswith(\".\")"
   ]
  },
  {
   "cell_type": "code",
   "execution_count": null,
   "id": "8d793755c28cc580",
   "metadata": {},
   "outputs": [],
   "source": [
    "a = \"a\"\n",
    "a.isalpha()"
   ]
  },
  {
   "cell_type": "code",
   "execution_count": null,
   "id": "3e95f0d839d0694a",
   "metadata": {},
   "outputs": [],
   "source": [
    "x = \"2\"\n",
    "x.isnumeric()"
   ]
  },
  {
   "cell_type": "code",
   "execution_count": null,
   "id": "a70b535e1d2ccba6",
   "metadata": {},
   "outputs": [],
   "source": [
    "service = \"sagemaker\"\n",
    "service.islower()"
   ]
  },
  {
   "cell_type": "code",
   "execution_count": null,
   "id": "67c8ffc2a1fe3de8",
   "metadata": {},
   "outputs": [],
   "source": [
    "service.isupper()"
   ]
  },
  {
   "cell_type": "markdown",
   "id": "5403f7d059bfaccf",
   "metadata": {},
   "source": [
    "Splitting up strings."
   ]
  },
  {
   "cell_type": "code",
   "execution_count": null,
   "id": "95fb302918eef05f",
   "metadata": {},
   "outputs": [],
   "source": [
    "article = \"To combat stress and burnout, employers are increasingly offering benefits\""
   ]
  },
  {
   "cell_type": "code",
   "execution_count": null,
   "id": "3b5e760083dc6934",
   "metadata": {},
   "outputs": [],
   "source": [
    "article.split()"
   ]
  },
  {
   "cell_type": "markdown",
   "id": "f8ca0dc91f7b1bb3",
   "metadata": {},
   "source": [
    "`.split()` literally splits up the string into a list of strings."
   ]
  },
  {
   "cell_type": "markdown",
   "id": "86383715e3d065e0",
   "metadata": {},
   "source": [
    "The default is to split on spaces but we can use other characters too."
   ]
  },
  {
   "cell_type": "code",
   "execution_count": null,
   "id": "c56bba6c14f5ec50",
   "metadata": {},
   "outputs": [],
   "source": [
    "roster = \"Jeff/Terry/Tim/Laura/Cat\"\n",
    "split_roster = roster.split(\"/\")\n",
    "split_roster"
   ]
  },
  {
   "cell_type": "markdown",
   "id": "883439302980d1a5",
   "metadata": {},
   "source": [
    "We can undo this by using `.join()`"
   ]
  },
  {
   "cell_type": "code",
   "execution_count": null,
   "id": "11731fbd649f53e4",
   "metadata": {},
   "outputs": [],
   "source": [
    "\"/\".join(split_roster)"
   ]
  },
  {
   "cell_type": "markdown",
   "id": "c4a6ae9a563bf6aa",
   "metadata": {},
   "source": [
    "New line characters are represented as `\\n` in python."
   ]
  },
  {
   "cell_type": "code",
   "execution_count": null,
   "id": "662fa3ff8b4d4c76",
   "metadata": {},
   "outputs": [],
   "source": [
    "lines = \"First row\\nSecond row\\nThird row\"\n",
    "print(lines)"
   ]
  },
  {
   "cell_type": "markdown",
   "id": "9eebe8cdf44985ea",
   "metadata": {},
   "source": [
    "## Types Conversion\n",
    "\n",
    "It is possible to convert between different kinds of types."
   ]
  },
  {
   "cell_type": "markdown",
   "id": "c42280d6e94e759",
   "metadata": {},
   "source": [
    "Do you think this code works? "
   ]
  },
  {
   "cell_type": "code",
   "execution_count": null,
   "id": "52e4e08bd9740574",
   "metadata": {},
   "outputs": [],
   "source": [
    "width = 10\n",
    "height = \"20\""
   ]
  },
  {
   "cell_type": "code",
   "execution_count": null,
   "id": "be4d515cf492c878",
   "metadata": {},
   "outputs": [],
   "source": [
    "area = width * height"
   ]
  },
  {
   "cell_type": "markdown",
   "id": "c76f4a87102606e7",
   "metadata": {},
   "source": [
    "It does not. In order to make it work we need to convert height to an integer by using the built-in integer function."
   ]
  },
  {
   "cell_type": "code",
   "execution_count": null,
   "id": "cab630127bf24cac",
   "metadata": {},
   "outputs": [],
   "source": [
    "height = int(height)\n",
    "area = width*height\n",
    "area"
   ]
  },
  {
   "cell_type": "markdown",
   "id": "3444b3fc1c08bf61",
   "metadata": {},
   "source": [
    "Converting a float to an integer rounds it down to the nearest whole number"
   ]
  },
  {
   "cell_type": "code",
   "execution_count": null,
   "id": "e4dc3a0fbf19d5df",
   "metadata": {},
   "outputs": [],
   "source": [
    "x = 9.7\n",
    "int(x)"
   ]
  },
  {
   "cell_type": "markdown",
   "id": "1e97dcc8346bbb0d",
   "metadata": {},
   "source": [
    "We can do this with floats and strings as well"
   ]
  },
  {
   "cell_type": "code",
   "execution_count": null,
   "id": "4480ac8ba3cd1a34",
   "metadata": {},
   "outputs": [],
   "source": [
    "gpa_string = \"3.72\"\n",
    "gpa_float = float(gpa_string)\n",
    "gpa_float"
   ]
  },
  {
   "cell_type": "code",
   "execution_count": null,
   "id": "8ed5c80497d4faa6",
   "metadata": {},
   "outputs": [],
   "source": [
    "ranking_int = 10\n",
    "ranking_str = str(ranking_int)\n",
    "ranking_str\n"
   ]
  },
  {
   "cell_type": "markdown",
   "id": "ebb96660ed891ef9",
   "metadata": {},
   "source": [
    "When converting string representations of number we have to make sure there are only numerical characters in the string."
   ]
  },
  {
   "cell_type": "code",
   "execution_count": null,
   "id": "6125b8d36a731630",
   "metadata": {},
   "outputs": [],
   "source": [
    "#This works\n",
    "\n",
    "int(\"4\")"
   ]
  },
  {
   "cell_type": "code",
   "execution_count": null,
   "id": "21a6459c0a642885",
   "metadata": {},
   "outputs": [],
   "source": [
    "#This does not\n",
    "\n",
    "int(\"30 days\")"
   ]
  },
  {
   "cell_type": "code",
   "execution_count": null,
   "id": "ab1c5fc082a5c463",
   "metadata": {},
   "outputs": [],
   "source": [
    "#Neither does this\n",
    "float(\"$38.39\")"
   ]
  },
  {
   "cell_type": "markdown",
   "id": "68f00f2c-326f-499b-8c6b-02be84aed54d",
   "metadata": {},
   "source": [
    "# Exercises"
   ]
  },
  {
   "cell_type": "markdown",
   "id": "814b9011d4186354",
   "metadata": {},
   "source": [
    "## Exercise 1"
   ]
  },
  {
   "cell_type": "code",
   "execution_count": null,
   "id": "b2aae66814e9cae8",
   "metadata": {},
   "outputs": [],
   "source": [
    "a = 1.0\n",
    "b = \"1\"\n",
    "c = \"1.1\""
   ]
  },
  {
   "cell_type": "markdown",
   "id": "b77cf5cba19292f2",
   "metadata": {},
   "source": [
    "What do each of these operations do?"
   ]
  },
  {
   "cell_type": "markdown",
   "id": "e57f2124d65a15f7",
   "metadata": {},
   "source": [
    "1. `a + float(b)`\n",
    "2. `float(b) + float(c)`\n",
    "3. `a + int(c)`\n",
    "4. `a + int(float(c))`\n",
    "5. `int(a) + int(float(c))`\n",
    "6. `2.0 * b`"
   ]
  },
  {
   "cell_type": "code",
   "execution_count": null,
   "id": "b4d19993-3b74-4846-a4f8-f6ef89436722",
   "metadata": {},
   "outputs": [],
   "source": []
  },
  {
   "cell_type": "markdown",
   "id": "3163eef7c5a62041",
   "metadata": {},
   "source": [
    "## Exercise 2\n",
    "\n",
    "Write out a sentence without punctuation and then _concatenate_ it with a period, exclamation point or question mark."
   ]
  },
  {
   "cell_type": "code",
   "execution_count": null,
   "id": "a0ad63b068627fe2",
   "metadata": {},
   "outputs": [],
   "source": [
    "sentence = \"\"\n",
    "period = \".\"\n",
    "exclamation_point = \"!\"\n",
    "question_mark = \"?\""
   ]
  },
  {
   "cell_type": "code",
   "execution_count": null,
   "id": "54bf08ab-ec13-4b91-886a-61cc8a121dd2",
   "metadata": {},
   "outputs": [],
   "source": []
  },
  {
   "cell_type": "markdown",
   "id": "52f16ec9f758740",
   "metadata": {},
   "source": [
    "## Exercise 3\n",
    "\n",
    "Why do the following code snippets produce errors? If you need help, pay attention to the error messages in the tracebacks"
   ]
  },
  {
   "cell_type": "code",
   "execution_count": null,
   "id": "8d823a9739be6ef2",
   "metadata": {},
   "outputs": [],
   "source": [
    "print('I love python\")"
   ]
  },
  {
   "cell_type": "code",
   "execution_count": null,
   "id": "5c6d88d5219fcf1f",
   "metadata": {},
   "outputs": [],
   "source": [
    "print(super_variable)"
   ]
  },
  {
   "cell_type": "code",
   "execution_count": null,
   "id": "668ca5deb54ea583",
   "metadata": {},
   "outputs": [],
   "source": [
    "float(\"3.9O\")"
   ]
  },
  {
   "cell_type": "code",
   "execution_count": null,
   "id": "3514077765046754",
   "metadata": {},
   "outputs": [],
   "source": [
    "\n"
   ]
  },
  {
   "cell_type": "markdown",
   "id": "91bfe27fe1081308",
   "metadata": {},
   "source": [
    "## Exercise 4\n",
    "\n",
    "Write out a script that composes an email address for someone using the lower-cased first letters of the first name, an underscore, and their last name in all caps.\n",
    "\n",
    "For example: jer_FARNSWORTH@gmail.com\n",
    "\n",
    "Use slicing, concatenation, and string methods"
   ]
  },
  {
   "cell_type": "code",
   "execution_count": null,
   "id": "ab34851da33c0d26",
   "metadata": {},
   "outputs": [],
   "source": [
    "first_name = \"Jeremy\"\n",
    "last_name = \"Farnsworth\"\n",
    "\n",
    "domain = \"@gmail.com\""
   ]
  },
  {
   "cell_type": "code",
   "execution_count": null,
   "id": "28ec4e5e06f5754",
   "metadata": {},
   "outputs": [],
   "source": []
  },
  {
   "cell_type": "markdown",
   "id": "194892a5e982a6c2",
   "metadata": {},
   "source": [
    "## Exercise 5\n",
    "\n",
    "Check to see if the following string is anagram — when reversing the order of a string does not change it.\n",
    "\n",
    "Output should be boolean."
   ]
  },
  {
   "cell_type": "code",
   "execution_count": null,
   "id": "cfd0f2b4a3e2e8d4",
   "metadata": {},
   "outputs": [],
   "source": [
    "string = \"tacocat\"\n"
   ]
  },
  {
   "cell_type": "markdown",
   "id": "567504cc-d0d6-470f-8dfa-cbdf428ab4fb",
   "metadata": {},
   "source": [
    "## Challenge Exercise\n",
    "Why does this code throw an error?"
   ]
  },
  {
   "cell_type": "code",
   "execution_count": null,
   "id": "644fb68d3928cf59",
   "metadata": {},
   "outputs": [],
   "source": [
    "string = \"sequence”"
   ]
  },
  {
   "cell_type": "code",
   "execution_count": null,
   "id": "16d7575f-1dce-4ab9-8906-cd067b60ff69",
   "metadata": {},
   "outputs": [],
   "source": []
  }
 ],
 "metadata": {
  "kernelspec": {
   "display_name": "Python 3 (ipykernel)",
   "language": "python",
   "name": "python3"
  },
  "language_info": {
   "codemirror_mode": {
    "name": "ipython",
    "version": 3
   },
   "file_extension": ".py",
   "mimetype": "text/x-python",
   "name": "python",
   "nbconvert_exporter": "python",
   "pygments_lexer": "ipython3",
   "version": "3.8.17"
  }
 },
 "nbformat": 4,
 "nbformat_minor": 5
}

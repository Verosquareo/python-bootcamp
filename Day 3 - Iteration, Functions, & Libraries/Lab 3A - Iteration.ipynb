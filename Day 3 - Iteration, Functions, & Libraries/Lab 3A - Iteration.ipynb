{
 "cells": [
  {
   "cell_type": "markdown",
   "id": "7245718b",
   "metadata": {},
   "source": [
    "# Lab 3A - Iteration\n",
    "*Day 3 - July 31, 2024*\n",
    "\n",
    "*I School Python Bootcamp*\n",
    "\n",
    "*Author: Lauren Chambers<br>Modified from notebooks by George McIntire, Hellina Nigatu, & Kat Tian*\n",
    "\n",
    "\n",
    "Iteration is a fundamental concept in programming and refers to the process of repeatedly executing a block of code or performing an operation on a sequence of elements until a certain condition is met. In simpler terms, it's a way of looping through a collection of data or performing a task multiple times.\n",
    "\n",
    "In programming, iteration is crucial for tasks that involve processing a series of values, such as iterating through elements in a list, characters in a string, or key-value pairs in a dictionary. It allows you to access each element or item in the collection, perform some operation on it, and then move on to the next element, continuing this process until the end of the sequence is reached or a specific condition is satisfied.\n",
    "\n",
    "The two main types of iteration are for loops and while loops"
   ]
  },
  {
   "cell_type": "markdown",
   "id": "68415c9f",
   "metadata": {},
   "source": [
    "### For loops"
   ]
  },
  {
   "cell_type": "markdown",
   "id": "e9d74cca",
   "metadata": {},
   "source": [
    "It's called a **for loop** because you executing code **for** each item in an iterable (strings, lists, sets, tuples, and more)"
   ]
  },
  {
   "cell_type": "markdown",
   "id": "b36facaa",
   "metadata": {},
   "source": [
    "Syntax"
   ]
  },
  {
   "cell_type": "code",
   "execution_count": null,
   "id": "f278c98b",
   "metadata": {},
   "outputs": [],
   "source": [
    "temperatures = [56.2, 78.2, 91, 45.8, 79]\n",
    "\n",
    "for i in temperatures:\n",
    "    print(\"temperature is \", i)"
   ]
  },
  {
   "cell_type": "markdown",
   "id": "ecda821e",
   "metadata": {},
   "source": [
    "`i` is variable assigned to each item in the list. \n",
    "\n",
    "\n",
    "The code block gets executed and then `i` is reassigned to the next item in the list."
   ]
  },
  {
   "cell_type": "markdown",
   "id": "e895d4b7",
   "metadata": {},
   "source": [
    "I use `i` as the iteration variable because that's the pythonic way. It's an aesthetic choice and has no functional value.\n",
    "\n",
    "Since we're using temperatures it might make sense to use `temp`"
   ]
  },
  {
   "cell_type": "code",
   "execution_count": null,
   "id": "8a12ea75",
   "metadata": {},
   "outputs": [],
   "source": [
    "for temp in temperatures:\n",
    "    print(\"temperature is \", temp)"
   ]
  },
  {
   "cell_type": "markdown",
   "id": "52137422",
   "metadata": {},
   "source": [
    "How could we change this code in order to print the celsius version of the temperatures? Remember, to go from F to C, you substract 32 and divide by 1.8."
   ]
  },
  {
   "cell_type": "code",
   "execution_count": null,
   "id": "9e7b59b5",
   "metadata": {},
   "outputs": [],
   "source": [
    "#CODE HERE"
   ]
  },
  {
   "cell_type": "markdown",
   "id": "1dac8baf",
   "metadata": {},
   "source": [
    "**Enumerate Function:**\n",
    "\n",
    "The `enumerate()` function is often used with \"for\" loops to access both the elements and their corresponding indices during iteration. It returns a tuple containing the index and the value of each element."
   ]
  },
  {
   "cell_type": "code",
   "execution_count": null,
   "id": "6300e84f",
   "metadata": {},
   "outputs": [],
   "source": [
    "for i, temp in enumerate(temperatures):\n",
    "    print(\"index = \", i, \"temperature = \", temp)"
   ]
  },
  {
   "cell_type": "markdown",
   "id": "2c51d8b8",
   "metadata": {},
   "source": [
    "Another way to iterate over the index is with the `range` function"
   ]
  },
  {
   "cell_type": "markdown",
   "id": "b2c1a02d",
   "metadata": {},
   "source": [
    "`range` is built-in function that allows us to quickly access a collection of numbers"
   ]
  },
  {
   "cell_type": "code",
   "execution_count": null,
   "id": "b2bc1b10",
   "metadata": {},
   "outputs": [],
   "source": [
    "#Print the squares of numbers 0-4\n",
    "r = range(5)\n",
    "\n",
    "for i in r:\n",
    "    print(i**2)"
   ]
  },
  {
   "cell_type": "code",
   "execution_count": null,
   "id": "0dbd1f11",
   "metadata": {},
   "outputs": [],
   "source": [
    "#print the square roots of numbers 10-13\n",
    "r = range(10, 14)\n",
    "for i in r:\n",
    "    print(i**.5)"
   ]
  },
  {
   "cell_type": "code",
   "execution_count": null,
   "id": "1d4c04e9",
   "metadata": {},
   "outputs": [],
   "source": [
    "list(range(5, 12, 2))"
   ]
  },
  {
   "cell_type": "markdown",
   "id": "9710e7a6-3ee4-44e5-97d3-0ad8571d81fc",
   "metadata": {},
   "source": [
    "As we discussed in the lesson, the `range()` function doesn't act like a list - it is a generator. Which is why the output of any `range()` will be the function itself, not a list:"
   ]
  },
  {
   "cell_type": "code",
   "execution_count": null,
   "id": "b97aeaef-474a-47cf-b70c-c69a31117562",
   "metadata": {},
   "outputs": [],
   "source": [
    "range(5)"
   ]
  },
  {
   "cell_type": "code",
   "execution_count": null,
   "id": "77c573e0",
   "metadata": {},
   "outputs": [],
   "source": [
    "for i in range(len(temperatures)):\n",
    "    temp = temperatures[i]\n",
    "    print(\"temperature\", temp)"
   ]
  },
  {
   "cell_type": "markdown",
   "id": "27191d1b",
   "metadata": {},
   "source": [
    "Let's find the max temperature without using the `max` function"
   ]
  },
  {
   "cell_type": "code",
   "execution_count": null,
   "id": "0e808cad",
   "metadata": {},
   "outputs": [],
   "source": [
    "max_temp = 0\n",
    "#code here"
   ]
  },
  {
   "cell_type": "markdown",
   "id": "72361f03",
   "metadata": {},
   "source": [
    "How would we go about printing the cumulative sum of a range of numbers.\n",
    "\n",
    "1, 3, 6, and so on? "
   ]
  },
  {
   "cell_type": "code",
   "execution_count": null,
   "id": "160e8df0",
   "metadata": {},
   "outputs": [],
   "source": [
    "#Code here"
   ]
  },
  {
   "cell_type": "markdown",
   "id": "3ce48c24",
   "metadata": {},
   "source": [
    "We can do iteration-ception by iterating over a list while we're iterating over a list."
   ]
  },
  {
   "cell_type": "code",
   "execution_count": null,
   "id": "7f37e83a",
   "metadata": {},
   "outputs": [],
   "source": [
    "fruits = [\"apple\", \"banana\", \"orange\", \"grape\"]\n",
    "\n",
    "vegetables = [\"kale\", \"carrots\", \"lettuce\", \"cabbage\"]"
   ]
  },
  {
   "cell_type": "code",
   "execution_count": null,
   "id": "ef9b87e5",
   "metadata": {},
   "outputs": [],
   "source": [
    "fruit_veggie_combos = []\n",
    "for f in fruits:\n",
    "    for v in vegetables:\n",
    "        fruit_veggie_combos.append((f, v))\n",
    "        \n",
    "fruit_veggie_combos"
   ]
  },
  {
   "cell_type": "markdown",
   "id": "4d86d2dc",
   "metadata": {},
   "source": [
    "**Simultaneous** iteration"
   ]
  },
  {
   "cell_type": "markdown",
   "id": "b9ac2d86",
   "metadata": {},
   "source": [
    "We can iterate over two lists at the same time through two different ways."
   ]
  },
  {
   "cell_type": "code",
   "execution_count": null,
   "id": "46ee2df4",
   "metadata": {},
   "outputs": [],
   "source": [
    "for i in range(len(fruits)):\n",
    "    \n",
    "    f = fruits[i]\n",
    "    v = vegetables[i]\n",
    "    \n",
    "    print(\"fruit = \", f, \" | \", \"vegetable = \", v)"
   ]
  },
  {
   "cell_type": "markdown",
   "id": "7c2bc21e",
   "metadata": {},
   "source": [
    "Or we can `zip` them. Here we have two iteration variables."
   ]
  },
  {
   "cell_type": "code",
   "execution_count": null,
   "id": "958d107a",
   "metadata": {},
   "outputs": [],
   "source": [
    "zipped_groceries = zip(fruits, vegetables)\n",
    "\n",
    "for f,v in zipped_groceries:\n",
    "    print(\"fruit = \", f, \" | \", \"vegetable = \", v)"
   ]
  },
  {
   "cell_type": "markdown",
   "id": "074e6360",
   "metadata": {},
   "source": [
    "### While loops"
   ]
  },
  {
   "cell_type": "markdown",
   "id": "327d27da",
   "metadata": {},
   "source": [
    "In Python, a **while** loop is a type of loop that allows you to repeatedly execute a block of code as long as a certain condition remains true. It continues to execute the code until the condition evaluates to false. While loops are useful when the number of iterations is not known beforehand, and the loop needs to continue until a specific condition is met."
   ]
  },
  {
   "cell_type": "code",
   "execution_count": null,
   "id": "c5665660",
   "metadata": {},
   "outputs": [],
   "source": [
    "count = 1\n",
    "while count <= 5:\n",
    "    print(count)\n",
    "    count += 1"
   ]
  },
  {
   "cell_type": "markdown",
   "id": "93ee6622",
   "metadata": {},
   "source": [
    "At the start of each loop, python checks to see if that condition is true and if it is then evaluate the code block."
   ]
  },
  {
   "cell_type": "code",
   "execution_count": null,
   "id": "3e9f642b",
   "metadata": {},
   "outputs": [],
   "source": [
    "count = 10\n",
    "\n",
    "while count > 0:\n",
    "    print(count)\n",
    "    count -= 1\n",
    "\n",
    "print(\"Blastoff!\")"
   ]
  },
  {
   "cell_type": "markdown",
   "id": "15326df5",
   "metadata": {},
   "source": [
    "How would calculate the factorial for a number?"
   ]
  },
  {
   "cell_type": "code",
   "execution_count": null,
   "id": "b7f2d0c4",
   "metadata": {},
   "outputs": [],
   "source": [
    "num = 10\n",
    "factorial = 1\n",
    "\n",
    "while num > 0:\n",
    "    print(num)\n",
    "    factorial *= num\n",
    "    num -= 1\n",
    "\n",
    "print(factorial)"
   ]
  },
  {
   "cell_type": "markdown",
   "id": "5645a826",
   "metadata": {},
   "source": [
    "I'm not a big fan of these examples because this is something you can also do in a for loop. So here's one exclusive to whiile loops."
   ]
  },
  {
   "cell_type": "markdown",
   "id": "08b18481-56e3-42a3-913e-f1cdc6b3e7ed",
   "metadata": {},
   "source": [
    "Here's an example where the loop has to wait for user input:"
   ]
  },
  {
   "cell_type": "code",
   "execution_count": null,
   "id": "b9fdeec2-d929-42ab-9d33-8df0f384b49d",
   "metadata": {},
   "outputs": [],
   "source": [
    "answer = \"\"\n",
    "while answer != \"no\":\n",
    "    answer = input(\"should I keep going? type yes or no.\")"
   ]
  },
  {
   "cell_type": "markdown",
   "id": "a705815c",
   "metadata": {},
   "source": [
    "<div class=\"alert alert-warning\"> \n",
    "Beware infinite loops!\n",
    "</div>\n",
    "\n",
    "```python\n",
    "# This is an infinite loop because the condition 'True' will never become 'False'\n",
    "while True:\n",
    "   print(\"This is an infinite loop!\")\n",
    "\n",
    "while 2>1:\n",
    "    print(\"This is also an infinite loop!\")\n",
    "```"
   ]
  },
  {
   "cell_type": "markdown",
   "id": "1807f98c",
   "metadata": {},
   "source": [
    "In this case, there is no condition that can make the loop exit naturally, resulting in an infinite loop that will keep printing the message forever. When this happens, you have to interrupt the kernel manually by pressing the ⏹️ button or going to \"Kernel > Interrupt Kernel\"."
   ]
  },
  {
   "cell_type": "markdown",
   "id": "79c98945",
   "metadata": {},
   "source": [
    "You can also do `while True` using the `break` keyworkd"
   ]
  },
  {
   "cell_type": "code",
   "execution_count": null,
   "id": "c90ca409",
   "metadata": {},
   "outputs": [],
   "source": [
    "password = \"password\"\n",
    "\n",
    "while True:\n",
    "    user_input = input(\"Enter the password: \")\n",
    "    if user_input == password:\n",
    "        print(\"Access granted!\")\n",
    "        break\n",
    "    else:\n",
    "        print(\"Incorrect password. Try again.\")"
   ]
  },
  {
   "cell_type": "markdown",
   "id": "e25cc66a",
   "metadata": {},
   "source": [
    "How can we amend the code to limit the number of password attempts to 3?"
   ]
  },
  {
   "cell_type": "code",
   "execution_count": null,
   "id": "4829e146",
   "metadata": {},
   "outputs": [],
   "source": [
    "password = \"password\"\n",
    "\n",
    "while True:\n",
    "    user_input = input(\"Enter the password: \")\n",
    "    if user_input == password:\n",
    "        print(\"Access granted!\")\n",
    "        break\n",
    "    else:\n",
    "        print(\"Incorrect password. Try again.\")"
   ]
  },
  {
   "cell_type": "markdown",
   "id": "a4d37ea2adc393e0",
   "metadata": {},
   "source": [
    "## List Comprehensions\n",
    "\n",
    "List comprehensions are a concise and elegant way to create lists in Python. They allow you to construct a new list by performing an operation on each element of an existing iterable (such as a list, tuple, or string) and applying an optional condition to filter the elements. List comprehensions provide a more compact and readable alternative to using traditional loops to generate lists."
   ]
  },
  {
   "cell_type": "markdown",
   "id": "77cb5d07241ff6c8",
   "metadata": {},
   "source": [
    "Create a new list that is the square of numbers 1-10."
   ]
  },
  {
   "cell_type": "markdown",
   "id": "b1d1a7c1815301d5",
   "metadata": {},
   "source": [
    "Previous method"
   ]
  },
  {
   "cell_type": "code",
   "execution_count": null,
   "id": "7935a154577674ff",
   "metadata": {},
   "outputs": [],
   "source": [
    "squares = []\n",
    "\n",
    "for i in range(1, 11):\n",
    "    squares.append(i**2)\n",
    "squares"
   ]
  },
  {
   "cell_type": "markdown",
   "id": "809fd8ebd35027cc",
   "metadata": {},
   "source": [
    "List comprehension version"
   ]
  },
  {
   "cell_type": "code",
   "execution_count": null,
   "id": "47ac220a41684d1c",
   "metadata": {},
   "outputs": [],
   "source": [
    "squares = [i**2 for i in range(1, 11)]\n",
    "squares"
   ]
  },
  {
   "cell_type": "markdown",
   "id": "6ef05ec3ccd782c1",
   "metadata": {},
   "source": [
    "Syntax:\n",
    "\n",
    "`new_list = [expression for item in iterable if condition]`\n",
    "\n",
    "- `expression` is the operation or transformation to be applied to each item.\n",
    "\n",
    "- `item` is the variable representing each element in the iterable.\n",
    "\n",
    "- `iterable` is the original collection (e.g., list, tuple, string) from which you want to create the new list.\n",
    "\n",
    "- `condition` is an optional filter that can be used to include only certain elements that satisfy a specific condition."
   ]
  },
  {
   "cell_type": "markdown",
   "id": "9439998cc65c0aa",
   "metadata": {},
   "source": [
    "Square only the even numbers"
   ]
  },
  {
   "cell_type": "code",
   "execution_count": null,
   "id": "61157a25c6615d3f",
   "metadata": {},
   "outputs": [],
   "source": [
    "#Old version\n",
    "\n",
    "even_squares = []\n",
    "\n",
    "for i in range(1, 11):\n",
    "    if i%2 == 0:\n",
    "        even_squares.append(i**2)\n",
    "even_squares"
   ]
  },
  {
   "cell_type": "code",
   "execution_count": null,
   "id": "caa0163c39cc8830",
   "metadata": {},
   "outputs": [],
   "source": [
    "even_squares = [i**2  for i in range(1, 11) if i % 2 == 0]"
   ]
  },
  {
   "cell_type": "code",
   "execution_count": null,
   "id": "1c96181506df912c",
   "metadata": {},
   "outputs": [],
   "source": []
  },
  {
   "cell_type": "markdown",
   "id": "58e1b8f975a6820a",
   "metadata": {},
   "source": [
    "If we want to use an else clause, the syntax gets a little trickier because the `if` gets moved to the front instead of kept in the back.\n",
    "\n",
    "`new_list = [expression_if_true if condition else expression_if_false for item in iterable]`"
   ]
  },
  {
   "cell_type": "markdown",
   "id": "7e98fff641d8f302",
   "metadata": {},
   "source": [
    "Square the evens and double the odds"
   ]
  },
  {
   "cell_type": "code",
   "execution_count": null,
   "id": "d3d4168aaac24ab6",
   "metadata": {},
   "outputs": [],
   "source": [
    "even_squares_double_odds = [i**2 if i % 2 == 0 else i*2 for i in range(1, 11)]\n",
    "even_squares_double_odds"
   ]
  },
  {
   "cell_type": "markdown",
   "id": "5deebc0c712342bb",
   "metadata": {},
   "source": [
    "**Nested-iterations with comprehensions**\n",
    "Syntax:\n",
    "\n",
    "`[expression for item1 in iterable1 for item2 in iterable2]`\n",
    "\n",
    "<br>\n",
    "\n",
    "Create combination pairs"
   ]
  },
  {
   "cell_type": "code",
   "execution_count": null,
   "id": "b9bb09cbb05f6628",
   "metadata": {},
   "outputs": [],
   "source": [
    "names = ['Natalia Juarez', 'Maahe Kazmi', 'Vijay Kumar Prakash', \n",
    "         'Evan Haas', 'Seth Eyume', 'Andrew Akuaku', 'Kenny Ly']\n",
    "\n",
    "pairs = [(name1, name2) for name1 in names for name2 in names if name1 != name2]\n",
    "pairs[:15]"
   ]
  },
  {
   "cell_type": "markdown",
   "id": "eb8bc0169aa29d3",
   "metadata": {},
   "source": [
    "Using an iteration variable from an outer loop within an inner loop.\n",
    "\n",
    "\n",
    "Let's flatten this matrix into a 1d list."
   ]
  },
  {
   "cell_type": "code",
   "execution_count": null,
   "id": "d45e40b995d6fa4f",
   "metadata": {},
   "outputs": [],
   "source": [
    "matrix = [[1, 2, 3],\n",
    "          [4, 5, 6],\n",
    "          [7, 8, 9]]\n",
    "\n",
    "# Nested iteration using list comprehension\n",
    "flattened_matrix = [num for row in matrix for num in row]\n",
    "\n",
    "flattened_matrix"
   ]
  },
  {
   "cell_type": "markdown",
   "id": "a289a7a73c1907f4",
   "metadata": {},
   "source": [
    "In this example, we have a 2D list called `matrix`, and we want to flatten it into a 1D list using a list comprehension. The nested iteration is achieved by using two `for` loops within the list comprehension: the outer loop iterates over each row in the `matrix`, and the inner loop iterates over each element (`num`) in the current row. By doing so, we extract all the individual elements from the 2D list and create a flattened version of the `matrix`."
   ]
  },
  {
   "cell_type": "markdown",
   "id": "ac8d377702464817",
   "metadata": {},
   "source": [
    " \n",
    "## Writing PseudoCode\n",
    "\n",
    "\n",
    "\n"
   ]
  },
  {
   "cell_type": "markdown",
   "id": "26a7d2393981d0cd",
   "metadata": {},
   "source": [
    "# Exercises \n",
    "\n",
    "## Exercise 1\n",
    "Extract only the consonants from the word _luguburious_\n",
    "\n",
    "\n",
    "Output => \"lgbrs\""
   ]
  },
  {
   "cell_type": "code",
   "execution_count": null,
   "id": "af37a3dfbba0adee",
   "metadata": {},
   "outputs": [],
   "source": [
    "consonants = \"\"\n",
    "vowels = \"aeiou\"\n",
    "word = \"luguburious\""
   ]
  },
  {
   "cell_type": "code",
   "execution_count": null,
   "id": "cbcc2e1c9cee61c",
   "metadata": {},
   "outputs": [],
   "source": []
  },
  {
   "cell_type": "markdown",
   "id": "e3ea69737fe4c401",
   "metadata": {},
   "source": [
    "## Exercise 2\n",
    "Write the pseudocode for the following programs."
   ]
  },
  {
   "cell_type": "code",
   "execution_count": null,
   "id": "dff162220bcf4672",
   "metadata": {},
   "outputs": [],
   "source": [
    "for x in range(4, 20):\n",
    "    print(x/2)\n"
   ]
  },
  {
   "cell_type": "markdown",
   "id": "972bc6d16a7a3097",
   "metadata": {},
   "source": [
    "write your pseudocode here (double click to edit the markdown)"
   ]
  },
  {
   "cell_type": "code",
   "execution_count": null,
   "id": "4b53409182d1d604",
   "metadata": {},
   "outputs": [],
   "source": [
    "for school in [\"Cal\", \"UCLA\", \"UCSF\"]:\n",
    "  print(school + \" is a UC school.\")\n"
   ]
  },
  {
   "cell_type": "markdown",
   "id": "d5b70ef5a88968c0",
   "metadata": {},
   "source": [
    "write your pseudocode here"
   ]
  },
  {
   "cell_type": "markdown",
   "id": "ebbf60f7d271d874",
   "metadata": {},
   "source": [
    "## Exercise 3\n",
    "\n",
    "Part 1: \n",
    "\n",
    "\n",
    "Find the total number of characters (letters) in this list of strings"
   ]
  },
  {
   "cell_type": "code",
   "execution_count": null,
   "id": "12401cd6624d000f",
   "metadata": {},
   "outputs": [],
   "source": [
    "sf_streets = [\"Market\", \"Mission\", \"Lombard\", \"Geary\", \"Van Ness\", \n",
    "              \"Embarcadero\", \"Haight\", \"Divisadero Street\"]\n",
    "total_characters = 0\n",
    "\n",
    "# Code here"
   ]
  },
  {
   "cell_type": "markdown",
   "id": "47be59ec130be65e",
   "metadata": {},
   "source": [
    "Part 2:\n",
    "\n",
    "Create a string that is the capitalized first letter of each street in alphabetical order. (Not sure how to put a string into alphabetical order? Google it! 😉)"
   ]
  },
  {
   "cell_type": "code",
   "execution_count": null,
   "id": "53d50633e1f97435",
   "metadata": {},
   "outputs": [],
   "source": [
    "capitalized_str = \"\""
   ]
  },
  {
   "cell_type": "markdown",
   "id": "8f6008e956c1b584",
   "metadata": {},
   "source": [
    "## Exercise 4\n",
    "\n",
    "Iterate over numbers 5 to 35, square the odd numbers and double the even numbers and append them to the output list."
   ]
  },
  {
   "cell_type": "code",
   "execution_count": null,
   "id": "81e9c1efa3b3bbd0",
   "metadata": {},
   "outputs": [],
   "source": [
    "output = []\n",
    "\n",
    "# Code here"
   ]
  },
  {
   "cell_type": "markdown",
   "id": "798d32e57df2926f",
   "metadata": {},
   "source": [
    "## Exercise 5\n",
    "\n",
    "Use a while loop and a set to iterate over a string until you reach a letter you've already encountered."
   ]
  },
  {
   "cell_type": "code",
   "execution_count": null,
   "id": "1bb9b326da8e7319",
   "metadata": {},
   "outputs": [],
   "source": [
    "word = 'machinelearning'"
   ]
  },
  {
   "cell_type": "markdown",
   "id": "22f28310669a2c95",
   "metadata": {},
   "source": [
    "*Bonus:* Add a part that tells what index position of the first duplicate character."
   ]
  },
  {
   "cell_type": "code",
   "execution_count": null,
   "id": "228c00e09a8c982d",
   "metadata": {},
   "outputs": [],
   "source": []
  },
  {
   "cell_type": "markdown",
   "id": "1c9eb0f0a0816c56",
   "metadata": {},
   "source": [
    "## Exercise 6\n",
    "\n",
    "Create the multiplication table below\n",
    "\n",
    "```\n",
    "1 2 3 4 5 6 7 8 9 10\n",
    "2 4 6 8 10 12 14 16 18 20\n",
    "3 6 9 12 15 18 21 24 27 30\n",
    "4 8 12 16 20 24 28 32 36 40\n",
    "5 10 15 20 25 30 35 40 45 50\n",
    "6 12 18 24 30 36 42 48 54 60\n",
    "7 14 21 28 35 42 49 56 63 70\n",
    "8 16 24 32 40 48 56 64 72 80\n",
    "9 18 27 36 45 54 63 72 81 90\n",
    "10 20 30 40 50 60 70 80 90 100\n",
    "```"
   ]
  },
  {
   "cell_type": "code",
   "execution_count": null,
   "id": "75bbe0fdbf135645",
   "metadata": {},
   "outputs": [],
   "source": [
    "#CODE HERE"
   ]
  }
 ],
 "metadata": {
  "kernelspec": {
   "display_name": "Python 3 (ipykernel)",
   "language": "python",
   "name": "python3"
  },
  "language_info": {
   "codemirror_mode": {
    "name": "ipython",
    "version": 3
   },
   "file_extension": ".py",
   "mimetype": "text/x-python",
   "name": "python",
   "nbconvert_exporter": "python",
   "pygments_lexer": "ipython3",
   "version": "3.8.17"
  }
 },
 "nbformat": 4,
 "nbformat_minor": 5
}

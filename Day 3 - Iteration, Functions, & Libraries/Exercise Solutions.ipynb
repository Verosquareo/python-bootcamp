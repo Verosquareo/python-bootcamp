{
 "cells": [
  {
   "cell_type": "markdown",
   "id": "cc6757fffa530216",
   "metadata": {},
   "source": [
    "# Exercise Solutions - Day 3\n",
    "*July 31, 2024*\n",
    "\n",
    "*I School Python Bootcamp*\n",
    "\n",
    "*Author: Lauren Chambers<br>Modified from exercises by George McIntire, Hellina Nigatu, & Kat Tian*\n",
    "\n",
    "## Lab 3A - Iteration\n",
    "\n",
    "### Exercise 1\n",
    "Extract only the consonants from the word _luguburious_\n",
    "\n",
    "\n",
    "Output => \"lgbrs\""
   ]
  },
  {
   "cell_type": "code",
   "execution_count": 69,
   "id": "af37a3dfbba0adee",
   "metadata": {},
   "outputs": [
    {
     "data": {
      "text/plain": [
       "'lgbrs'"
      ]
     },
     "execution_count": 69,
     "metadata": {},
     "output_type": "execute_result"
    }
   ],
   "source": [
    "consonants = \"\"\n",
    "vowels = \"aeiou\"\n",
    "word = \"luguburious\"\n",
    "\n",
    "for char in word:\n",
    "    # Check if each letter is vowel\n",
    "    if char not in vowels:\n",
    "        # If it's not, concatente onto the `consonants` string\n",
    "        consonants += char\n",
    "consonants"
   ]
  },
  {
   "cell_type": "markdown",
   "id": "e3ea69737fe4c401",
   "metadata": {},
   "source": [
    "### Exercise 2\n",
    "Write the pseudocode for the following programs."
   ]
  },
  {
   "cell_type": "code",
   "execution_count": null,
   "id": "dff162220bcf4672",
   "metadata": {},
   "outputs": [],
   "source": [
    "for x in range(4, 20):\n",
    "    print(x/2)"
   ]
  },
  {
   "cell_type": "markdown",
   "id": "972bc6d16a7a3097",
   "metadata": {},
   "source": [
    "*Pseudocode:* For each number from 4 to 19, print the number divided by two. Output: 2, 2.5, 3, 3.5, 4... 9.5"
   ]
  },
  {
   "cell_type": "code",
   "execution_count": null,
   "id": "4b53409182d1d604",
   "metadata": {},
   "outputs": [],
   "source": [
    "for school in [\"Cal\", \"UCLA\", \"UCSF\"]:\n",
    "  print(school + \" is a UC school.\")"
   ]
  },
  {
   "cell_type": "markdown",
   "id": "d5b70ef5a88968c0",
   "metadata": {},
   "source": [
    "*Pseudocode:* For each listed school, including Cal, UCLA, and UCSF, print that the school is a UC school."
   ]
  },
  {
   "cell_type": "markdown",
   "id": "ebbf60f7d271d874",
   "metadata": {},
   "source": [
    "### Exercise 3\n",
    "\n",
    "Part 1: \n",
    "\n",
    "\n",
    "Find the total number of characters (letters) in this list of strings"
   ]
  },
  {
   "cell_type": "code",
   "execution_count": 10,
   "id": "115df878-c878-44a4-8630-8ae300843268",
   "metadata": {},
   "outputs": [],
   "source": [
    "sf_streets = [\"Market\", \"Mission\", \"Lombard\", \"Geary\", \"Van Ness\", \n",
    "              \"Embarcadero\", \"Haight\", \"Divisadero Street\"]\n",
    "total_characters = 0"
   ]
  },
  {
   "cell_type": "code",
   "execution_count": 12,
   "id": "dd1dab23-2fa7-4c39-b989-f49b18001c44",
   "metadata": {},
   "outputs": [
    {
     "data": {
      "text/plain": [
       "18"
      ]
     },
     "execution_count": 12,
     "metadata": {},
     "output_type": "execute_result"
    }
   ],
   "source": [
    " # Join all names into one mega-string\n",
    "all_together = \"\".join(sf_streets)\n",
    "# Use a list comprehension to take only alphabetical characters, and make them lowercase\n",
    "street_characters = [char.lower() for char in all_together if char.isalpha()]\n",
    "# Measure the length of the list = the number of unique letters. Use sets!\n",
    "len(set(street_characters))"
   ]
  },
  {
   "cell_type": "markdown",
   "id": "47be59ec130be65e",
   "metadata": {},
   "source": [
    "Part 2:\n",
    "\n",
    "Create a string that is the capitalized first letter of each street in alphabetical order. (Not sure how to put a string into alphabetical order? Google it! 😉)"
   ]
  },
  {
   "cell_type": "code",
   "execution_count": 93,
   "id": "53d50633e1f97435",
   "metadata": {},
   "outputs": [
    {
     "data": {
      "text/plain": [
       "'DEGHLMMV'"
      ]
     },
     "execution_count": 93,
     "metadata": {},
     "output_type": "execute_result"
    }
   ],
   "source": [
    "# Use a list comprehension to get the first letter of each street\n",
    "first_letters = [street[0] for street in sf_streets]\n",
    "# Alphabetize the list\n",
    "alpha_first_letters = sorted(first_letters)\n",
    "# Turn the list back into one long string\n",
    "capitalized_str = \"\".join(alpha_first_letters)\n",
    "capitalized_str"
   ]
  },
  {
   "cell_type": "markdown",
   "id": "8f6008e956c1b584",
   "metadata": {},
   "source": [
    "### Exercise 4\n",
    "\n",
    "Iterate over numbers 5 to 35, square the odd numbers and double the even numbers and append them to the output list."
   ]
  },
  {
   "cell_type": "code",
   "execution_count": 139,
   "id": "d2f41bb9-0f32-4b9d-a9a7-e72595222138",
   "metadata": {
    "scrolled": true
   },
   "outputs": [
    {
     "data": {
      "text/plain": [
       "[25,\n",
       " 12,\n",
       " 49,\n",
       " 16,\n",
       " 81,\n",
       " 20,\n",
       " 121,\n",
       " 24,\n",
       " 169,\n",
       " 28,\n",
       " 225,\n",
       " 32,\n",
       " 289,\n",
       " 36,\n",
       " 361,\n",
       " 40,\n",
       " 441,\n",
       " 44,\n",
       " 529,\n",
       " 48,\n",
       " 625,\n",
       " 52,\n",
       " 729,\n",
       " 56,\n",
       " 841,\n",
       " 60,\n",
       " 961,\n",
       " 64,\n",
       " 1089,\n",
       " 68,\n",
       " 1225]"
      ]
     },
     "execution_count": 139,
     "metadata": {},
     "output_type": "execute_result"
    }
   ],
   "source": [
    "# for loop version\n",
    "output = []\n",
    "for num in range(5, 36):\n",
    "    if num % 2 ==0:\n",
    "        output.append(num * 2)\n",
    "    else:\n",
    "        output.append(num **2)\n",
    "output"
   ]
  },
  {
   "cell_type": "code",
   "execution_count": 141,
   "id": "f86563bb-db98-4ac0-b91f-b2b4da3f8a2e",
   "metadata": {
    "scrolled": true
   },
   "outputs": [
    {
     "data": {
      "text/plain": [
       "[25,\n",
       " 12,\n",
       " 49,\n",
       " 16,\n",
       " 81,\n",
       " 20,\n",
       " 121,\n",
       " 24,\n",
       " 169,\n",
       " 28,\n",
       " 225,\n",
       " 32,\n",
       " 289,\n",
       " 36,\n",
       " 361,\n",
       " 40,\n",
       " 441,\n",
       " 44,\n",
       " 529,\n",
       " 48,\n",
       " 625,\n",
       " 52,\n",
       " 729,\n",
       " 56,\n",
       " 841,\n",
       " 60,\n",
       " 961,\n",
       " 64,\n",
       " 1089,\n",
       " 68,\n",
       " 1225]"
      ]
     },
     "execution_count": 141,
     "metadata": {},
     "output_type": "execute_result"
    }
   ],
   "source": [
    "# list comp version\n",
    "output = [num * 2 if num % 2 ==0 else num**2 for num in range(5, 36)]\n",
    "output"
   ]
  },
  {
   "cell_type": "markdown",
   "id": "798d32e57df2926f",
   "metadata": {},
   "source": [
    "### Exercise 5\n",
    "\n",
    "Use a while loop and a set to iterate over a string until you reach a letter you've already encountered."
   ]
  },
  {
   "cell_type": "code",
   "execution_count": 19,
   "id": "1bb9b326da8e7319",
   "metadata": {},
   "outputs": [
    {
     "name": "stdout",
     "output_type": "stream",
     "text": [
      "m\n",
      "a\n",
      "c\n",
      "h\n",
      "i\n",
      "n\n",
      "e\n",
      "l\n"
     ]
    }
   ],
   "source": [
    "word = 'machinelearning'\n",
    "\n",
    "# Initialize values we'll be iterating over\n",
    "familiar_letters = []\n",
    "i = 0\n",
    "new_letter = \"\"\n",
    "\n",
    "# Keep looping until we find a new letter that is already in the familiar_letters list\n",
    "while new_letter not in familiar_letters:\n",
    "    # Get the ith letter\n",
    "    letter = word[i]\n",
    "    print(letter)\n",
    "    \n",
    "    # Add it to our list of known letters\n",
    "    familiar_letters.append(letter)\n",
    "    \n",
    "    # Move on to the next letter\n",
    "    i += 1\n",
    "    new_letter = word[i]"
   ]
  },
  {
   "cell_type": "markdown",
   "id": "22f28310669a2c95",
   "metadata": {},
   "source": [
    "*Bonus:* Add a part that tells what index position of the first duplicate character."
   ]
  },
  {
   "cell_type": "code",
   "execution_count": 22,
   "id": "228c00e09a8c982d",
   "metadata": {},
   "outputs": [
    {
     "name": "stdout",
     "output_type": "stream",
     "text": [
      "m\n",
      "a\n",
      "c\n",
      "h\n",
      "i\n",
      "n\n",
      "e\n",
      "l\n",
      "index: 8\n"
     ]
    }
   ],
   "source": [
    "# Initialize values we'll be iterating over\n",
    "familiar_letters = []\n",
    "i = 0\n",
    "new_letter = \"\"\n",
    "\n",
    "while new_letter not in familiar_letters:\n",
    "    # Get the ith letter\n",
    "    letter = word[i]\n",
    "    print(letter)\n",
    "    \n",
    "    # Add it to our list of known letters\n",
    "    familiar_letters.append(letter)\n",
    "    \n",
    "    # Move on to the next letter\n",
    "    i += 1\n",
    "    new_letter = word[i]\n",
    "\n",
    "    # If it's a duplicate, print the index\n",
    "    if new_letter in familiar_letters:\n",
    "        print(\"index:\", i)"
   ]
  },
  {
   "cell_type": "code",
   "execution_count": 24,
   "id": "271ee576-2bf8-4275-a04d-ed685d4be61e",
   "metadata": {},
   "outputs": [
    {
     "data": {
      "text/plain": [
       "'e'"
      ]
     },
     "execution_count": 24,
     "metadata": {},
     "output_type": "execute_result"
    }
   ],
   "source": [
    "# test - what is the 8th letter?\n",
    "word[8]"
   ]
  },
  {
   "cell_type": "markdown",
   "id": "1c9eb0f0a0816c56",
   "metadata": {},
   "source": [
    "### Exercise 6\n",
    "\n",
    "Create the multiplication table below\n",
    "\n",
    "```\n",
    "1 2 3 4 5 6 7 8 9 10\n",
    "2 4 6 8 10 12 14 16 18 20\n",
    "3 6 9 12 15 18 21 24 27 30\n",
    "4 8 12 16 20 24 28 32 36 40\n",
    "5 10 15 20 25 30 35 40 45 50\n",
    "6 12 18 24 30 36 42 48 54 60\n",
    "7 14 21 28 35 42 49 56 63 70\n",
    "8 16 24 32 40 48 56 64 72 80\n",
    "9 18 27 36 45 54 63 72 81 90\n",
    "10 20 30 40 50 60 70 80 90 100\n",
    "```"
   ]
  },
  {
   "cell_type": "code",
   "execution_count": 121,
   "id": "75bbe0fdbf135645",
   "metadata": {},
   "outputs": [
    {
     "name": "stdout",
     "output_type": "stream",
     "text": [
      "1 2 3 4 5 6 7 8 9 10 \n",
      "2 4 6 8 10 12 14 16 18 20 \n",
      "3 6 9 12 15 18 21 24 27 30 \n",
      "4 8 12 16 20 24 28 32 36 40 \n",
      "5 10 15 20 25 30 35 40 45 50 \n",
      "6 12 18 24 30 36 42 48 54 60 \n",
      "7 14 21 28 35 42 49 56 63 70 \n",
      "8 16 24 32 40 48 56 64 72 80 \n",
      "9 18 27 36 45 54 63 72 81 90 \n",
      "10 20 30 40 50 60 70 80 90 100 \n"
     ]
    }
   ],
   "source": [
    "# using x and y as variables for this grid\n",
    "for y in range(1, 11):\n",
    "    # for each y value, create a row\n",
    "    row = \"\"\n",
    "    for x in range(1, 11):\n",
    "        # each column is x * y\n",
    "        row += str(x * y) + \" \"\n",
    "    print(row)"
   ]
  },
  {
   "cell_type": "markdown",
   "id": "c319a6e0-89d3-45c1-ba17-4d8427dc0043",
   "metadata": {},
   "source": [
    "## Lab 3B - Functions & Libraries\n",
    "## Exercise 0 \n",
    "\n",
    "Visit the documentation for the JWST Quicklook (JWQL) package: https://jwql.readthedocs.io/en/latest/\n",
    "\n",
    "What are the arguments does the the `jwql.instrument_monitors.common_monitors.bad_pixel_monitor.check_for_sufficient_files()` function take?<div class = \"alert alert-block alert-warning\">\n",
    "Lauren did a bad job choosing a sample function from the JWQL docs, especially since the ReadTheDocs search function seems to be glitching. A better one would be the <code>jwql.database.database_interface.get_monitor_table_constraints</code> function.\n",
    "</div>\n",
    "\n",
    "\n",
    "*Y'all won't be working on astronomical instrument monitoring software at the I School (probably) - but I include this question to demonstrate that well-written software documentation is easy to navigate, even with zero background expertise!*\n"
   ]
  },
  {
   "cell_type": "code",
   "execution_count": null,
   "id": "3417161b-9f38-4268-ae2b-41e6970621bb",
   "metadata": {},
   "outputs": [],
   "source": [
    "# Original answer: \n",
    "#https://jwql.readthedocs.io/en/latest/common_monitors.html#jwql.instrument_monitors.common_monitors.bad_pixel_monitor.check_for_sufficient_files\n",
    "#uncal_files, instrument_name, aperture_name, threshold_value, file_type\n",
    "\n",
    "# New answer: \n",
    "#https://jwql.readthedocs.io/en/latest/database.html#jwql.database.database_interface.get_monitor_table_constraints\n",
    "#data_dict, table_name"
   ]
  },
  {
   "cell_type": "markdown",
   "id": "3f3fce6ca3a777ff",
   "metadata": {},
   "source": [
    "## Exercise 1 \n",
    "*Tax Calculator Upgrade:*\n",
    "\n",
    "Let's bring back our tax calculator exercise -- but this time we'll add in another level\n",
    "\n",
    "\n",
    "Tax rate rules\n",
    "\n",
    "- \\\\$0 - \\\\$25,000 => 10%\n",
    "- \\\\$25,000 - \\\\$50,000 => 15%\n",
    "- \\\\$50,000 - inf => 25%\n",
    "\n",
    "Write a function that calculates the tax bill of a given income.\n",
    "\n",
    "For example, the tax of \\\\$35,000 dollars is 25000 * 0.1 + (35000-25000) * 0.15 = 4000"
   ]
  },
  {
   "cell_type": "code",
   "execution_count": 40,
   "id": "36f61344144e45d0",
   "metadata": {},
   "outputs": [],
   "source": [
    "def calc_tax(income):\n",
    "    if income <= 25000:\n",
    "        tax = income * .1\n",
    "    elif income <= 50000:\n",
    "        tax = 25000 * .1\n",
    "        tax += (income - 25000) * .15\n",
    "    else:\n",
    "        tax = 25000 * .1\n",
    "        tax += (50000 - 25000) * .15\n",
    "        tax += (income - 50000) * .25\n",
    "    return tax"
   ]
  },
  {
   "cell_type": "code",
   "execution_count": 120,
   "id": "6f239c5f-a78a-4f06-af38-3a3f190e8a77",
   "metadata": {},
   "outputs": [
    {
     "data": {
      "text/plain": [
       "4000.0"
      ]
     },
     "execution_count": 120,
     "metadata": {},
     "output_type": "execute_result"
    }
   ],
   "source": [
    "calc_tax(35000)"
   ]
  },
  {
   "cell_type": "code",
   "execution_count": 42,
   "id": "3e53e34d-cd18-4209-b913-4fdebfa04eed",
   "metadata": {},
   "outputs": [
    {
     "data": {
      "text/plain": [
       "11250.0"
      ]
     },
     "execution_count": 42,
     "metadata": {},
     "output_type": "execute_result"
    }
   ],
   "source": [
    "calc_tax(70000)"
   ]
  },
  {
   "cell_type": "markdown",
   "id": "e75cb030d632a88d",
   "metadata": {},
   "source": [
    "## Exercise 3: \n",
    "*Case Inversion*\n",
    "\n",
    "Write a function that inverts the casing of a character in a string\n",
    "\n",
    "Ex: \"His name is Dennis\" => \"hIS NAME IS deNNIS\""
   ]
  },
  {
   "cell_type": "code",
   "execution_count": 86,
   "id": "67fd8904cac18b28",
   "metadata": {},
   "outputs": [],
   "source": [
    "def invert_case(string):\n",
    "    inverted_string = []\n",
    "    for char in string:\n",
    "        # Make uppercase characters lowercase\n",
    "        if char.isupper():\n",
    "            inverted_string += char.lower()\n",
    "        # Make lowercase characters uppercase\n",
    "        elif char.islower():\n",
    "            inverted_string += char.upper()\n",
    "        # Keep non-letter characters (like spaces)\n",
    "        else: \n",
    "            inverted_string += char\n",
    "    return \"\".join(inverted_string)"
   ]
  },
  {
   "cell_type": "code",
   "execution_count": 90,
   "id": "3947ff8a-6fba-41f3-9136-6e7b9c214177",
   "metadata": {},
   "outputs": [
    {
     "data": {
      "text/plain": [
       "'hIS NAME IS dENNIS'"
      ]
     },
     "execution_count": 90,
     "metadata": {},
     "output_type": "execute_result"
    }
   ],
   "source": [
    "invert_case(\"His name is Dennis\")"
   ]
  },
  {
   "cell_type": "markdown",
   "id": "be7c7d88-d43b-4832-829f-6b224ef380f3",
   "metadata": {},
   "source": [
    "## Exercise 4\n",
    "\n",
    "Write a function that outputs the standard deviation of a list of numbers\n",
    "\n",
    "Formula here:\n",
    "\n",
    "![](https://www.gstatic.com/education/formulas2/472522532/en/population_standard_deviation.svg)"
   ]
  },
  {
   "cell_type": "code",
   "execution_count": 94,
   "id": "99fd6886-a894-429b-9a53-6a2ae034c94e",
   "metadata": {},
   "outputs": [],
   "source": [
    "import statistics"
   ]
  },
  {
   "cell_type": "code",
   "execution_count": 102,
   "id": "e33f5b8c-5718-41cc-b449-25dc7c9a57f6",
   "metadata": {},
   "outputs": [],
   "source": [
    "def std(num_list):\n",
    "    sum_items = 0\n",
    "    # Calculate mean mu using statistics.mean\n",
    "    # ... though you could also do mu = sum(num_list) / len(num_list) \n",
    "    mu = statistics.mean(num_list)\n",
    "    \n",
    "    for item in num_list:\n",
    "        sum_items += (item - mu)**2\n",
    "        \n",
    "    std = (sum_items / len(num_list))**.5\n",
    "    return std"
   ]
  },
  {
   "cell_type": "code",
   "execution_count": 95,
   "id": "99fd3d31-a337-4d23-bc99-08e0e0014751",
   "metadata": {},
   "outputs": [],
   "source": [
    "num_list = list(range(30, 100, 2)) # try with this list\n",
    "std(num_list)"
   ]
  },
  {
   "cell_type": "markdown",
   "id": "71b793fb03467204",
   "metadata": {},
   "source": [
    "## Exercise 5\n",
    "*Extract Phone Number*\n",
    "\n",
    "Write a function that takes in some text and extracts the phone number from it.\n",
    "\n",
    "Remember that the phone is in the ddd-ddd-dddd format."
   ]
  },
  {
   "cell_type": "code",
   "execution_count": 46,
   "id": "24082624dbf0a7a0",
   "metadata": {},
   "outputs": [],
   "source": [
    "text = \"\"\"For general inquiries and information about the National Park Service, \n",
    "you can contact their main office through their website\n",
    "or call the NPS information line at 800-383-3839. Keep in mind that contact information and \n",
    "services may vary between different national parks, so it's best to check the \n",
    "specific park's website or contact them directly for the most accurate and up-to-date information.\"\"\""
   ]
  },
  {
   "cell_type": "code",
   "execution_count": 114,
   "id": "9257628b-c556-406f-ace7-99902c57581b",
   "metadata": {},
   "outputs": [],
   "source": [
    "# Lazy answer\n",
    "def extract_number(txt):\n",
    "    words = txt.split()\n",
    "    for word in words:\n",
    "        # Just look for the only word that starts with a number\n",
    "        if word[0].isnumeric():\n",
    "            phone_number = word\n",
    "\n",
    "    return phone_number"
   ]
  },
  {
   "cell_type": "code",
   "execution_count": 116,
   "id": "06029bf7-ac73-450f-b7f2-d4cf61c33058",
   "metadata": {},
   "outputs": [
    {
     "data": {
      "text/plain": [
       "'800-383-3839.'"
      ]
     },
     "execution_count": 116,
     "metadata": {},
     "output_type": "execute_result"
    }
   ],
   "source": [
    "extract_number(text)"
   ]
  },
  {
   "cell_type": "code",
   "execution_count": 60,
   "id": "5f80c452-29ec-465b-bf09-8ad03a6203e1",
   "metadata": {},
   "outputs": [],
   "source": [
    "# Fancy answer uses regular expressions (regex)\n",
    "import re"
   ]
  },
  {
   "cell_type": "code",
   "execution_count": 56,
   "id": "a1512c5a-30a6-4148-a180-cf805467073d",
   "metadata": {},
   "outputs": [],
   "source": [
    "def extract_number(txt):\n",
    "    # Create a regular expression to search:\n",
    "    # \\d refers to a digit/number\n",
    "    # {x} specifies the number of times that character repeats\n",
    "    # \\d{3}-\\d{3}-\\d{4} matches ###-###-####\n",
    "    phone_number = re.findall(\"\\d{3}-\\d{3}-\\d{4}\", text)[0]\n",
    "\n",
    "    return phone_number"
   ]
  },
  {
   "cell_type": "code",
   "execution_count": 58,
   "id": "d23da694-bb29-4ea2-861e-15c7dca1336f",
   "metadata": {},
   "outputs": [
    {
     "data": {
      "text/plain": [
       "'800-383-3839'"
      ]
     },
     "execution_count": 58,
     "metadata": {},
     "output_type": "execute_result"
    }
   ],
   "source": [
    "extract_number(text)"
   ]
  }
 ],
 "metadata": {
  "kernelspec": {
   "display_name": "Python 3 (ipykernel)",
   "language": "python",
   "name": "python3"
  },
  "language_info": {
   "codemirror_mode": {
    "name": "ipython",
    "version": 3
   },
   "file_extension": ".py",
   "mimetype": "text/x-python",
   "name": "python",
   "nbconvert_exporter": "python",
   "pygments_lexer": "ipython3",
   "version": "3.8.17"
  }
 },
 "nbformat": 4,
 "nbformat_minor": 5
}

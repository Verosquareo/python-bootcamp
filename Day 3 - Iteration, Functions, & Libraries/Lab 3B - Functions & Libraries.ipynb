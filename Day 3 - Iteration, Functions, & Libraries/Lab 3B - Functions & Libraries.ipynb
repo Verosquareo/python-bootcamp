{
 "cells": [
  {
   "cell_type": "markdown",
   "id": "844db1c5",
   "metadata": {},
   "source": [
    "# Lab 3B - Functions & Libraries\n",
    "*Day 3 - July 31, 2024*\n",
    "\n",
    "*I School Python Bootcamp*\n",
    "\n",
    "*Author: Lauren Chambers<br>Modified from notebooks by George McIntire, Hellina Nigatu, & Kat Tian*\n",
    "\n",
    "Functions are fundamental components of Python that allow you to encapsulate code into reusable blocks. They help make programs more modular, readable, and easier to debug. In this notebook, we'll explore how to define and call functions, pass arguments, and return values. We'll also learn about more advanced topics like recursion, higher-order functions, and lambda expressions. Through these exercises, you'll gain a deeper understanding of how functions can simplify complex tasks and enhance your programming efficiency."
   ]
  },
  {
   "cell_type": "markdown",
   "id": "7fd87801",
   "metadata": {},
   "source": [
    "Let's start with an example: creating emails from lists of names"
   ]
  },
  {
   "cell_type": "code",
   "execution_count": null,
   "id": "fab9eee5",
   "metadata": {},
   "outputs": [],
   "source": [
    "names = ['Simone Biles', 'Jordan Chiles', 'Sunisa Lee', 'Jade Carey', 'Hezly Rivera']"
   ]
  },
  {
   "cell_type": "code",
   "execution_count": null,
   "id": "5f988a74",
   "metadata": {},
   "outputs": [],
   "source": [
    "template = \"{}_{}@{}.{}\"\n",
    "domain = \"berkeley\"\n",
    "suffix = \"edu\"\n",
    "\n",
    "for name in names:\n",
    "    split_names = name.split()\n",
    "    first_name = split_names[0]\n",
    "    last_name = split_names[1]\n",
    "    print(template.format(first_name.lower(),last_name.lower(), domain, suffix), \"\\n\")\n",
    "    \n",
    "    "
   ]
  },
  {
   "cell_type": "markdown",
   "id": "5b5e528b",
   "metadata": {},
   "source": [
    "Let's change the domain to gmail."
   ]
  },
  {
   "cell_type": "code",
   "execution_count": null,
   "id": "0e13265c",
   "metadata": {},
   "outputs": [],
   "source": [
    "domain = \"gmail\"\n",
    "suffix = \"com\"\n",
    "\n",
    "for name in names:\n",
    "    split_names = name.split()\n",
    "    first_name = split_names[0]\n",
    "    last_name = split_names[1]\n",
    "    print(template.format(first_name.lower(),last_name.lower(), domain, suffix), \"\\n\")\n",
    "    \n",
    "    "
   ]
  },
  {
   "cell_type": "markdown",
   "id": "9985ab9d",
   "metadata": {},
   "source": [
    "Different set of names "
   ]
  },
  {
   "cell_type": "code",
   "execution_count": null,
   "id": "5114c2a4",
   "metadata": {},
   "outputs": [],
   "source": [
    "names = ['Rebeca Andrade', 'Jade Barbosa', 'Lorrane Oliveira', 'Flávia Saraiva', 'Júlia Soares']"
   ]
  },
  {
   "cell_type": "code",
   "execution_count": null,
   "id": "018d214c",
   "metadata": {},
   "outputs": [],
   "source": [
    "domain = \"berkeley\"\n",
    "suffix = \"edu\"\n",
    "\n",
    "for name in names:\n",
    "    split_names = name.split()\n",
    "    first_name = split_names[0]\n",
    "    last_name = split_names[1]\n",
    "    print(template.format(first_name.lower(),last_name.lower(), domain, suffix), \"\\n\")\n",
    "    \n",
    "    "
   ]
  },
  {
   "cell_type": "markdown",
   "id": "dd4ccba2",
   "metadata": {},
   "source": [
    "Change domain again"
   ]
  },
  {
   "cell_type": "code",
   "execution_count": null,
   "id": "c44274bd",
   "metadata": {},
   "outputs": [],
   "source": [
    "domain = \"gmail\"\n",
    "suffix = \"com\"\n",
    "\n",
    "for name in names:\n",
    "    split_names = name.split()\n",
    "    first_name = split_names[0]\n",
    "    last_name = split_names[1]\n",
    "    print(template.format(first_name.lower(),last_name.lower(), domain, suffix), \"\\n\")"
   ]
  },
  {
   "cell_type": "markdown",
   "id": "a8abb41f",
   "metadata": {},
   "source": [
    "*What's the issue here with my code?* It runs just fine and does what it's supposed to do. But code like this will earn you the ire of you classmates and colleagues.\n",
    "\n",
    "It does not abstract away the repetition; we are not living by the \"DRY\" principle: **Do Not Repeat Yourself!**\n",
    "\n",
    "The main idea behind the DRY principle is to avoid duplication of code. Instead of writing the same logic in multiple places, you should extract common functionalities into reusable components such as functions, classes, or modules. By doing so, you reduce the risk of inconsistencies, bugs, and redundant maintenance efforts.\n",
    "\n",
    "This is where **functions** come in because when you have to repeat a task you should write a function."
   ]
  },
  {
   "cell_type": "markdown",
   "id": "e2ea6918",
   "metadata": {},
   "source": [
    "## What are Functions\n",
    "\n",
    "In Python, a function is a named block of reusable code that performs a specific task or set of operations. Functions help in organizing code, making it more modular, readable, and easier to maintain. Instead of writing the same code repeatedly, you can define a function and call it whenever you need to perform that particular task.\n",
    "\n",
    "Here's the general syntax for defining a function in Python:\n",
    "\n",
    "```python\n",
    "    def function_name(parameters):\n",
    "    \"\"\"\n",
    "    Docstring: Optional documentation for the function.\n",
    "    \"\"\"\n",
    "    # Function body: Contains the code to perform the task.\n",
    "    # It can have statements, expressions, loops, conditionals, etc.\n",
    "    return result  # Optional return statement to provide the output/result of the function.\n",
    "```\n",
    "\n",
    "- `def`: It is the keyword used to define a function.\n",
    "\n",
    "- `function_name`: The name of the function, which should follow Python's naming rules and conventions.\n",
    "\n",
    "- `parameters`: Optional input(s) that the function can accept. These are like variables that hold the values passed to the function when it's called.\n",
    "\n",
    "- `Docstring`: An optional string used as documentation to describe the purpose and behavior of the function. It's good practice to include a docstring to help other developers (including yourself) understand the function's usage and functionality.\n",
    "\n",
    "- Function body: The block of code within the function that executes the specific task. It can consist of statements, expressions, loops, conditionals, and other Python constructs.\n",
    "\n",
    "- `return`: An optional keyword used to return a value or result from the function. If there is no return statement or the function reaches the end without returning explicitly, the function returns None."
   ]
  },
  {
   "cell_type": "markdown",
   "id": "c8c69581",
   "metadata": {},
   "source": [
    "Write a function that converts inches to feet."
   ]
  },
  {
   "cell_type": "code",
   "execution_count": null,
   "id": "d8509591",
   "metadata": {},
   "outputs": [],
   "source": [
    "def inches2feet(inches):\n",
    "    output_templ = \"\"\"{}'{}\"\"\"\n",
    "    foot = inches//12\n",
    "    inch = inches%12\n",
    "    return output_templ.format(foot, inch)"
   ]
  },
  {
   "cell_type": "markdown",
   "id": "31ebfb3a",
   "metadata": {},
   "source": [
    "Call the function by using its name followed by parentheses and passing the required arguments"
   ]
  },
  {
   "cell_type": "code",
   "execution_count": null,
   "id": "efcaaea6",
   "metadata": {},
   "outputs": [],
   "source": [
    "foot = inches2feet(73)\n",
    "foot"
   ]
  },
  {
   "cell_type": "code",
   "execution_count": null,
   "id": "2e7e7340",
   "metadata": {},
   "outputs": [],
   "source": [
    "inches2feet(84)"
   ]
  },
  {
   "cell_type": "markdown",
   "id": "98e55af1",
   "metadata": {},
   "source": [
    "Let's take our previous and redundant code and functionalize it."
   ]
  },
  {
   "cell_type": "code",
   "execution_count": null,
   "id": "f85231a6",
   "metadata": {},
   "outputs": [],
   "source": [
    "def email_formatter(name, domain, edu):\n",
    "    output_template = \"{}_{}@{}.{}\"\n",
    "    \n",
    "    split_names = name.split()\n",
    "    first_name = split_names[0]\n",
    "    last_name = split_names[1]\n",
    "    \n",
    "    output = output_template.format(first_name.lower(),last_name.lower(), domain, suffix)\n",
    "    \n",
    "    return output\n",
    "    "
   ]
  },
  {
   "cell_type": "code",
   "execution_count": null,
   "id": "a1ea419d",
   "metadata": {},
   "outputs": [],
   "source": [
    "names = ['Simone Biles', 'Jordan Chiles', 'Sunisa Lee', 'Jade Carey', 'Hezly Rivera']\n",
    "domain = \"berkeley\"\n",
    "suffix = \"edu\"\n",
    "\n",
    "for name in names:\n",
    "    email = email_formatter(name, domain, suffix)\n",
    "    print(email, \"\\n\")"
   ]
  },
  {
   "cell_type": "markdown",
   "id": "f5c409c6",
   "metadata": {},
   "source": [
    "Gmail"
   ]
  },
  {
   "cell_type": "code",
   "execution_count": null,
   "id": "862f64b5",
   "metadata": {},
   "outputs": [],
   "source": [
    "domain = \"gmail\"\n",
    "suffix = \"com\"\n",
    "\n",
    "for name in names:\n",
    "    email = email_formatter(name, domain, suffix)\n",
    "    print(email, \"\\n\")"
   ]
  },
  {
   "cell_type": "markdown",
   "id": "93692fe6",
   "metadata": {},
   "source": [
    "Other names"
   ]
  },
  {
   "cell_type": "code",
   "execution_count": null,
   "id": "a0e79136",
   "metadata": {},
   "outputs": [],
   "source": [
    "names = ['Rebeca Andrade', 'Jade Barbosa', 'Lorrane Oliveira', 'Flávia Saraiva', 'Júlia Soares']\n",
    "\n",
    "for name in names:\n",
    "    email = email_formatter(name, domain, suffix)\n",
    "    print(email, \"\\n\")"
   ]
  },
  {
   "cell_type": "markdown",
   "id": "994e04f2",
   "metadata": {},
   "source": [
    "### Parameters/Arguments\n",
    "\n",
    "Parameters are variables declared within the parentheses of a function definition. They act as placeholders for values that you pass to the function when you call it. Parameters allow functions to receive input data, operate on it, and optionally return a result."
   ]
  },
  {
   "cell_type": "markdown",
   "id": "20d56aa4",
   "metadata": {},
   "source": [
    "Functions can also have 0 parameters"
   ]
  },
  {
   "cell_type": "code",
   "execution_count": null,
   "id": "de917476",
   "metadata": {},
   "outputs": [],
   "source": [
    "def no_params():\n",
    "    return \"Hello, World!\""
   ]
  },
  {
   "cell_type": "markdown",
   "id": "ee20a33f",
   "metadata": {},
   "source": [
    "Call the functions by passing in nothing through the parentheses"
   ]
  },
  {
   "cell_type": "code",
   "execution_count": null,
   "id": "49cacfa0",
   "metadata": {},
   "outputs": [],
   "source": [
    "no_params()"
   ]
  },
  {
   "cell_type": "markdown",
   "id": "4ba86647",
   "metadata": {},
   "source": [
    "You can also define functions with default parameter values. Default parameters are used when the function is called without providing a value for those parameters. This can be helpful when you want to make some parameters optional.\n",
    "\n",
    "Here's an example of our `email` function with a default parameter"
   ]
  },
  {
   "cell_type": "code",
   "execution_count": null,
   "id": "6aa4557a",
   "metadata": {},
   "outputs": [],
   "source": [
    "def email_formatter(name, domain= \"berkeley.edu\"):\n",
    "    output_template = \"{}_{}@{}\"\n",
    "    \n",
    "    split_names = name.split()\n",
    "    first_name = split_names[0]\n",
    "    last_name = split_names[1]\n",
    "    \n",
    "    output = output_template.format(first_name.lower(),last_name.lower(), domain)\n",
    "    \n",
    "    return output\n",
    "    "
   ]
  },
  {
   "cell_type": "markdown",
   "id": "018c1b79",
   "metadata": {},
   "source": [
    "In this example, the function has a default parameter `name=\"berkeley.edu\"`. If you call the function without an argument, it uses the default value for the name parameter. If you provide an argument, it uses that value instead."
   ]
  },
  {
   "cell_type": "code",
   "execution_count": null,
   "id": "667f3c65",
   "metadata": {},
   "outputs": [],
   "source": [
    "email_formatter(\"Robert Oppenheimer\")"
   ]
  },
  {
   "cell_type": "markdown",
   "id": "e8587d26",
   "metadata": {},
   "source": [
    "Different `domain` value"
   ]
  },
  {
   "cell_type": "code",
   "execution_count": null,
   "id": "03095224",
   "metadata": {},
   "outputs": [],
   "source": [
    "email_formatter(\"Robert Oppenheimer\", domain=\"yahoo.com\")"
   ]
  },
  {
   "cell_type": "markdown",
   "id": "33ccf7ff",
   "metadata": {},
   "source": [
    "<div class=\"alert alert-block alert-warning\">\n",
    "When writing default parameters make sure you place them to the right of the non-default parameters.\n",
    "</div>\n",
    "\n",
    "This code executes an error:"
   ]
  },
  {
   "cell_type": "code",
   "execution_count": null,
   "id": "848d5730",
   "metadata": {},
   "outputs": [],
   "source": [
    "def email_formatter(domain= \"berkeley.edu\", name):\n",
    "    output_template = \"{}_{}@{}\"\n",
    "    \n",
    "    split_names = name.split()\n",
    "    first_name = split_names[0]\n",
    "    last_name = split_names[1]\n",
    "    \n",
    "    output = output_template.format(first_name.lower(),last_name.lower(), domain, suffix)\n",
    "    \n",
    "    return output"
   ]
  },
  {
   "cell_type": "markdown",
   "id": "5ab29086",
   "metadata": {},
   "source": [
    "### Lambda Functions"
   ]
  },
  {
   "cell_type": "markdown",
   "id": "99113962",
   "metadata": {},
   "source": [
    "Lambda functions, also known as anonymous functions, are small, concise, and single-expression functions in Python. Unlike regular functions defined using the def keyword, lambda functions do not require a function name. Instead, they are created using the lambda keyword, which allows you to define a quick, inline function in a single line of code.\n",
    "\n",
    "`lambda arguments: expression`"
   ]
  },
  {
   "cell_type": "code",
   "execution_count": null,
   "id": "cf8b764f",
   "metadata": {},
   "outputs": [],
   "source": [
    "celsius2fahrenheit = lambda c: c*1.8 + 32\n",
    "celsius2fahrenheit(25)"
   ]
  },
  {
   "cell_type": "markdown",
   "id": "bc75e805",
   "metadata": {},
   "source": [
    "Two parameters example with perimeter"
   ]
  },
  {
   "cell_type": "code",
   "execution_count": null,
   "id": "c0493e80",
   "metadata": {},
   "outputs": [],
   "source": [
    "perim = lambda l,w: l*2 + w*2\n",
    "perim(10, 20)"
   ]
  },
  {
   "cell_type": "markdown",
   "id": "6e065928",
   "metadata": {},
   "source": [
    "Lambda functions are commonly used in situations where you need a simple, short-lived function for a specific task, especially as an argument to higher-order functions like `map()`, `filter()`, and `reduce()`, or in situations where defining a full named function would be overkill."
   ]
  },
  {
   "cell_type": "code",
   "execution_count": null,
   "id": "8ed2e7fa",
   "metadata": {},
   "outputs": [],
   "source": [
    "temperatures = [12,22,9, 6, 33, 29, 40, 11, 16, 0]"
   ]
  },
  {
   "cell_type": "code",
   "execution_count": null,
   "id": "fc93a03c",
   "metadata": {},
   "outputs": [],
   "source": [
    "list(map(celsius2fahrenheit, temperatures))"
   ]
  },
  {
   "cell_type": "markdown",
   "id": "c93b924c",
   "metadata": {},
   "source": [
    "Lambda functions are limited to simple expressions, and they cannot contain multiple statements or complex logic. As a result, they are not intended to replace regular functions entirely, but they offer a convenient and concise way to define small functions on the fly."
   ]
  },
  {
   "cell_type": "markdown",
   "id": "8f0f63d3",
   "metadata": {},
   "source": [
    "## Scope"
   ]
  },
  {
   "cell_type": "markdown",
   "id": "9db2e1c7",
   "metadata": {},
   "source": [
    "Scope in Python refers to the region or context in which a variable or name is defined and can be accessed. It defines the visibility and lifetime of a variable, determining where the variable is accessible and where it is not. Understanding scope is crucial for writing reliable and bug-free code.\n",
    "\n",
    "In Python, there are two main types of scope:\n",
    "\n",
    "Global Scope:\n",
    "\n",
    ">- Variables defined at the outermost level of a Python script or module have global scope\n",
    ">- Global variables can be accessed from anywhere in the code, including inside functions.\n",
    ">- Global variables are defined outside of any function or class, making them accessible throughout the entire script or module."
   ]
  },
  {
   "cell_type": "markdown",
   "id": "3759f263",
   "metadata": {},
   "source": [
    "Local Scope:\n",
    "\n",
    "> - Variables defined inside a function have local scope.\n",
    "> - Local variables are only accessible within the function where they are defined.\n",
    "> - They are created when the function is called and destroyed when the function exits, making their lifetime limited to the function's execution."
   ]
  },
  {
   "cell_type": "code",
   "execution_count": null,
   "id": "cde371b7",
   "metadata": {},
   "outputs": [],
   "source": [
    "x = 2\n",
    "\n",
    "def double(x):\n",
    "    # Overwrite x\n",
    "    x = x * 2\n",
    "    return x\n",
    "\n",
    "double (5)\n",
    "x"
   ]
  },
  {
   "cell_type": "markdown",
   "id": "ef5fe678",
   "metadata": {},
   "source": [
    "The **global** `x` which was defined outside the function remains the unchanged.\n",
    "<br>\n",
    "The **local** `x` which was defined inside the **scope** of the function is temporary variable that disappears after calling the function"
   ]
  },
  {
   "cell_type": "markdown",
   "id": "dabbc820",
   "metadata": {},
   "source": [
    "Define `output` variable in `double`"
   ]
  },
  {
   "cell_type": "code",
   "execution_count": null,
   "id": "8cbfaea3",
   "metadata": {},
   "outputs": [],
   "source": [
    "def double(x):\n",
    "    output = x * 2\n",
    "    return output\n",
    "\n",
    "double(10)\n",
    "output"
   ]
  },
  {
   "cell_type": "markdown",
   "id": "89db7a55",
   "metadata": {},
   "source": [
    "`output` only exists in the scope of the `double` function. "
   ]
  },
  {
   "cell_type": "markdown",
   "id": "28d290f4",
   "metadata": {},
   "source": [
    "Functions can interact with global variables"
   ]
  },
  {
   "cell_type": "code",
   "execution_count": null,
   "id": "c0dc1284",
   "metadata": {},
   "outputs": [],
   "source": [
    "vowels = \"aeiou\"\n",
    "def remove_vowels(txt):\n",
    "    output = \"\"\n",
    "    for i in txt:\n",
    "        if i not in vowels:\n",
    "            output += i\n",
    "    return output\n",
    "remove_vowels(\"capricorn\")"
   ]
  },
  {
   "cell_type": "markdown",
   "id": "51e2fdd1",
   "metadata": {},
   "source": [
    "You can make variables inside of a function global by using the `global` keyword before defining the variable"
   ]
  },
  {
   "cell_type": "code",
   "execution_count": null,
   "id": "f0a6bed7",
   "metadata": {},
   "outputs": [],
   "source": [
    "global_var = 10\n",
    "\n",
    "def modify_global():\n",
    "    global global_var\n",
    "    global_var = 20\n",
    "\n",
    "print(global_var)  # Output: 10\n",
    "modify_global()\n",
    "print(global_var)  # "
   ]
  },
  {
   "cell_type": "markdown",
   "id": "af560ff0-108c-4e7a-b48b-9ad490ce3aa3",
   "metadata": {},
   "source": [
    "# Libraries\n",
    "\n",
    "Libraries are collections of pre-written code that you can use to save time and effort. Here we'll practice how to import libraries, use their functions, and understand their documentation.\n",
    "\n",
    "Let's start out with a standard library: `math`."
   ]
  },
  {
   "cell_type": "code",
   "execution_count": null,
   "id": "e8dbfa84-a60b-4a78-b033-e73bbf43434d",
   "metadata": {},
   "outputs": [],
   "source": [
    "import math"
   ]
  },
  {
   "cell_type": "markdown",
   "id": "ec0ac37c-3fd8-4034-b4ab-ff1bba2a9fac",
   "metadata": {},
   "source": [
    "We can access functions and attributes (values) that were imported with the `math` package:"
   ]
  },
  {
   "cell_type": "code",
   "execution_count": null,
   "id": "2ea46e27-bcd6-40ef-ad0e-858cea8c92cc",
   "metadata": {},
   "outputs": [],
   "source": [
    "math.sqrt(25)"
   ]
  },
  {
   "cell_type": "code",
   "execution_count": null,
   "id": "43015809-30c6-4c0f-aab6-a2e8150670d3",
   "metadata": {},
   "outputs": [],
   "source": [
    "math.pi"
   ]
  },
  {
   "cell_type": "markdown",
   "id": "68da2af5-bafd-44c2-a0db-e507e68976ab",
   "metadata": {},
   "source": [
    "We can also only import a smaller part of a package, called a *module*, or even a single function:"
   ]
  },
  {
   "cell_type": "code",
   "execution_count": null,
   "id": "b0404e52-6265-4e4d-9cf1-5a18fd47ac0e",
   "metadata": {},
   "outputs": [],
   "source": [
    "from datetime import datetime # imports the datetime.datetime module\n",
    "from random import randint # imports the random.randint() function"
   ]
  },
  {
   "cell_type": "code",
   "execution_count": null,
   "id": "0017f4fb-33fe-4fb4-b682-ab957d07c177",
   "metadata": {},
   "outputs": [],
   "source": [
    "datetime.now()"
   ]
  },
  {
   "cell_type": "code",
   "execution_count": null,
   "id": "a43c2b28-62e4-46ba-a116-a7da0ad948ee",
   "metadata": {},
   "outputs": [],
   "source": [
    "randint(1, 100)"
   ]
  },
  {
   "cell_type": "markdown",
   "id": "2432a78d-d722-4358-ac70-fbca9dd8b762",
   "metadata": {},
   "source": [
    "If you ever get confused about how to use a particular function or object, you can use the `?` or `help()` command to view the written documentation:"
   ]
  },
  {
   "cell_type": "code",
   "execution_count": null,
   "id": "e9176ec1-461f-490e-829a-841a94f05c19",
   "metadata": {},
   "outputs": [],
   "source": [
    "math.factorial?"
   ]
  },
  {
   "cell_type": "code",
   "execution_count": null,
   "id": "f6eaa3f8-e2a6-4b1b-9226-5529350e1168",
   "metadata": {},
   "outputs": [],
   "source": [
    "help(math.hypot)"
   ]
  },
  {
   "cell_type": "markdown",
   "id": "a4aae4288d536d44",
   "metadata": {},
   "source": [
    "# Exercises"
   ]
  },
  {
   "cell_type": "markdown",
   "id": "c319a6e0-89d3-45c1-ba17-4d8427dc0043",
   "metadata": {},
   "source": [
    "## Exercise 0 \n",
    "\n",
    "Visit the documentation for the JWST Quicklook (JWQL) package: https://jwql.readthedocs.io/en/latest/\n",
    "\n",
    "What are the arguments does the the `jwql.instrument_monitors.common_monitors.bad_pixel_monitor.check_for_sufficient_files()` function take?\n",
    "\n",
    "*Y'all won't be working on astronomical instrument monitoring software at the I School (probably) - but I include this question to demonstrate that well-written software documentation is easy to navigate, even with zero background expertise!*\n"
   ]
  },
  {
   "cell_type": "code",
   "execution_count": null,
   "id": "3417161b-9f38-4268-ae2b-41e6970621bb",
   "metadata": {},
   "outputs": [],
   "source": [
    "# List args here"
   ]
  },
  {
   "cell_type": "markdown",
   "id": "3f3fce6ca3a777ff",
   "metadata": {},
   "source": [
    "## Exercise 1 \n",
    "*Tax Calculator Upgrade:*\n",
    "\n",
    "Let's bring back our tax calculator exercise -- but this time we'll add in another level\n",
    "\n",
    "\n",
    "Tax rate rules\n",
    "\n",
    "- \\\\$0 - \\\\$25,000 => 10%\n",
    "- \\\\$25,000 - \\\\$50,000 => 15%\n",
    "- \\\\$50,000 - inf => 25%\n",
    "\n",
    "Write a function that calculates the tax bill of a given income.\n",
    "\n",
    "For example, the tax of \\\\$35,000 dollars is 25000 * 0.1 + (35000-25000) * 0.15 = 4000"
   ]
  },
  {
   "cell_type": "code",
   "execution_count": null,
   "id": "36f61344144e45d0",
   "metadata": {},
   "outputs": [],
   "source": []
  },
  {
   "cell_type": "markdown",
   "id": "e75cb030d632a88d",
   "metadata": {},
   "source": [
    "## Exercise 3: \n",
    "*Case Inversion*\n",
    "\n",
    "Write a function that inverts the casing of a character in a string\n",
    "\n",
    "Ex: \"His name is Dennis\" => \"hIS NAME IS deNNIS\""
   ]
  },
  {
   "cell_type": "code",
   "execution_count": null,
   "id": "67fd8904cac18b28",
   "metadata": {},
   "outputs": [],
   "source": []
  },
  {
   "cell_type": "markdown",
   "id": "be7c7d88-d43b-4832-829f-6b224ef380f3",
   "metadata": {},
   "source": [
    "## Exercise 4\n",
    "\n",
    "Write a function that outputs the standard deviation of a list of numbers\n",
    "\n",
    "Formula here:\n",
    "\n",
    "![](https://www.gstatic.com/education/formulas2/472522532/en/population_standard_deviation.svg)"
   ]
  },
  {
   "cell_type": "code",
   "execution_count": null,
   "id": "99fd3d31-a337-4d23-bc99-08e0e0014751",
   "metadata": {},
   "outputs": [],
   "source": [
    "num_list = list(range(30, 100, 2)) # try with this list"
   ]
  },
  {
   "cell_type": "code",
   "execution_count": null,
   "id": "e33f5b8c-5718-41cc-b449-25dc7c9a57f6",
   "metadata": {},
   "outputs": [],
   "source": []
  },
  {
   "cell_type": "markdown",
   "id": "71b793fb03467204",
   "metadata": {},
   "source": [
    "## Exercise 5\n",
    "*Extract Phone Number*\n",
    "\n",
    "Write a function that takes in some text and extracts the phone number from it.\n",
    "\n",
    "Remember that the phone is in the ddd-ddd-dddd format."
   ]
  },
  {
   "cell_type": "code",
   "execution_count": null,
   "id": "24082624dbf0a7a0",
   "metadata": {},
   "outputs": [],
   "source": [
    "text = \"\"\"For general inquiries and information about the National Park Service, \n",
    "you can contact their main office through their website\n",
    "or call the NPS information line at 800-383-3839. Keep in mind that contact information and \n",
    "services may vary between different national parks, so it's best to check the \n",
    "specific park's website or contact them directly for the most accurate and up-to-date information.\"\"\"`"
   ]
  }
 ],
 "metadata": {
  "kernelspec": {
   "display_name": "Python 3 (ipykernel)",
   "language": "python",
   "name": "python3"
  },
  "language_info": {
   "codemirror_mode": {
    "name": "ipython",
    "version": 3
   },
   "file_extension": ".py",
   "mimetype": "text/x-python",
   "name": "python",
   "nbconvert_exporter": "python",
   "pygments_lexer": "ipython3",
   "version": "3.8.17"
  }
 },
 "nbformat": 4,
 "nbformat_minor": 5
}

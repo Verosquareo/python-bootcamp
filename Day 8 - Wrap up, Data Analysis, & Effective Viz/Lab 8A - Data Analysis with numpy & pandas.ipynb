{
 "cells": [
  {
   "cell_type": "markdown",
   "id": "a28c3203e034aab5",
   "metadata": {},
   "source": [
    "# Lab 8A - Data Analysis with `numpy` and `pandas`\n",
    "*Day 8 - August 8, 2024*\n",
    "\n",
    "*I School Python Bootcamp*\n",
    "\n",
    "*Author: Lauren Chambers<br>Modified from notebook by George McIntire*"
   ]
  },
  {
   "cell_type": "markdown",
   "id": "bd073fe5482bcce2",
   "metadata": {},
   "source": [
    "## `numpy`\n",
    "\n",
    "NumPy is a powerful Python library used for numerical and scientific computing. Its name stands for \"Numerical Python.\" NumPy provides support for large, multi-dimensional arrays and matrices, as well as a vast collection of high-level mathematical functions to operate on these arrays. It is one of the fundamental libraries in the Python data science ecosystem."
   ]
  },
  {
   "cell_type": "markdown",
   "id": "45b268ba66c1b9a2",
   "metadata": {},
   "source": [
    "Common practice is to give an alias `np` to numpy when we import the library:"
   ]
  },
  {
   "cell_type": "code",
   "execution_count": null,
   "id": "e20294d3b98ae403",
   "metadata": {},
   "outputs": [],
   "source": [
    "import numpy as np"
   ]
  },
  {
   "cell_type": "markdown",
   "id": "6bc1aed754e7f17d",
   "metadata": {},
   "source": []
  },
  {
   "cell_type": "markdown",
   "id": "ac2fc994021b2f8a",
   "metadata": {},
   "source": [
    "We can convert a list to a numpy array"
   ]
  },
  {
   "cell_type": "code",
   "execution_count": null,
   "id": "62911e544bd917cd",
   "metadata": {},
   "outputs": [],
   "source": [
    "num_arr = np.array([93,  5, 65, 53, 52, 55, 20, 59, 79, 30, 16, 29, 23,\n",
    "       61, 96, 89, 86, 38, 84, 25])\n",
    "type(num_arr)"
   ]
  },
  {
   "cell_type": "markdown",
   "id": "3907fed6727b271",
   "metadata": {},
   "source": [
    "Now that its an array, we can use a variety of numpy array methods."
   ]
  },
  {
   "cell_type": "code",
   "execution_count": null,
   "id": "d3fa3b041b9b7796",
   "metadata": {},
   "outputs": [],
   "source": [
    "#mean\n",
    "num_arr.mean()"
   ]
  },
  {
   "cell_type": "code",
   "execution_count": null,
   "id": "d64cb5dee5e529de",
   "metadata": {},
   "outputs": [],
   "source": [
    "#sum\n",
    "num_arr.sum()"
   ]
  },
  {
   "cell_type": "code",
   "execution_count": null,
   "id": "bbdc3c7e53de6d43",
   "metadata": {},
   "outputs": [],
   "source": [
    "#standard deviation\n",
    "num_arr.std()"
   ]
  },
  {
   "cell_type": "markdown",
   "id": "16cbb0b5c88d0021",
   "metadata": {},
   "source": [
    "argmax and argmin tell us the location of the maximum and minimum values."
   ]
  },
  {
   "cell_type": "code",
   "execution_count": null,
   "id": "cdedec646b43ce5a",
   "metadata": {},
   "outputs": [],
   "source": [
    "num_arr.argmax()"
   ]
  },
  {
   "cell_type": "code",
   "execution_count": null,
   "id": "64de509f-ca90-4047-9e73-683b72f84a1a",
   "metadata": {},
   "outputs": [],
   "source": [
    "num_arr[num_arr.argmax()]"
   ]
  },
  {
   "cell_type": "markdown",
   "id": "9702d8b64e5c7c81",
   "metadata": {},
   "source": [
    "Reshape into a 2D matrix. Since len(num_arr) = 20 we can transform it into a 5x4 matrix."
   ]
  },
  {
   "cell_type": "code",
   "execution_count": null,
   "id": "b636685da9877734",
   "metadata": {},
   "outputs": [],
   "source": [
    "num_arr"
   ]
  },
  {
   "cell_type": "code",
   "execution_count": null,
   "id": "8bccdb53ae44e38e",
   "metadata": {},
   "outputs": [],
   "source": [
    "num_matrix = num_arr.reshape(5,4)\n",
    "num_matrix"
   ]
  },
  {
   "cell_type": "markdown",
   "id": "78a5e434-dd83-4b81-b9c5-7e231d33ff78",
   "metadata": {},
   "source": [
    "Let's check the shape just to be sure that worked as we expected:"
   ]
  },
  {
   "cell_type": "code",
   "execution_count": null,
   "id": "cb581002-a34a-4655-9239-9d8533e7b525",
   "metadata": {},
   "outputs": [],
   "source": [
    "num_matrix.shape"
   ]
  },
  {
   "cell_type": "markdown",
   "id": "e6ac7962bdf8f9ce",
   "metadata": {},
   "source": [
    "With a 2D matrix we can do 2D slicing"
   ]
  },
  {
   "cell_type": "markdown",
   "id": "c5a5ab8197fbc30a",
   "metadata": {},
   "source": [
    "Slice the second column"
   ]
  },
  {
   "cell_type": "code",
   "execution_count": null,
   "id": "360361da071a229f",
   "metadata": {},
   "outputs": [],
   "source": [
    "num_matrix[:, 1]"
   ]
  },
  {
   "cell_type": "markdown",
   "id": "388df73dcc5a9a36",
   "metadata": {},
   "source": [
    "Slice after the second row and before the third column"
   ]
  },
  {
   "cell_type": "code",
   "execution_count": null,
   "id": "8f4b72cf72650b0",
   "metadata": {},
   "outputs": [],
   "source": [
    "num_matrix[2:, :3]"
   ]
  },
  {
   "cell_type": "markdown",
   "id": "fe29c940-d086-480e-b74e-6bb8aacc267d",
   "metadata": {},
   "source": [
    "Recall, too, that we can do element-wise operations using our numpy arrays"
   ]
  },
  {
   "cell_type": "code",
   "execution_count": null,
   "id": "d74197b1-52bc-4932-a4da-95a79deb17d0",
   "metadata": {},
   "outputs": [],
   "source": [
    "num_matrix * num_matrix"
   ]
  },
  {
   "cell_type": "code",
   "execution_count": null,
   "id": "c477eaa3-1e10-4333-baaf-546b9f3903bd",
   "metadata": {},
   "outputs": [],
   "source": [
    "num_matrix - num_matrix"
   ]
  },
  {
   "cell_type": "code",
   "execution_count": null,
   "id": "e0202cd2-397f-4b1b-bf11-1ecf38c94c91",
   "metadata": {},
   "outputs": [],
   "source": [
    "(num_matrix / 2) + num_matrix"
   ]
  },
  {
   "cell_type": "markdown",
   "id": "181348920184cf77",
   "metadata": {},
   "source": [
    "## `pandas`"
   ]
  },
  {
   "cell_type": "markdown",
   "id": "340453a4-ace4-4542-b4ee-f863bfa16a29",
   "metadata": {},
   "source": [
    "`pandas` is a powerful Python library designed for data manipulation and analysis, making it an essential tool for working with structured data. Its `DataFrame` and `Series` allow us to to easily clean, filter, and transform datasets. tbh, especially compared to python-native packages like `csv.reader`, I just adore `pandas`.\n",
    "\n",
    "Common practice is to give an alias `pd` to pandas when we import the library:"
   ]
  },
  {
   "cell_type": "code",
   "execution_count": null,
   "id": "a51e5dd3-946a-43b8-bcb5-f62aae4fe7f0",
   "metadata": {},
   "outputs": [],
   "source": [
    "import pandas as pd"
   ]
  },
  {
   "cell_type": "markdown",
   "id": "e1c6f97b-7adf-4067-b2e5-760c57cb4209",
   "metadata": {},
   "source": [
    "You can create a DataFrame using a `np.array` or a dictionary:"
   ]
  },
  {
   "cell_type": "code",
   "execution_count": null,
   "id": "b046fc51-cee8-4044-a496-b49a8fdb43fb",
   "metadata": {},
   "outputs": [],
   "source": [
    "pd.DataFrame(data = {\"students\": [\"Natalia\", \"Kenny\", \"Andrew\", \"Jeremy\", \"Carl\", \"Ray\"],\n",
    "                     \"age\": np.round(np.random.random(6) * 10 + 18).astype(int),\n",
    "                     \"tv_or_movie\": [\"Mad Men\", \"Chungking Express\", \"See\", \"Silicon Valley\", \"Paprika\", \"Portrait of a Lady on Fire\"]})"
   ]
  },
  {
   "cell_type": "markdown",
   "id": "4ca7bc4e-b696-4da7-a019-893619e86955",
   "metadata": {},
   "source": [
    "But for our lab today let's revisit our titanic dataset:"
   ]
  },
  {
   "cell_type": "code",
   "execution_count": null,
   "id": "02239d1d-c680-47dc-8ad9-9f8122966745",
   "metadata": {},
   "outputs": [],
   "source": [
    "titanic_df = pd.read_csv(\"titanic.csv\")"
   ]
  },
  {
   "cell_type": "markdown",
   "id": "0ae72dfd-631b-4cb5-8007-536d49482b75",
   "metadata": {},
   "source": [
    "Viewing dataframes with pandas is a very pleasant experience, as the package creates an HTML table showing our columns and a reasonable subset of rows that doesn't flood our entire browser screen:"
   ]
  },
  {
   "cell_type": "code",
   "execution_count": null,
   "id": "9265f07f-6106-4e37-bd1d-6576a6c17ab4",
   "metadata": {},
   "outputs": [],
   "source": [
    "titanic_df"
   ]
  },
  {
   "cell_type": "markdown",
   "id": "992fadd9-a261-480a-8bea-2930bc29d745",
   "metadata": {},
   "source": [
    "Pandas makes it super easy to select one column, or even a subset of columns:"
   ]
  },
  {
   "cell_type": "code",
   "execution_count": null,
   "id": "63f3cda1-6609-4910-b4d2-38c60c6046ca",
   "metadata": {},
   "outputs": [],
   "source": [
    "# One column of a DataFrame is a Series\n",
    "titanic_df.Name"
   ]
  },
  {
   "cell_type": "code",
   "execution_count": null,
   "id": "dbeb3387-301b-4e6a-90a2-bc8884962dcd",
   "metadata": {},
   "outputs": [],
   "source": [
    "titanic_df[[\"Name\", \"Sex\", \"Age\", \"Survived\"]]"
   ]
  },
  {
   "cell_type": "markdown",
   "id": "dff17754-87b2-4b93-b1b3-b227d296b53e",
   "metadata": {},
   "source": [
    "However, do note that column names are case sensitive!"
   ]
  },
  {
   "cell_type": "code",
   "execution_count": null,
   "id": "673ba8c4-651b-4c15-81ce-c0b8065be4dc",
   "metadata": {},
   "outputs": [],
   "source": [
    "titanic_df.age"
   ]
  },
  {
   "cell_type": "markdown",
   "id": "d125ac6c-c130-4e67-ba50-ef4902a956b7",
   "metadata": {},
   "source": [
    "Pandas also makes filtering really intuitive. You can even define variables to make your code easier to read."
   ]
  },
  {
   "cell_type": "code",
   "execution_count": null,
   "id": "edcdb29f-b2f1-415b-abab-f6710efc3ebb",
   "metadata": {},
   "outputs": [],
   "source": [
    "# Children who survived\n",
    "titanic_df[(titanic_df.Survived == 1) & (titanic_df.Age < 18)]"
   ]
  },
  {
   "cell_type": "code",
   "execution_count": null,
   "id": "6ca3c591-96f5-485d-a64e-05bd403a8c82",
   "metadata": {},
   "outputs": [],
   "source": [
    "# Just get their names\n",
    "titanic_df[(titanic_df.Survived == 1) & (titanic_df.Age < 18)].Name"
   ]
  },
  {
   "cell_type": "code",
   "execution_count": null,
   "id": "22c26c98-adc3-4698-a8c4-519552d4861d",
   "metadata": {},
   "outputs": [],
   "source": [
    "# Use variables for readability\n",
    "survived = titanic_df.Survived == 1\n",
    "children = titanic_df.Age < 18\n",
    "titanic_df[survived & children]"
   ]
  },
  {
   "cell_type": "code",
   "execution_count": null,
   "id": "14f82586-fc76-4c68-ab63-4d60d7724d5b",
   "metadata": {},
   "outputs": [],
   "source": [
    "survived # Just a mask of booleans for each row"
   ]
  },
  {
   "cell_type": "markdown",
   "id": "a3cbe94b-681f-4057-9f04-b20d681faee3",
   "metadata": {},
   "source": [
    "It can be a bit tricky to remember when to use which (don't be afraid to Google!), but we can use the `.loc` and `.iloc` methods to select and filter along both dimensions - columns and rows."
   ]
  },
  {
   "cell_type": "code",
   "execution_count": null,
   "id": "a689e354-edf8-4523-9a63-37ca8c94f1d2",
   "metadata": {},
   "outputs": [],
   "source": [
    "# Syntax is df.loc[row_filters, col_filters]\n",
    "titanic_df.loc[survived & children, [\"Name\", \"Age\"]]"
   ]
  },
  {
   "cell_type": "code",
   "execution_count": null,
   "id": "535544b7-5299-409b-930a-317edbc68fc9",
   "metadata": {},
   "outputs": [],
   "source": [
    "# Syntax is df.iloc[row_indices, col_indices] \n",
    "titanic_df.iloc[:7]"
   ]
  },
  {
   "cell_type": "code",
   "execution_count": null,
   "id": "7ee6b465-d7e5-45b0-baa7-00f54168303d",
   "metadata": {},
   "outputs": [],
   "source": [
    "titanic_df.iloc[1:11, [3, 5]]"
   ]
  },
  {
   "cell_type": "markdown",
   "id": "f293428b-91d2-4209-93c2-a6ad2e5b8857",
   "metadata": {},
   "source": [
    "And finally, we can also create new columns easily using this column name notation:"
   ]
  },
  {
   "cell_type": "code",
   "execution_count": null,
   "id": "2f57ede3-373e-433c-9bd3-08790ebded03",
   "metadata": {},
   "outputs": [],
   "source": [
    "titanic_df[\"Child\"] = titanic_df.Age < 18\n",
    "titanic_df"
   ]
  },
  {
   "cell_type": "code",
   "execution_count": null,
   "id": "2b4c7534-37a3-4340-9e9d-c7429de19995",
   "metadata": {},
   "outputs": [],
   "source": [
    "titanic_df[titanic_df.Child]"
   ]
  },
  {
   "cell_type": "markdown",
   "id": "14fcd11f-55ce-4e7b-8be7-26d80b7bdcc6",
   "metadata": {},
   "source": [
    "Using `pandas` can make it waaaaaay easier to make analytic plots with `matplotlib`, too:"
   ]
  },
  {
   "cell_type": "code",
   "execution_count": null,
   "id": "6284f40e-78b6-45b7-a956-ebbad6893fc4",
   "metadata": {},
   "outputs": [],
   "source": [
    "import matplotlib.pyplot as plt"
   ]
  },
  {
   "cell_type": "code",
   "execution_count": null,
   "id": "fac73781-9d75-417e-b971-f2fc26062334",
   "metadata": {},
   "outputs": [],
   "source": [
    "# Calculate how many men survived and died\n",
    "is_male = titanic_df.Sex == \"male\"\n",
    "\n",
    "male_survival = titanic_df[is_male].Survived\n",
    "n_male_survival = male_survival.value_counts()\n",
    "n_male_survival.sort_index() # sort to make sure the order is the same for both sexes"
   ]
  },
  {
   "cell_type": "code",
   "execution_count": null,
   "id": "b7a550ff-138e-4a8a-b928-9cde6d1aea9a",
   "metadata": {},
   "outputs": [],
   "source": [
    "# We can use the minus sign to reverse the filter\n",
    "titanic_df[-is_male].Survived.value_counts().sort_index()"
   ]
  },
  {
   "cell_type": "code",
   "execution_count": null,
   "id": "aa4dcc62-3e93-4471-af9a-66e6e5fb2216",
   "metadata": {},
   "outputs": [],
   "source": [
    "# Initialize\n",
    "plt.figure()\n",
    "\n",
    "# Draw plot and axis labels\n",
    "width = 0.4  # the width of the bars\n",
    "plt.bar([0 - width/2, 1 - width/2], \n",
    "        titanic_df[is_male].Survived.value_counts().sort_index(), \n",
    "        label=\"Male\", width=width)\n",
    "plt.bar([0 + width/2, 1 + width/2], \n",
    "        titanic_df[-is_male].Survived.value_counts().sort_index(), \n",
    "        label=\"Female\", width=width)\n",
    "plt.ylabel(\"Number of passengers\")\n",
    "plt.title(\"Survival rates by sex\")\n",
    "plt.xticks([0, 1], labels=[\"died\", \"survived\"])\n",
    "plt.ylim(0, 600)\n",
    "plt.legend()\n",
    "\n",
    "# Display\n",
    "plt.show()"
   ]
  },
  {
   "cell_type": "code",
   "execution_count": null,
   "id": "ea671e75-e316-4e2e-914b-df1bf7e487c1",
   "metadata": {},
   "outputs": [],
   "source": [
    "# Initialize\n",
    "fig, (ax1, ax2, ax3) = plt.subplots(nrows=1, ncols=3, sharey=True)\n",
    "\n",
    "# Draw plot and axis labels\n",
    "width = 0.4  # the width of the bars\n",
    "for c, ax in zip([1, 2, 3], [ax1, ax2, ax3]):\n",
    "    ax.bar([0 - width/2, 1 - width/2], \n",
    "           \n",
    "           # Use pandas to filter, count, and sort inline\n",
    "           titanic_df[is_male & (titanic_df.Pclass == c)].Survived.value_counts().sort_index(),\n",
    "           label=\"Male\", width=width)\n",
    "    ax.bar([0 + width/2, 1 + width/2], \n",
    "           \n",
    "           # Use pandas to filter, count, and sort inline\n",
    "           titanic_df[-is_male & (titanic_df.Pclass == c)].Survived.value_counts().sort_index(),\n",
    "           label=\"Female\", width=width)\n",
    "    ax.set_xticks([0, 1], labels=[\"died\", \"survived\"])\n",
    "    ax.set_title(str(c) + \" Class\")\n",
    "\n",
    "ax1.set_ylabel(\"Number of passengers\")\n",
    "plt.suptitle(\"Survival rates by sex and class\")\n",
    "ax2.legend(loc=\"lower center\", bbox_to_anchor = (.5, -.2), ncol=2)\n",
    "\n",
    "# Display\n",
    "plt.show()"
   ]
  },
  {
   "cell_type": "markdown",
   "id": "9c68b4ec-bd2f-4ec9-a136-ef1cb9422b15",
   "metadata": {},
   "source": [
    "# Exercises"
   ]
  },
  {
   "cell_type": "markdown",
   "id": "8df02668-e948-43fe-afba-0285bd70483c",
   "metadata": {},
   "source": [
    "## Exercise 1\n",
    "Create a numpy array with 20 elements that are evenly spaced between 0 and 10. *Hint: Use either np.arange() or np.linspace() - do you remember the difference?*\n",
    "\n",
    "1. Calculate the sine of each element using `np.sin()`\n",
    "2. Do the same with `np.exp()` and `np.log()`\n",
    "1. Use `matplotlib` to create a figure with three subplots; plot the sine in the first, the exponential in the second, and the logarithmic in the last."
   ]
  },
  {
   "cell_type": "code",
   "execution_count": null,
   "id": "10e7c191-f850-4cd4-89bf-d502c764c691",
   "metadata": {},
   "outputs": [],
   "source": []
  },
  {
   "cell_type": "markdown",
   "id": "ea66622f-ae17-4082-b91f-4d8b338a7982",
   "metadata": {},
   "source": [
    "## Exercise 2\n",
    "\n",
    "Load the `countries.csv` file using `pd.read_csv()`.\n",
    "\n",
    "1. Using `pandas`, print the unique values in the `continent` column. Try finding a `pd` function that will let you do this without using  `set`!\n",
    "1. Calculate the mean GDP per capita across *all* countries for each year. (You'll probably want to use a for loop for this.)\n",
    "1. Use `matplotlib` to plot the mean worldwide GDP over time.\n",
    "1. For each year, determine the country with the highest life expectancy.\n",
    "1. Just as in Lab 4A, add a new column to the dataframe: the raw GDP, as opposed to the per capita. (`gdp = pop * gdpPercap`)\n",
    "1. Use bracket notation to display only the Year, GDP, GDP Per Capita, and Country columns."
   ]
  },
  {
   "cell_type": "code",
   "execution_count": null,
   "id": "be564ae5-d2ad-4a1f-93d2-718cc9183ddf",
   "metadata": {},
   "outputs": [],
   "source": []
  },
  {
   "cell_type": "markdown",
   "id": "c793bed7-e9ba-4063-b4f9-4c3833824f12",
   "metadata": {},
   "source": [
    "## Bonus Exercise\n",
    "1. Use `np.random.random(shape)` to generate a 100 x 100 array of random values.\n",
    "1. Let's use `matplotlib` to visualize this 2D data. (Surprise!) Use the `plt.imshow(data)`, where you pass in your numpy array as the data, and see what it looks like. Fun, huh?\n",
    "1. Reshape the array to a 2000 x 50 array, then plot it again."
   ]
  },
  {
   "cell_type": "code",
   "execution_count": null,
   "id": "8e5ac4c4-6aec-432c-9b9d-70baab46759a",
   "metadata": {},
   "outputs": [],
   "source": []
  }
 ],
 "metadata": {
  "kernelspec": {
   "display_name": "Python 3 (ipykernel)",
   "language": "python",
   "name": "python3"
  },
  "language_info": {
   "codemirror_mode": {
    "name": "ipython",
    "version": 3
   },
   "file_extension": ".py",
   "mimetype": "text/x-python",
   "name": "python",
   "nbconvert_exporter": "python",
   "pygments_lexer": "ipython3",
   "version": "3.8.17"
  }
 },
 "nbformat": 4,
 "nbformat_minor": 5
}

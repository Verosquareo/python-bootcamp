{
 "cells": [
  {
   "cell_type": "markdown",
   "id": "72dbdcef-92da-436f-a85e-f674c3081a87",
   "metadata": {},
   "source": [
    "# Lab 4A - Week 1 Recap Exercises\n",
    "*Day 4 - August 1, 2024*\n",
    "\n",
    "*I School Python Bootcamp*\n",
    "\n",
    "*Author: Lauren Chambers<br>Modified from notebook by George McIntire*"
   ]
  },
  {
   "cell_type": "markdown",
   "id": "b9abf479-6e5a-4a63-a693-665e9858fb25",
   "metadata": {},
   "source": [
    "## Exercise 1\n",
    "\n",
    "Create a dictionary where the ids in case_ids are keys in dictionary where the values are the urls for their legal cases. Put the case id in the curly brackets in the url string\n"
   ]
  },
  {
   "cell_type": "code",
   "execution_count": null,
   "id": "c0f2a40a-e873-470f-b497-8ef2417a8ae2",
   "metadata": {},
   "outputs": [],
   "source": [
    "url = \"https://scholar.google.com/scholar_case?case={}\"\n",
    "case_ids = [6768454, 7712102, 6448738, 5374866, 6167299, 4683704, 3160303,\n",
    "       3379031, 5507176, 7024792, 9332965, 3999836, 1314612, 5918388,\n",
    "       1994897, 6497745, 4011633, 2837473, 7121246, 2001872]"
   ]
  },
  {
   "cell_type": "code",
   "execution_count": null,
   "id": "ef8415c9-1f6a-49c3-a28a-8c14efdbedef",
   "metadata": {},
   "outputs": [],
   "source": []
  },
  {
   "cell_type": "markdown",
   "id": "611784dc-ad18-4730-9c16-0895d370609c",
   "metadata": {},
   "source": [
    "## Exercise 2\n",
    "\n",
    "Use python to demonstrate which sentence contains more unique words."
   ]
  },
  {
   "cell_type": "code",
   "execution_count": null,
   "id": "d559f928-ff86-43ad-b07e-88a63ec29a1b",
   "metadata": {},
   "outputs": [],
   "source": [
    "sentence1 = \"\"\"Data from the CDC’s National \n",
    "Health and Nutrition Examination Survey shows that America's drinking habits are changing.\n",
    "Sure, water is still our most consumed beverage, accounting for nearly half of our total consumption.\"\"\"\n",
    "\n",
    "sentence2 = \"\"\" But consumption of other beverages, like soft drinks and regular milk, \n",
    "are way down across all age groups. It’s a fascinating look into how Americans \n",
    "have replaced soda with bottled water.\"\"\"\n"
   ]
  },
  {
   "cell_type": "code",
   "execution_count": null,
   "id": "b25d9e1c-6dba-4a89-b42d-6d16eb03b28a",
   "metadata": {},
   "outputs": [],
   "source": []
  },
  {
   "cell_type": "markdown",
   "id": "ac2f34e2-3ebf-442a-957b-2d85d3c42d20",
   "metadata": {},
   "source": [
    "## Exercise 3\n",
    "\n",
    "Use list comprehensions to demonstrate which sentence from Exercise 2 contains more long words - words 7 letters or longer."
   ]
  },
  {
   "cell_type": "code",
   "execution_count": null,
   "id": "20c1fb2c-91b1-4820-9596-0d13c65be563",
   "metadata": {},
   "outputs": [],
   "source": []
  },
  {
   "cell_type": "markdown",
   "id": "7232b8ac-02bf-44a5-81fa-12d9303c14ce",
   "metadata": {},
   "source": [
    "## Exercise 4\n",
    "*First Letter Frequency*\n",
    "\n",
    "**Part 1**\n",
    "\n",
    "Create a dictionary that keeps track of the frequencies of the first letters of the words in the following passage.\n",
    "\n",
    "Casing does not matter here."
   ]
  },
  {
   "cell_type": "code",
   "execution_count": null,
   "id": "e2d717cd-83de-4f11-8d7f-acc25ce6ee3a",
   "metadata": {},
   "outputs": [],
   "source": [
    "text = \"\"\"MLPs – the other core building block of Transformers – also introduce an efficiency bottleneck, \n",
    "which becomes more acute as we continue to optimize attention. \n",
    "MLPs are quadratic in the model width, which means they grow more expensive as you make models wider. \n",
    "This is why models like GPT-3 are so expensive, \n",
    "and why GPT-4 has allegedly started using techniques like mixtures of experts.\"\"\"\n"
   ]
  },
  {
   "cell_type": "code",
   "execution_count": null,
   "id": "37fc6e6f-62f1-40f5-b2cf-849c8158fe48",
   "metadata": {},
   "outputs": [],
   "source": []
  },
  {
   "cell_type": "markdown",
   "id": "38669415-36be-4903-ae54-66641e52b4a4",
   "metadata": {},
   "source": [
    "**Part 2**\n",
    "\n",
    "Create a new dictionary that tallies the frequencies of starting letters that are vowel and consonants.\n",
    "\n",
    "Do this by iterating over the letter frequency dictionary you just created."
   ]
  },
  {
   "cell_type": "code",
   "execution_count": null,
   "id": "9fa2fdca-88fc-4c1f-bbcc-a9b6aa779eb5",
   "metadata": {},
   "outputs": [],
   "source": []
  },
  {
   "cell_type": "markdown",
   "id": "d2d9af57",
   "metadata": {},
   "source": [
    "## Exercise 5 \n",
    "*Sorting and flattening*\n"
   ]
  },
  {
   "cell_type": "markdown",
   "id": "d4961393",
   "metadata": {},
   "source": [
    "Write a function that collects all the numbers in a list of lists into one list and sorts them."
   ]
  },
  {
   "cell_type": "code",
   "execution_count": null,
   "id": "d8935a1d",
   "metadata": {},
   "outputs": [],
   "source": [
    "nested_list = [[2,3], [9,2,51,6],[9,1,22,44,12],[0]] # Demonstrate with this list"
   ]
  },
  {
   "cell_type": "code",
   "execution_count": null,
   "id": "4f9f2c53",
   "metadata": {},
   "outputs": [],
   "source": []
  },
  {
   "cell_type": "markdown",
   "id": "6070d34d",
   "metadata": {},
   "source": [
    "## Exercise 6\n",
    "*String replacement*"
   ]
  },
  {
   "cell_type": "markdown",
   "id": "815b3059",
   "metadata": {},
   "source": [
    "For each word in a sentence replace a with @, s with $, o with 0, l with !.\n",
    "\n",
    "But do not touch a letter if its the first character in a word.\n",
    "\n",
    "For example, analysis => `an@!y$i$`  We do not touch the first a.\n",
    "\n",
    "Hint: use `.split()`"
   ]
  },
  {
   "cell_type": "code",
   "execution_count": null,
   "id": "e297f09a",
   "metadata": {},
   "outputs": [],
   "source": [
    "text = \"\"\"Instead, your cover letter should go beyond your work history to\n",
    "talk about things that make you especially well-suited for the job.\"\"\""
   ]
  },
  {
   "cell_type": "code",
   "execution_count": null,
   "id": "d0c93435",
   "metadata": {},
   "outputs": [],
   "source": []
  },
  {
   "cell_type": "markdown",
   "id": "cfc9f0d1",
   "metadata": {},
   "source": [
    "## Exercise 7\n",
    "\n",
    "Create combination pairs for every name in a list\n",
    "\n",
    "Expected output:\n",
    "\n",
    "```python\n",
    "[('Andrea', 'Bob'),\n",
    " ('Andrea', 'Cassandra'),\n",
    " ('Andrea', 'Doug'),\n",
    " ('Bob', 'Cassandra'),\n",
    " ('Bob', 'Doug'),\n",
    " ('Cassandra', 'Doug')]\n",
    " ```\n",
    "\n",
    " Bonus points if you use a list comprehension."
   ]
  },
  {
   "cell_type": "code",
   "execution_count": null,
   "id": "2998d87b",
   "metadata": {},
   "outputs": [],
   "source": [
    "names = ['Andrea', 'Bob', 'Cassandra', 'Doug']"
   ]
  },
  {
   "cell_type": "code",
   "execution_count": null,
   "id": "e3482dae",
   "metadata": {},
   "outputs": [],
   "source": []
  },
  {
   "cell_type": "markdown",
   "id": "bf02ffb3",
   "metadata": {},
   "source": [
    "## Exercise 8\n",
    "\n",
    "Write a function to extract the name located between the parentheses in texts.\n",
    "\n",
    "Include a kwarg, `lowercase`, that outputs the name in all lowercase letters if True."
   ]
  },
  {
   "cell_type": "code",
   "execution_count": null,
   "id": "98a26288",
   "metadata": {},
   "outputs": [],
   "source": [
    "# Test with these\n",
    "txt1 = \"While walking in the park, (Emily) found a mysterious old key.\"\n",
    "txt2 = \"After buying the lottery ticket, (David) couldn't believe his luck when he won.\"\n",
    "txt3 = \"For the school bake sale, (Sarah) baked some delicious chocolate chip cookies.\"\n",
    "txt4 = \"On an exciting adventure to the mountains, (Michael) and his friends went.\""
   ]
  },
  {
   "cell_type": "code",
   "execution_count": null,
   "id": "bcd6fbe2",
   "metadata": {},
   "outputs": [],
   "source": []
  },
  {
   "cell_type": "markdown",
   "id": "40d17a45",
   "metadata": {},
   "source": [
    "## Exercise 9\n",
    "\n",
    "Calculate the euclidean and manhattan distances between these pair of numerical lists. Use functions from the `math` package if helpful.\n",
    "\n",
    "Hint: use the `abs` function for manhattan distance\n",
    "\n",
    "[Euclidean distance formula](https://www.cuemath.com/euclidean-distance-formula/)\n",
    "\n",
    "\n",
    "[Manhattan distance formula](https://xlinux.nist.gov/dads/HTML/manhattanDistance.html)"
   ]
  },
  {
   "cell_type": "code",
   "execution_count": null,
   "id": "e973d738",
   "metadata": {},
   "outputs": [],
   "source": [
    "numlist1 = [1,6,8]\n",
    "numlist2 = [5,1,6]"
   ]
  },
  {
   "cell_type": "code",
   "execution_count": null,
   "id": "5a283d0e",
   "metadata": {},
   "outputs": [],
   "source": []
  },
  {
   "cell_type": "markdown",
   "id": "963cf130-8640-46c5-b690-76006232af4b",
   "metadata": {},
   "source": [
    "# Exercise 10\n",
    "\n",
    "Given a dictionary of student names and their scores, create a new dictionary denoting whether they passed or failed. The list should say \"PASS\" for students who scored 80 or above, and \"FAIL\" for students who scored below 80. Use a dictionary comprehension."
   ]
  },
  {
   "cell_type": "code",
   "execution_count": null,
   "id": "73bce156-fd4d-42bd-acf9-32c9dc6b9870",
   "metadata": {},
   "outputs": [],
   "source": [
    "students_scores = {\n",
    "    'Marietta': 85,\n",
    "    'Peter': 60,\n",
    "    'Cedric': 75,\n",
    "    'Julia': 90,\n",
    "    'Rhiya': 55\n",
    "}"
   ]
  },
  {
   "cell_type": "code",
   "execution_count": null,
   "id": "3a0e0bd1-1f06-4f79-9929-2f51b4c886b4",
   "metadata": {},
   "outputs": [],
   "source": []
  }
 ],
 "metadata": {
  "kernelspec": {
   "display_name": "Python 3 (ipykernel)",
   "language": "python",
   "name": "python3"
  },
  "language_info": {
   "codemirror_mode": {
    "name": "ipython",
    "version": 3
   },
   "file_extension": ".py",
   "mimetype": "text/x-python",
   "name": "python",
   "nbconvert_exporter": "python",
   "pygments_lexer": "ipython3",
   "version": "3.8.17"
  }
 },
 "nbformat": 4,
 "nbformat_minor": 5
}

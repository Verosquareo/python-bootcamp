{
 "cells": [
  {
   "cell_type": "markdown",
   "id": "57836f08",
   "metadata": {},
   "source": [
    "# Lab 4A - File I/O\n",
    "*Day 4 - August 1, 2024*\n",
    "\n",
    "*I School Python Bootcamp*\n",
    "\n",
    "*Author: Lauren Chambers<br>Modified from notebook by George McIntire*\n",
    "\n",
    "\n",
    "In Python, reading and writing files is a fundamental operation for handling data. Python provides built-in functions and methods to easily perform these tasks. To work with files, you typically follow these steps:\n",
    "\n",
    "## Opening a File\n",
    "\n",
    "To read from or write to a file, you first need to open it. You can use the built-in `open()` function for this purpose. The `open()` function takes two arguments: the file path and the mode. The mode specifies whether you want to read, write, or append to the file. The common modes are:\n",
    "\n",
    "`r`: Read mode (default). It allows you to read from the file.\n",
    "\n",
    "`w`: Write mode. It allows you to write to the file. If the file exists, it will be truncated (i.e., its content will be erased). If the file does not exist, a new file will be created.\n",
    "\n",
    "`a`: Append mode. It allows you to write to the file, but the data will be added at the end of the file, preserving the existing content. If the file does not exist, a new file will be created.\n",
    "\n",
    "Here's an example of opening a file in read mode:"
   ]
  },
  {
   "cell_type": "code",
   "execution_count": null,
   "id": "a54b8e36",
   "metadata": {},
   "outputs": [],
   "source": [
    "filepath = \"zen_of_python.txt\"\n",
    "\n",
    "with open(filepath, \"r\") as f:\n",
    "    zen = f.read()\n",
    "    "
   ]
  },
  {
   "cell_type": "markdown",
   "id": "e13fb507",
   "metadata": {},
   "source": [
    "Once the file is open in read mode, you can use the file object's read() method to read its content. This method reads the entire content of the file as a single string."
   ]
  },
  {
   "cell_type": "code",
   "execution_count": null,
   "id": "49be220d",
   "metadata": {},
   "outputs": [],
   "source": [
    "print(zen)"
   ]
  },
  {
   "cell_type": "markdown",
   "id": "cee6589d",
   "metadata": {},
   "source": [
    "The `with` statement in Python is used for what is called \"context management.\" It is mainly used when working with resources that need to be properly managed, such as files, network connections, and databases. The with statement ensures that the resource is properly set up, used, and cleaned up when it is no longer needed, even if an exception occurs.\n",
    "\n",
    "We are using the `with` statement to open up the text file, read its contents and then close it."
   ]
  },
  {
   "cell_type": "markdown",
   "id": "afa795fc",
   "metadata": {},
   "source": [
    "Here's the other way when it comes to opening and close files in Python."
   ]
  },
  {
   "cell_type": "markdown",
   "id": "155fbd1d",
   "metadata": {},
   "source": [
    "Open the file"
   ]
  },
  {
   "cell_type": "code",
   "execution_count": null,
   "id": "b9dadeec",
   "metadata": {},
   "outputs": [],
   "source": [
    "f = open(\"zen_of_python.txt\")"
   ]
  },
  {
   "cell_type": "markdown",
   "id": "59918533",
   "metadata": {},
   "source": [
    "Extract the content"
   ]
  },
  {
   "cell_type": "code",
   "execution_count": null,
   "id": "4ee03a5d",
   "metadata": {},
   "outputs": [],
   "source": [
    "zen = f.read()"
   ]
  },
  {
   "cell_type": "markdown",
   "id": "692e9906",
   "metadata": {},
   "source": [
    "Close the file"
   ]
  },
  {
   "cell_type": "code",
   "execution_count": null,
   "id": "987ee1fe",
   "metadata": {},
   "outputs": [],
   "source": [
    "f.close()"
   ]
  },
  {
   "cell_type": "markdown",
   "id": "ce5d9df4",
   "metadata": {},
   "source": [
    "`.readlines()` is a method that tokenizes or splits up the text based on the lines in the text."
   ]
  },
  {
   "cell_type": "code",
   "execution_count": null,
   "id": "dc67cf11",
   "metadata": {},
   "outputs": [],
   "source": [
    "with open(\"zen_of_python.txt\") as f:\n",
    "    zen = f.readlines()"
   ]
  },
  {
   "cell_type": "markdown",
   "id": "38fbdf97",
   "metadata": {},
   "source": [
    "`zen` is a list of lines"
   ]
  },
  {
   "cell_type": "code",
   "execution_count": null,
   "id": "94c3ca61",
   "metadata": {},
   "outputs": [],
   "source": [
    "zen"
   ]
  },
  {
   "cell_type": "markdown",
   "id": "0384cf33",
   "metadata": {},
   "source": [
    "Run `!ls`  to list the files in this directory."
   ]
  },
  {
   "cell_type": "code",
   "execution_count": null,
   "id": "4d1b6a5a",
   "metadata": {},
   "outputs": [],
   "source": [
    "!ls"
   ]
  },
  {
   "cell_type": "markdown",
   "id": "335466c1",
   "metadata": {},
   "source": [
    "## Writing and Appending to Files"
   ]
  },
  {
   "cell_type": "markdown",
   "id": "1cd345d7",
   "metadata": {},
   "source": [
    "To write data to a file, you need to open the file in write or append mode. You can use the file object's `write()` method to write data to the file."
   ]
  },
  {
   "cell_type": "markdown",
   "id": "95d7dfc7",
   "metadata": {},
   "source": [
    "Let's write the following text passage and to a new file."
   ]
  },
  {
   "cell_type": "code",
   "execution_count": null,
   "id": "0dcb4e4b",
   "metadata": {},
   "outputs": [],
   "source": [
    "text = \"\"\"By memorizing & compressing the data, the NN generalizes, and at scale, \n",
    "like other self-supervised architectures, will learn to meta-learn datapoints, \n",
    "becoming a compact encoding of the distribution which rapidly learns each new datapoint \n",
    "in a single gradient descent step (like Hopfield nets or Reptile). \n",
    "Because of the uniformity and small dimensionality of input/output, \n",
    "the NN can be a deep MLP rather than a CNN, Transformer, or MoE.\"\"\""
   ]
  },
  {
   "cell_type": "markdown",
   "id": "b2958234",
   "metadata": {},
   "source": [
    "`open(\"text.txt\", \"w\")` creates a new .txt file."
   ]
  },
  {
   "cell_type": "code",
   "execution_count": null,
   "id": "06311668",
   "metadata": {},
   "outputs": [],
   "source": [
    "with open(\"text.txt\", \"w\") as f:\n",
    "    f.write(text)"
   ]
  },
  {
   "cell_type": "markdown",
   "id": "3c6db719",
   "metadata": {},
   "source": [
    "Let's verify it actually exists by opening and reading the `text.txt` file"
   ]
  },
  {
   "cell_type": "code",
   "execution_count": null,
   "id": "fe738082",
   "metadata": {},
   "outputs": [],
   "source": [
    "with open(\"text.txt\") as f:\n",
    "    print(f.read())"
   ]
  },
  {
   "cell_type": "markdown",
   "id": "0bf24207",
   "metadata": {},
   "source": [
    "<div class=\"alert alert-block alert-danger\">\n",
    "    BE CAREFUL WITH WRITE MODE\n",
    "</div>"
   ]
  },
  {
   "cell_type": "markdown",
   "id": "be405c54",
   "metadata": {},
   "source": [
    "The following code, if run, would delete/overwrite `zen_of_python.txt`\n",
    "\n",
    "```python\n",
    "with open(\"zen_of_python.txt\", \"w\") as f:\n",
    "    f.write(text)\n",
    "```"
   ]
  },
  {
   "cell_type": "markdown",
   "id": "a6b0bf02",
   "metadata": {},
   "source": [
    "What if we want to add to an existing file? Then we use `a` or append mode"
   ]
  },
  {
   "cell_type": "markdown",
   "id": "81c88450",
   "metadata": {},
   "source": [
    "Let's append this second text passage to `text.txt`"
   ]
  },
  {
   "cell_type": "code",
   "execution_count": null,
   "id": "90a64ef7",
   "metadata": {},
   "outputs": [],
   "source": [
    "text2 = \"\"\"Training can be done by ordinary SGD, \n",
    "but also by any local learning rule, or any mix thereof\n",
    "(eg. SGD at training time in compute-optimal large batches for offline training datasets, \n",
    "and then a local learning rule at ‘runtime’ when conditioning online with new inputs).\"\"\""
   ]
  },
  {
   "cell_type": "markdown",
   "id": "c3a65b72",
   "metadata": {},
   "source": [
    "We're adding a `\\n` character seperate the two text passages"
   ]
  },
  {
   "cell_type": "code",
   "execution_count": null,
   "id": "9c473f2d",
   "metadata": {},
   "outputs": [],
   "source": [
    "with open(\"text.txt\", \"a\") as f:\n",
    "    f.write(\"\\n\" + text2)"
   ]
  },
  {
   "cell_type": "markdown",
   "id": "9be3fe10",
   "metadata": {},
   "source": [
    "Let's look at the results."
   ]
  },
  {
   "cell_type": "code",
   "execution_count": null,
   "id": "65dd4ac8",
   "metadata": {},
   "outputs": [],
   "source": [
    "with open(\"text.txt\") as f:\n",
    "    print(f.read())"
   ]
  },
  {
   "cell_type": "markdown",
   "id": "713b07ce",
   "metadata": {},
   "source": [
    "Let's try using iteration to write data line by line to a text file."
   ]
  },
  {
   "cell_type": "markdown",
   "id": "b8154d21",
   "metadata": {},
   "source": [
    "We're going to write to a text file the full url for each of these case ids."
   ]
  },
  {
   "cell_type": "code",
   "execution_count": null,
   "id": "04cb9be8",
   "metadata": {},
   "outputs": [],
   "source": [
    "url = \"https://scholar.google.com/scholar_case?case={}\"\n",
    "case_ids = [6768454, 7712102, 6448738, 5374866, 6167299, 4683704, 3160303,\n",
    "       3379031, 5507176, 7024792, 9332965, 3999836, 1314612, 5918388,\n",
    "       1994897, 6497745, 4011633, 2837473, 7121246, 2001872]"
   ]
  },
  {
   "cell_type": "code",
   "execution_count": null,
   "id": "a1842e06",
   "metadata": {},
   "outputs": [],
   "source": [
    "with open(\"case_urls.txt\", \"a\") as f:\n",
    "    \n",
    "    for i in case_ids:\n",
    "        f.write(url.format(i) + \"\\n\") # \\n is the new line character"
   ]
  },
  {
   "cell_type": "markdown",
   "id": "33305d31",
   "metadata": {},
   "source": [
    "Load that file back in to see our handiwork:"
   ]
  },
  {
   "cell_type": "code",
   "execution_count": null,
   "id": "1c8bb26c-23d7-4a96-a7a5-c5899092a02f",
   "metadata": {},
   "outputs": [],
   "source": [
    "with open(\"case_urls.txt\", \"r\") as f:\n",
    "    urls = f.readlines()\n",
    "\n",
    "urls"
   ]
  },
  {
   "cell_type": "markdown",
   "id": "72e77d99-bc7c-4ae3-9c49-a01e42de897e",
   "metadata": {},
   "source": [
    "How might you remove the new line characters from the URLs when reading the data back in?"
   ]
  },
  {
   "cell_type": "code",
   "execution_count": null,
   "id": "0e9a73cb-f444-4c65-85ed-65636468a812",
   "metadata": {},
   "outputs": [],
   "source": []
  },
  {
   "cell_type": "markdown",
   "id": "c95075c8-9498-4b71-969f-d919c2d505bd",
   "metadata": {},
   "source": [
    "## Tabular data\n",
    "\n",
    "Our process for loading and writing tabular (AKA table-based or two-dimensional) data is a bit different. In order to load comma-separated value (CSV) files, we must import a new package. There are a few options, but first let's look at the built-in `csv` package.\n",
    "\n",
    "### Using `csv`"
   ]
  },
  {
   "cell_type": "code",
   "execution_count": null,
   "id": "0436e130-76ba-4c06-9b69-7265fe0cfa0a",
   "metadata": {},
   "outputs": [],
   "source": [
    "import csv"
   ]
  },
  {
   "cell_type": "markdown",
   "id": "e70c566e-ad3d-46b4-a40d-229a5c6c6dca",
   "metadata": {},
   "source": [
    "Using the `csv.reader()` function creates a generator (remember our first generator friend `range()`?) containing each row of the file. You can view the rows by putting the generator through a for loop like so:\n",
    "\n",
    "*Note: I didn't generate this list of countries and do not necessarily endorse any political implications of which countries are and are not included!*"
   ]
  },
  {
   "cell_type": "code",
   "execution_count": null,
   "id": "a46ee429-85cd-4896-8de4-151586e8779e",
   "metadata": {},
   "outputs": [],
   "source": [
    "with open('countries.csv', newline='') as f:\n",
    "    reader = csv.reader(f)\n",
    "    for row in reader:\n",
    "        print(row)"
   ]
  },
  {
   "cell_type": "markdown",
   "id": "7ef35919-36d8-402a-b333-c14b517b5e6f",
   "metadata": {},
   "source": [
    "However, just like `range()`, if we try to view the reader object itself we won't see the data that it points to -- because it is a generator, and it does not hold onto all of the data in memory like a list does."
   ]
  },
  {
   "cell_type": "code",
   "execution_count": null,
   "id": "5a656195-ee65-4dcc-83d2-93b37e66b30f",
   "metadata": {},
   "outputs": [],
   "source": [
    "reader"
   ]
  },
  {
   "cell_type": "markdown",
   "id": "e4616c3b-16ff-4b42-b350-ef5e715dd756",
   "metadata": {},
   "source": [
    "If we need to be able to see all the data at once, we can convert this into a list of lists. However, we still have to put that code within a `with open()` block. What happens if we don't?"
   ]
  },
  {
   "cell_type": "code",
   "execution_count": null,
   "id": "71487989-72ab-41ab-89fd-57f038e1a1ea",
   "metadata": {},
   "outputs": [],
   "source": [
    "countries_data = []\n",
    "\n",
    "for row in reader:\n",
    "    countries_data += row\n",
    "\n",
    "countries_data"
   ]
  },
  {
   "cell_type": "markdown",
   "id": "31df0414-ff49-4b39-9eba-28e1455641e7",
   "metadata": {},
   "source": [
    "Our reader generator doesn't have access to the CSV file it needs to read from! Let's try again:"
   ]
  },
  {
   "cell_type": "code",
   "execution_count": null,
   "id": "7af289c3-c1f8-4176-916c-9e7c38976c49",
   "metadata": {},
   "outputs": [],
   "source": [
    "countries_data = []\n",
    "\n",
    "with open('countries.csv', newline='') as f:\n",
    "    reader = csv.reader(f)\n",
    "    for row in reader:\n",
    "        countries_data.append(row)\n",
    "\n",
    "countries_data"
   ]
  },
  {
   "cell_type": "markdown",
   "id": "893baad0-b94c-4dcf-a264-ebfbf3fc2e2e",
   "metadata": {},
   "source": [
    "Now let's play with these data just a little. Can we list all the countries?"
   ]
  },
  {
   "cell_type": "code",
   "execution_count": null,
   "id": "40182452-ce67-421e-b5e3-a82fe817c71d",
   "metadata": {},
   "outputs": [],
   "source": [
    "all_countries = set([row[0] for row in countries_data[1:]])\n",
    "all_countries"
   ]
  },
  {
   "cell_type": "markdown",
   "id": "59c80912-fceb-4065-83ae-36e0d8b5e0b7",
   "metadata": {},
   "source": [
    "What about the population of each country in 2007?"
   ]
  },
  {
   "cell_type": "code",
   "execution_count": null,
   "id": "5eaf5e0e-1649-4211-b320-af385aa1ec02",
   "metadata": {},
   "outputs": [],
   "source": [
    "pops = {}\n",
    "for row in countries_data[1:]: # don't include the header row!\n",
    "    # Pull out the relevant data from the row as local variables\n",
    "    country = row[0]\n",
    "    year = row[1]\n",
    "    pop = row[2]\n",
    "    \n",
    "    if year == '2007': # Note we have to use a string here, not an integer\n",
    "        pops[country] = pop\n",
    "\n",
    "pops"
   ]
  },
  {
   "cell_type": "markdown",
   "id": "6354d0f5-1140-4428-a8fc-c502d327f355",
   "metadata": {},
   "source": [
    "What about the GDP of Senegal over time?"
   ]
  },
  {
   "cell_type": "code",
   "execution_count": null,
   "id": "f392654f-a147-4907-b692-f3eca9beb1d5",
   "metadata": {},
   "outputs": [],
   "source": [
    "gdp_senegal = {}\n",
    "for row in countries_data[1:]: # don't include the header row!\n",
    "    # Pull out the relevant data from the row as local variables\n",
    "    country = row[0]\n",
    "    year = row[1]\n",
    "    gdp = row[5]\n",
    "    \n",
    "    if country == \"Senegal\":\n",
    "        gdp_senegal[year] = gdp\n",
    "\n",
    "gdp_senegal"
   ]
  },
  {
   "cell_type": "markdown",
   "id": "c73d5ee0-d0eb-4530-9722-fce780251b51",
   "metadata": {},
   "source": [
    "### Using `pandas`\n",
    "\n",
    "Perhaps the more popular option is to use `pandas`. It has a lot of very intuitive functions!"
   ]
  },
  {
   "cell_type": "code",
   "execution_count": null,
   "id": "b7ee0426-0fa7-4cf5-a327-d7b4734b4636",
   "metadata": {},
   "outputs": [],
   "source": [
    "import pandas as pd"
   ]
  },
  {
   "cell_type": "code",
   "execution_count": null,
   "id": "2a31b520-180f-4146-8dc2-e1878bd98ebf",
   "metadata": {},
   "outputs": [],
   "source": [
    "countries_df = pd.read_csv(\"countries.csv\")\n",
    "countries_df"
   ]
  },
  {
   "cell_type": "markdown",
   "id": "a888cc26-acbc-4d03-96c4-7ba7298acd5e",
   "metadata": {},
   "source": [
    "We can do all the same things using `pandas` that we did using `csv` - and much easier in my opinion."
   ]
  },
  {
   "cell_type": "code",
   "execution_count": null,
   "id": "06d2cdd1-b278-4a48-896a-583052fa29cc",
   "metadata": {},
   "outputs": [],
   "source": [
    "# List all countries\n",
    "set(countries_df.country)"
   ]
  },
  {
   "cell_type": "code",
   "execution_count": null,
   "id": "ca971b3e-89d6-4f34-afe9-81fcd5471de1",
   "metadata": {},
   "outputs": [],
   "source": [
    "# Population of each country in 2007\n",
    "countries_df[countries_df.year == 2007][[\"country\", \"pop\"]]\n",
    "# Note that pandas implicitly converted the year column into an integer!"
   ]
  },
  {
   "cell_type": "code",
   "execution_count": null,
   "id": "837ea52c-ac42-436b-8664-ba8a771e20f0",
   "metadata": {},
   "outputs": [],
   "source": [
    "# GDP of Senegal over time\n",
    "countries_df[countries_df.country == \"Senegal\"][[\"year\", \"gdpPercap\"]]"
   ]
  },
  {
   "cell_type": "markdown",
   "id": "dbabe52a-8961-4a56-a9e6-67e62f09455a",
   "metadata": {},
   "source": [
    "## JSON / attribute-value pair data\n",
    "\n",
    "Similarly to tabular data, loading JSON data requires another built-in package: `json`."
   ]
  },
  {
   "cell_type": "code",
   "execution_count": null,
   "id": "8fe85d59-a9a3-4524-a28d-afb7b9905974",
   "metadata": {},
   "outputs": [],
   "source": [
    "import json"
   ]
  },
  {
   "cell_type": "code",
   "execution_count": null,
   "id": "2fdfccdf-5747-467e-8b78-18742d4f090f",
   "metadata": {},
   "outputs": [],
   "source": [
    "with open(\"page_visits.json\", \"r\") as fo:\n",
    "    data = fo.read()\n",
    "    json_dicts = json.loads(data)\n",
    "\n",
    "json_dicts"
   ]
  },
  {
   "cell_type": "markdown",
   "id": "13a3f786-be5a-460d-bbe4-029c2b97636c",
   "metadata": {},
   "source": [
    "This file creates a list of dictionaries. We can manipulate that to answer questions about the data. Like: how many pages did each use complete reading?"
   ]
  },
  {
   "cell_type": "code",
   "execution_count": null,
   "id": "e281e996-de43-408f-b720-abe2ffa4ebfd",
   "metadata": {},
   "outputs": [],
   "source": [
    "complete_reads = {}\n",
    "\n",
    "for visit in json_dicts:\n",
    "    userId = visit['userId']\n",
    "    \n",
    "    if userId not in complete_reads.keys():\n",
    "        complete_reads[userId] = 0 # Initialize entry for new users\n",
    "    \n",
    "    if visit['completed']:\n",
    "        complete_reads[userId] += 1\n",
    "\n",
    "complete_reads"
   ]
  },
  {
   "cell_type": "markdown",
   "id": "74d7dc45-2697-4a11-90fa-b6d26d6d862f",
   "metadata": {},
   "source": [
    "# Exercises"
   ]
  },
  {
   "cell_type": "markdown",
   "id": "e829caf8-fab6-4362-8e09-376c88081a09",
   "metadata": {},
   "source": [
    "## Exercise 1\n",
    "*Reading and writing text files*\n",
    "\n",
    "Open up and load in `zen_of_python.txt` reverse the order of the words in it and then save the result to a new file called `zen_of_python_reversed.txt`"
   ]
  },
  {
   "cell_type": "code",
   "execution_count": null,
   "id": "103545b3-0676-4027-b75b-b61d83724cbe",
   "metadata": {},
   "outputs": [],
   "source": []
  },
  {
   "cell_type": "code",
   "execution_count": null,
   "id": "40c51768-cfab-4acf-aa17-913fbec9a919",
   "metadata": {},
   "outputs": [],
   "source": []
  },
  {
   "cell_type": "markdown",
   "id": "fda89376-f892-4054-a07e-1c3dda386ed1",
   "metadata": {},
   "source": [
    "## Exercise 2\n",
    "*Reading and analyzing JSON data*\n",
    "\n",
    "Load in the `page_visits.json` file. Iterate over it and extract all the values associated with the `title` only if the `completed` value is True into a list."
   ]
  },
  {
   "cell_type": "code",
   "execution_count": null,
   "id": "219ce1fe-3867-430b-bf06-4267489ccf69",
   "metadata": {},
   "outputs": [],
   "source": []
  },
  {
   "cell_type": "markdown",
   "id": "6dbe806c-cd2b-4283-80ee-84ec0af0b3d1",
   "metadata": {},
   "source": [
    "## Exercise 3\n",
    "*Reading and analyzing tabular data*\n",
    "\n",
    "Load the `countries.csv` file (you can use `csv` or `pandas`, whichever you prefer). Calculate the average life expectancy for each continent in 1952."
   ]
  },
  {
   "cell_type": "code",
   "execution_count": null,
   "id": "b5066d62-117b-48cb-83e8-870083960c28",
   "metadata": {},
   "outputs": [],
   "source": []
  },
  {
   "cell_type": "markdown",
   "id": "3a0f2e3a-505f-4c11-9ed3-31df3045760a",
   "metadata": {},
   "source": [
    "## Exercise 4\n",
    "*Self-teaching skills using package documentation*\n",
    "\n",
    "Load `countries.csv` into a pandas dataframe.\n",
    "\n",
    "Review this tutorial on the `pandas` website: https://pandas.pydata.org/docs/getting_started/intro_tutorials/05_add_columns.html\n",
    "\n",
    "Use it to figure out how to add a new column to the dataframe: the raw GDP, as opposed to the per capita. (`gdp = pop * gdpPercap`)"
   ]
  },
  {
   "cell_type": "code",
   "execution_count": null,
   "id": "46493a35-a30d-421f-b32e-c63b0d9fd8ec",
   "metadata": {},
   "outputs": [],
   "source": []
  },
  {
   "cell_type": "code",
   "execution_count": null,
   "id": "43ac69c5-5cfa-4680-addd-f3485b707701",
   "metadata": {},
   "outputs": [],
   "source": []
  }
 ],
 "metadata": {
  "kernelspec": {
   "display_name": "Python 3 (ipykernel)",
   "language": "python",
   "name": "python3"
  },
  "language_info": {
   "codemirror_mode": {
    "name": "ipython",
    "version": 3
   },
   "file_extension": ".py",
   "mimetype": "text/x-python",
   "name": "python",
   "nbconvert_exporter": "python",
   "pygments_lexer": "ipython3",
   "version": "3.8.17"
  }
 },
 "nbformat": 4,
 "nbformat_minor": 5
}

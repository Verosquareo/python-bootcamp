{
 "cells": [
  {
   "cell_type": "markdown",
   "id": "472b6a0ec1bc458a",
   "metadata": {},
   "source": [
    "# Lab 5B - Plotting with `matplotlib`\n",
    "*Day 5 - August 5, 2024*\n",
    "\n",
    "*I School Python Bootcamp*\n",
    "\n",
    "*Author: Lauren Chambers*\n",
    "\n",
    "`matplotlib` is one of the most widely used libraries for data visualization in Python. It provides a comprehensive and flexible framework for creating a wide variety of static, animated, and interactive plots and charts. Whether you are analyzing scientific data, exploring large datasets, or simply looking to present your results in a visually appealing manner, `matplotlib` has the tools you need. \n",
    "\n",
    "In this notebook, we will explore the fundamentals of Matplotlib, including how to create basic plots, customize their appearance, and combine multiple plots into a single figure. \n",
    "\n",
    "Throughout we'll be using a sample dataset that represents passengers on the Titanic. First we need to load our libraries and import the data."
   ]
  },
  {
   "cell_type": "code",
   "execution_count": null,
   "id": "c5e2ff1f-b73e-4785-9448-5fb4fe576e61",
   "metadata": {},
   "outputs": [],
   "source": [
    "import csv\n",
    "import matplotlib.pyplot as plt\n",
    "import pandas as pd"
   ]
  },
  {
   "cell_type": "code",
   "execution_count": null,
   "id": "0f70a8fa-6b96-44bf-94a8-ce3b04386f4c",
   "metadata": {},
   "outputs": [],
   "source": [
    "titanic_data = []\n",
    "\n",
    "with open('titanic.csv', newline='') as f:\n",
    "    reader = csv.reader(f)\n",
    "    for row in reader:\n",
    "        titanic_data.append(row)\n",
    "\n",
    "titanic_data"
   ]
  },
  {
   "cell_type": "markdown",
   "id": "5deefaaf-5531-4734-9dfb-be4fe01d143e",
   "metadata": {},
   "source": [
    "...Let's cheat a bit and use `pandas` to more intuitively show what our dataset looks like"
   ]
  },
  {
   "cell_type": "code",
   "execution_count": null,
   "id": "0fd8c694-7023-449e-9774-2005c3819ea2",
   "metadata": {},
   "outputs": [],
   "source": [
    "pd.read_csv(\"titanic.csv\")"
   ]
  },
  {
   "cell_type": "markdown",
   "id": "10708356-4f29-4357-adb0-72e63ae737a3",
   "metadata": {},
   "source": [
    "## Basics of `matplotlib`\n",
    "Okay, now that we have a better handle on our data, we can get plotting.\n",
    "\n",
    "Just like with `drawsvg`, the initalization code for `matplotlib` doesn't look like anything if you display it:"
   ]
  },
  {
   "cell_type": "code",
   "execution_count": null,
   "id": "044cf778-e5f4-45c1-bf26-9bec10cb5c7f",
   "metadata": {},
   "outputs": [],
   "source": [
    "# Initialize\n",
    "plt.figure()\n",
    "\n",
    "# Display\n",
    "plt.show()"
   ]
  },
  {
   "cell_type": "markdown",
   "id": "f099a470-0447-42bf-83a0-43d404933d25",
   "metadata": {},
   "source": [
    "Let's do a simple line showing fare versus passenger ID:"
   ]
  },
  {
   "cell_type": "code",
   "execution_count": null,
   "id": "31174a7a-cacb-4896-8471-b7aec4459110",
   "metadata": {},
   "outputs": [],
   "source": [
    "# Initialize\n",
    "plt.figure()\n",
    "\n",
    "# Process data\n",
    "passenger_ids = [int(row[0]) for row in titanic_data[1:]]\n",
    "fares = [float(row[9]) for row in titanic_data[1:]]\n",
    "\n",
    "# Draw plot and axis labels\n",
    "plt.plot(passenger_ids, fares)\n",
    "plt.ylabel(\"Fare ($USD)\")\n",
    "plt.xlabel(\"Passenger ID\")\n",
    "\n",
    "# Display\n",
    "plt.show()"
   ]
  },
  {
   "cell_type": "markdown",
   "id": "8115d12d-8377-4d8d-b071-9ac5ccaab8cd",
   "metadata": {},
   "source": [
    "That's all well and good, but perhaps unsurprisingly, there don't seem to be any interesting correlations between the passenger IDs and the fare they paid to get onto the ship. Let's try a different plot type to get something more interesting."
   ]
  },
  {
   "cell_type": "code",
   "execution_count": null,
   "id": "94cd612c-8086-421a-b85d-79d5a1aa905a",
   "metadata": {},
   "outputs": [],
   "source": [
    "# Initialize\n",
    "plt.figure()\n",
    "\n",
    "# Process data\n",
    "fares = [float(row[9]) for row in titanic_data[1:]]\n",
    "\n",
    "# Draw plot and axis labels\n",
    "plt.hist(fares, bins=20)\n",
    "plt.title(\"Histogram of fares on the Titanic\")\n",
    "plt.ylabel(\"Number of Passengers\")\n",
    "plt.xlabel(\"Fare ($USD)\")\n",
    "\n",
    "# Display\n",
    "plt.show()"
   ]
  },
  {
   "cell_type": "markdown",
   "id": "c03eb101-4b58-469c-85b7-b561376f8d3f",
   "metadata": {},
   "source": [
    "What about a scatter plot that shows ages versus fare?"
   ]
  },
  {
   "cell_type": "code",
   "execution_count": null,
   "id": "430d5746-f775-4749-9166-6d14d95998aa",
   "metadata": {},
   "outputs": [],
   "source": [
    "# Initialize\n",
    "plt.figure()\n",
    "\n",
    "# Process data\n",
    "fares = [float(row[9]) for row in titanic_data[1:]]\n",
    "ages = [float(row[5]) if row[5] != \"\" else 0 for row in titanic_data[1:]]\n",
    "\n",
    "# Draw plot and axis labels\n",
    "plt.scatter(ages, fares)\n",
    "plt.ylabel(\"Fare ($USD)\")\n",
    "plt.xlabel(\"Age of Passengers (years)\")\n",
    "\n",
    "# Display\n",
    "plt.show()"
   ]
  },
  {
   "cell_type": "markdown",
   "id": "dae08a3d-0d20-424b-bb6b-9363967caae8",
   "metadata": {},
   "source": [
    "Let's also investigate survival rates by sex. That requires calculating some aggregate statistics first:"
   ]
  },
  {
   "cell_type": "code",
   "execution_count": null,
   "id": "d3c53a25-d383-4066-a397-ef91d77e8c13",
   "metadata": {},
   "outputs": [],
   "source": [
    "# Create dict with survival aggregate statistics\n",
    "survival_by_sex = {\"male\": {\"survived\":0,\n",
    "                            \"died\": 0},\n",
    "                   \"female\": {\"survived\":0,\n",
    "                            \"died\": 0}}\n",
    "\n",
    "for row in titanic_data[1:]:\n",
    "    sex = row[4]\n",
    "    survived = bool(int(row[1]))\n",
    "    if survived:\n",
    "        survived_key = \"survived\"\n",
    "    else: \n",
    "        survived_key = \"died\"\n",
    "    survival_by_sex[sex][survived_key] += 1\n",
    "\n",
    "survival_by_sex"
   ]
  },
  {
   "cell_type": "code",
   "execution_count": null,
   "id": "c3e649b9-373c-49d0-9176-b85dc87784cb",
   "metadata": {},
   "outputs": [],
   "source": [
    "# Initialize\n",
    "plt.figure()\n",
    "\n",
    "# Draw plot and axis labels\n",
    "width = 0.4  # the width of the bars\n",
    "plt.bar([0 - width/2, 1 - width/2], survival_by_sex[\"male\"].values(), label=\"Male\", width=width)\n",
    "plt.bar([0 + width/2, 1 + width/2], survival_by_sex[\"female\"].values(), label=\"Female\", width=width)\n",
    "plt.ylabel(\"Number of passengers\")\n",
    "plt.title(\"Survival rates by sex\")\n",
    "plt.xticks([0, 1], labels=[\"survived\", \"died\"])\n",
    "plt.ylim(0, 600)\n",
    "plt.legend()\n",
    "\n",
    "# Display\n",
    "plt.show()"
   ]
  },
  {
   "cell_type": "markdown",
   "id": "d14f03fe-1408-46b1-ab36-2e75c6f163dd",
   "metadata": {},
   "source": [
    "If we want to save any of these figures to a file, we can use the `savefig()` function. Note that `plt.savefig()` must be called before `plt.show()`. Do you know why?\n",
    "\n",
    "## Subplots"
   ]
  },
  {
   "cell_type": "markdown",
   "id": "85f5d1a5-40df-4afc-93cd-4dd5b17b94b6",
   "metadata": {},
   "source": [
    "Let's break down the data a bit more. Can we show subplots that divide the data based on class?"
   ]
  },
  {
   "cell_type": "code",
   "execution_count": null,
   "id": "345f90f9-a2c2-4abc-aff6-22e34aa967d5",
   "metadata": {},
   "outputs": [],
   "source": [
    "survival_by_sex_and_class = {1: {\"male\": {\"survived\":0,\n",
    "                                            \"died\": 0},\n",
    "                                   \"female\": {\"survived\":0,\n",
    "                                            \"died\": 0}},\n",
    "                             2: {\"male\": {\"survived\":0,\n",
    "                                            \"died\": 0},\n",
    "                                   \"female\": {\"survived\":0,\n",
    "                                            \"died\": 0}},\n",
    "                             3: {\"male\": {\"survived\":0,\n",
    "                                            \"died\": 0},\n",
    "                                   \"female\": {\"survived\":0,\n",
    "                                            \"died\": 0}}}\n",
    "\n",
    "for row in titanic_data[1:]:\n",
    "    class_level = int(row[2])\n",
    "    sex = row[4]\n",
    "    survived = bool(int(row[1]))\n",
    "    if survived:\n",
    "        survived_key = \"survived\"\n",
    "    else: \n",
    "        survived_key = \"died\"\n",
    "    survival_by_sex_and_class[class_level][sex][survived_key] += 1\n",
    "\n",
    "survival_by_sex_and_class"
   ]
  },
  {
   "cell_type": "code",
   "execution_count": null,
   "id": "12b6c11d-6fb4-4b45-a797-8a08c28378a6",
   "metadata": {},
   "outputs": [],
   "source": [
    "# Initialize\n",
    "fig, (ax1, ax2, ax3) = plt.subplots(nrows=1, ncols=3, sharey=True)\n",
    "\n",
    "# Draw plot and axis labels\n",
    "width = 0.4  # the width of the bars\n",
    "for c, ax in zip([1, 2, 3], [ax1, ax2, ax3]):\n",
    "    ax.bar([0 - width/2, 1 - width/2], survival_by_sex_and_class[c][\"male\"].values(), label=\"Male\", width=width)\n",
    "    ax.bar([0 + width/2, 1 + width/2], survival_by_sex_and_class[c][\"female\"].values(), label=\"Female\", width=width)\n",
    "    ax.set_xticks([0, 1], labels=[\"survived\", \"died\"])\n",
    "    ax.set_title(str(c) + \" Class\")\n",
    "\n",
    "ax1.set_ylabel(\"Number of passengers\")\n",
    "plt.suptitle(\"Survival rates by sex and class\")\n",
    "plt.legend(bbox_to_anchor = (1, .5))\n",
    "\n",
    "# Display\n",
    "plt.show()"
   ]
  },
  {
   "cell_type": "markdown",
   "id": "bf92f960daf116da",
   "metadata": {},
   "source": [
    "# Exercises"
   ]
  },
  {
   "cell_type": "markdown",
   "id": "d52f87d3-289a-48b0-b8f1-2089f3e71104",
   "metadata": {},
   "source": [
    "# Exercise 1\n",
    "\n",
    "Create a simple line plot from scratch. Plot the following data points:\n",
    "\n",
    "```python\n",
    "x = [0, 1, 2, 3, 4, 5]\n",
    "y = [0, 1, 4, 9, 16, 25]\n",
    "```\n",
    "\n",
    "Add labels for the x-axis and y-axis, and add a title to the plot."
   ]
  },
  {
   "cell_type": "code",
   "execution_count": null,
   "id": "785d1817-d0ba-4680-b811-1e42e95bcafd",
   "metadata": {},
   "outputs": [],
   "source": []
  },
  {
   "cell_type": "markdown",
   "id": "1ebd367f-24f7-4d76-8715-b03684df449c",
   "metadata": {},
   "source": [
    "# Exercise 2\n",
    "\n",
    "Create a bar plot from scratch. Plot the following data points:\n",
    "\n",
    "```python\n",
    "categories = ['A', 'B', 'C', 'D', 'E']\n",
    "values = [5, 7, 3, 8, 4]\n",
    "```\n",
    "\n",
    "Add labels for the x-axis and y-axis, and add a title to the plot."
   ]
  },
  {
   "cell_type": "code",
   "execution_count": null,
   "id": "fcceb3c8-736b-459a-a2b9-1d473edad7d4",
   "metadata": {},
   "outputs": [],
   "source": []
  },
  {
   "cell_type": "markdown",
   "id": "08edad4a-5045-4a36-9f38-c01ac0c0b880",
   "metadata": {},
   "source": [
    "## Exercise 3\n",
    "\n",
    "Re-create your bar plot from Exercise 2, but change the color of the bars, and change the font style for the titles and axis labels.\n",
    "\n",
    "Hint: try setting `fontfamily = \"serif\"`"
   ]
  },
  {
   "cell_type": "code",
   "execution_count": null,
   "id": "77d2d5df-3cca-4990-b11f-1bd2e08bcfe9",
   "metadata": {},
   "outputs": [],
   "source": []
  },
  {
   "cell_type": "markdown",
   "id": "1ec7ec77-38c5-43de-9ac9-1304f8b807ea",
   "metadata": {},
   "source": [
    "## Exercise 4 \n",
    "\n",
    "Create a figure with 2 vertical subplots. The top subplot should be your plot from Exercise 1, and the bottom subplot should be your plot from Exercise 3."
   ]
  },
  {
   "cell_type": "code",
   "execution_count": null,
   "id": "d1dfa667-869d-4381-b686-cbac3fe209b8",
   "metadata": {},
   "outputs": [],
   "source": []
  }
 ],
 "metadata": {
  "kernelspec": {
   "display_name": "Python 3 (ipykernel)",
   "language": "python",
   "name": "python3"
  },
  "language_info": {
   "codemirror_mode": {
    "name": "ipython",
    "version": 3
   },
   "file_extension": ".py",
   "mimetype": "text/x-python",
   "name": "python",
   "nbconvert_exporter": "python",
   "pygments_lexer": "ipython3",
   "version": "3.8.17"
  }
 },
 "nbformat": 4,
 "nbformat_minor": 5
}

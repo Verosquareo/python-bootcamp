{
 "cells": [
  {
   "cell_type": "markdown",
   "id": "472b6a0ec1bc458a",
   "metadata": {},
   "source": [
    "# Lab 5A - Drawings with `drawsvg`\n",
    "*Day 5 - August 5, 2024*\n",
    "\n",
    "*I School Python Bootcamp*\n",
    "\n",
    "*Author: Lauren Chambers*\n",
    "\n",
    "[`drawsvg`](https://pypi.org/project/drawsvg/) is a Python library designed for creating and manipulating vector graphics in the SVG (Scalable Vector Graphics) format. With some careful coding, `drawsvg` allows you to generate complex vector illustrations and animations. In this lab, we will explore the core functionalities of `drawsvg`, including how to draw basic shapes, style your graphics, and create  animations. "
   ]
  },
  {
   "cell_type": "code",
   "execution_count": null,
   "id": "2a033d3f-6933-48b5-969b-5da877067683",
   "metadata": {},
   "outputs": [],
   "source": [
    "import drawsvg as draw"
   ]
  },
  {
   "cell_type": "markdown",
   "id": "4d0d0790-2c6f-496c-b33e-1ac75e45c9e2",
   "metadata": {},
   "source": [
    "## Basics of Drawing\n",
    "\n",
    "First things first, we must **initialize** the canvas upon which we will be drawing. This uses the `draw.Drawing()` method.\n",
    "\n",
    "Recall that simply initializing a canvas won't draw anything, so your notebook output will be a blank canvas!"
   ]
  },
  {
   "cell_type": "code",
   "execution_count": null,
   "id": "a7ba7e7d-a6a7-4679-88a3-472d0d60472d",
   "metadata": {},
   "outputs": [],
   "source": [
    "# Initialize\n",
    "d = draw.Drawing(200, 100, origin='center')\n",
    "\n",
    "# Display\n",
    "d"
   ]
  },
  {
   "cell_type": "markdown",
   "id": "bc618c7d-b417-407e-98a8-e065d7ba4b7d",
   "metadata": {},
   "source": [
    "To demonstrate what the canvas actually looks like, though, let's add some lines for the boundaries and a tiny circle to show the origin:"
   ]
  },
  {
   "cell_type": "code",
   "execution_count": null,
   "id": "b682c06d-c1c8-419b-80f4-283b6dbc1186",
   "metadata": {},
   "outputs": [],
   "source": [
    "# Set width & height as variables to use for drawing the bounds\n",
    "w = 200\n",
    "h = 100\n",
    "\n",
    "# Initialize\n",
    "d = draw.Drawing(w, h, origin='center')\n",
    "\n",
    "# Draw\n",
    "d.append(draw.Line(-w/2, -h/2, -w/2, h/2, stroke='black')) # Left border\n",
    "d.append(draw.Line(-w/2, -h/2, w/2, -h/2, stroke='black')) # Top border\n",
    "d.append(draw.Line(w/2, h/2, -w/2, h/2, stroke='black')) # Bottom border\n",
    "d.append(draw.Line(w/2, h/2, w/2, -h/2, stroke='black')) # Right border\n",
    "d.append(draw.Circle(0, 0, 2, fill='black')) # Origin\n",
    "\n",
    "# Display\n",
    "d"
   ]
  },
  {
   "cell_type": "markdown",
   "id": "ab188504-69a4-4981-a658-9ef53ce6d3f5",
   "metadata": {},
   "source": [
    "Now that our canvas is initialized, we can **draw** the shapes we wish to draw.\n",
    "\n",
    "Let's add our shapes from the lesson. First, a circle:"
   ]
  },
  {
   "cell_type": "code",
   "execution_count": null,
   "id": "af9eb845-c1d6-4d23-b2ec-9fc0bb832ad4",
   "metadata": {},
   "outputs": [],
   "source": [
    "# Initialize\n",
    "d = draw.Drawing(200, 100, origin='center')\n",
    "\n",
    "# Draw a circle\n",
    "circle = draw.Circle(-40, 10, 30)\n",
    "d.append(circle)\n",
    "\n",
    "# Display\n",
    "d"
   ]
  },
  {
   "cell_type": "markdown",
   "id": "b6681e25-4a2f-4ec6-948c-74d69dec7468",
   "metadata": {},
   "source": [
    "We can add on a rectangle by appending that shape too:"
   ]
  },
  {
   "cell_type": "code",
   "execution_count": null,
   "id": "9889d9be-8e4a-4537-8176-012e0acae3af",
   "metadata": {},
   "outputs": [],
   "source": [
    "# Initialize\n",
    "d = draw.Drawing(200, 100, origin='center')\n",
    "\n",
    "# Draw a circle\n",
    "circle = draw.Circle(-40, 10, 30)\n",
    "d.append(circle)\n",
    "\n",
    "# Draw a rectangle\n",
    "rect = draw.Rectangle(10, 10, 90, 10)\n",
    "d.append(rect)\n",
    "\n",
    "# Display\n",
    "d"
   ]
  },
  {
   "cell_type": "markdown",
   "id": "9d6a5a10-344d-478d-88fa-eb032e7fdc7c",
   "metadata": {},
   "source": [
    "Each shape / element in `drawsvg` includes a ton of keyword arguments (kwargs) that you can tweak to adjust the appearance of your shapes. Let's snazz up our circle and rectangle:"
   ]
  },
  {
   "cell_type": "code",
   "execution_count": null,
   "id": "ac0f4e36-8a41-4359-b676-2b296887598d",
   "metadata": {},
   "outputs": [],
   "source": [
    "# Initialize\n",
    "d = draw.Drawing(200, 100, origin='center')\n",
    "\n",
    "# Draw a circle\n",
    "circle = draw.Circle(-40, 10, 30, fill='red', stroke_width=2, stroke='black')\n",
    "d.append(circle)\n",
    "\n",
    "# Draw a rectangle\n",
    "rect = draw.Rectangle(10, 10, 90, 10, stroke='#814191', fill='none')\n",
    "d.append(rect)\n",
    "\n",
    "# Display\n",
    "d"
   ]
  },
  {
   "cell_type": "markdown",
   "id": "c4318e3b-9ed3-4864-a46f-a0a43956598b",
   "metadata": {},
   "source": [
    "We can now save our drawing out to a file - either a png or an svg:"
   ]
  },
  {
   "cell_type": "code",
   "execution_count": null,
   "id": "7badd4e6-2c57-4f3f-838e-efa095840033",
   "metadata": {},
   "outputs": [],
   "source": [
    "d.save_png(\"lab5a.png\")\n",
    "d.save_svg(\"lab5a.svg\")"
   ]
  },
  {
   "cell_type": "markdown",
   "id": "8a21fdce-b831-4d9d-b68c-0e8b91656a73",
   "metadata": {},
   "source": [
    "Try opening the PNG in your typical file viewing software (e.g. Preview or Adobe). You'll have to open the SVG using your go-to browser as you can't view SVGs in many other previewing softwares."
   ]
  },
  {
   "cell_type": "markdown",
   "id": "28e9b1fa-42c9-4ce7-b9ca-e3efb61200a7",
   "metadata": {},
   "source": [
    "## Making better drawings\n",
    "Of course, `drawsvg` can be used to do much more than create random shapes in random colors. Let's make ourselves a smiley face!"
   ]
  },
  {
   "cell_type": "code",
   "execution_count": null,
   "id": "2253b24b-d477-4f4a-bfec-c50fc4d4e1b2",
   "metadata": {},
   "outputs": [],
   "source": [
    "# Initialize\n",
    "d = draw.Drawing(400, 400, origin='center')\n",
    "\n",
    "# Make the face\n",
    "circle = draw.Circle(0, 0, 150, fill='yellow', stroke_width=2, stroke='black')\n",
    "d.append(circle)\n",
    "\n",
    "# Add the eyes\n",
    "left_eye = draw.Circle(cx=-50, cy=-30, r=10, fill='black', stroke_width=2, stroke='black')\n",
    "right_eye = draw.Circle(cx=50, cy=-30, r=10, fill='black', stroke_width=2, stroke='black')\n",
    "d.append(left_eye)\n",
    "d.append(right_eye)\n",
    "\n",
    "# Add the smile!\n",
    "smile = draw.ArcLine(cx=0, cy=-10, r=90, start_deg=210, end_deg=330,\n",
    "        stroke='black', stroke_width=5, fill='none', fill_opacity=0.2)\n",
    "d.append(smile)\n",
    "\n",
    "# Display\n",
    "d"
   ]
  },
  {
   "cell_type": "markdown",
   "id": "43bb7b6f-cb19-47d5-8d7a-ee9d52c73800",
   "metadata": {},
   "source": [
    "And how about a rainbow?"
   ]
  },
  {
   "cell_type": "code",
   "execution_count": null,
   "id": "2ccb1c06-f4af-4a46-b3bd-089ba5cb676c",
   "metadata": {},
   "outputs": [],
   "source": [
    "# Initialize\n",
    "d = draw.Drawing(width=400, height=200, origin='bottom-left')\n",
    "\n",
    "# Draw each color\n",
    "red = draw.ArcLine(cx=200, cy=0, r=150, start_deg=0, end_deg=180, fill='red')\n",
    "orange = draw.ArcLine(cx=200, cy=0, r=140, start_deg=0, end_deg=180, fill='orange')\n",
    "yellow = draw.ArcLine(cx=200, cy=0, r=130, start_deg=0, end_deg=180, fill='yellow')\n",
    "green = draw.ArcLine(cx=200, cy=0, r=120, start_deg=0, end_deg=180, fill='green')\n",
    "blue = draw.ArcLine(cx=200, cy=0, r=110, start_deg=0, end_deg=180, fill='blue')\n",
    "purple = draw.ArcLine(cx=200, cy=0, r=100, start_deg=0, end_deg=180, fill='purple')\n",
    "\n",
    "# Add one last arc to fill in the \"underneath\" \n",
    "inside = draw.ArcLine(cx=200, cy=0, r=90, start_deg=0, end_deg=180, fill='white')\n",
    "\n",
    "d.append(red)\n",
    "d.append(orange)\n",
    "d.append(yellow)\n",
    "d.append(green)\n",
    "d.append(blue)\n",
    "d.append(purple)\n",
    "d.append(inside)\n",
    "\n",
    "# Display\n",
    "d"
   ]
  },
  {
   "cell_type": "markdown",
   "id": "5bfaf19d-a7dd-472d-8da5-53d78e67f2fe",
   "metadata": {},
   "source": [
    "## Animations\n",
    "\n",
    "However the most powerful element of `drawsvg` - and the thing that might make it worth using as opposed to just using a simple graphic illustrator - is the ability to programmatically create animations.\n",
    "\n",
    "As discussed in our lesson, and as demoed on the package documentation homepage, there are multiple different ways to create animations in `drawsvg`. We'll be using the frame-by-frame method that uses `draw.frame_animate_jupyter()`.\n",
    "\n",
    "This method requires a few things:\n",
    "* A function which creates returns a drawing for each individual frame\n",
    "* A `with` statement that passes the drawing function and the time between frames (`delay`) into the `draw.frame_animate_jupyter()` function\n",
    "    * A `for` loop that draws each frame in the animation\n",
    "\n",
    "Let's try out the sample code that we walked through in the lesson:"
   ]
  },
  {
   "cell_type": "code",
   "execution_count": null,
   "id": "d0f6a98b-62f8-43d2-a740-839ad5142f30",
   "metadata": {},
   "outputs": [],
   "source": [
    "# Define the animation function\n",
    "def drawing_func(frame, n_frames):\n",
    "    # Intialize the drawing\n",
    "    d = draw.Drawing(width=200, height=200, origin='center')\n",
    "    \n",
    "    # Draw the background as a white rectangle\n",
    "    d.append(draw.Rectangle(x=-100, y=-100, width=200, height=200, fill=\"white\", stroke=\"black\"))\n",
    "\n",
    "    # Specify the size of the drawing when it's rendered in Jupyter\n",
    "    d.set_render_size(h=300)\n",
    "    \n",
    "    # Calculate the y position of the ball in each frame\n",
    "    y = frame / n_frames * 200 - 100\n",
    "    \n",
    "     # Update the ball's position\n",
    "    ball = draw.Circle(0, y, 10, fill='red')\n",
    "    d.append(ball)\n",
    "    \n",
    "    return d\n",
    "\n",
    "# Display the animation using frame_animate_jupyter()\n",
    "reps = 5\n",
    "n_frames = 20\n",
    "with draw.frame_animate_jupyter(drawing_func, delay=0.05) as anim:\n",
    "    for r in range(reps):\n",
    "        for i in range(n_frames):\n",
    "            # Add each frame to the animation\n",
    "            anim.draw_frame(i, n_frames)\n",
    "\n",
    "    # Optional: save the animation to a video file. This step takes a little while\n",
    "    # anim.save_video(\"falling_ball.mp4\")"
   ]
  },
  {
   "cell_type": "markdown",
   "id": "46a63006-6b2f-4b46-bc68-8ae5bfacccad",
   "metadata": {},
   "source": [
    "Awesome, there is our first animation!! Huzzah.\n",
    "\n",
    "Try playing around with the code. What happens when you set the `delay` to be smaller or larger? If you increase or decrease the number of reps or frames? If you change the render size? If you change the ball's x position instead of y position?\n",
    "\n",
    "Of course, you can make animations arbitrarily more complex. Here's an example that uses the sine function (from the `math` library) to calculate the ball's height instad of just a linear function: "
   ]
  },
  {
   "cell_type": "code",
   "execution_count": null,
   "id": "cc91769f-038a-456d-9106-23acf49ccc51",
   "metadata": {},
   "outputs": [],
   "source": [
    "import math"
   ]
  },
  {
   "cell_type": "code",
   "execution_count": null,
   "id": "61af6a15-3b40-4b51-bf3e-5ecc4288f6a6",
   "metadata": {},
   "outputs": [],
   "source": [
    "# Define the animation function\n",
    "def drawing_func(frame, n_frames):\n",
    "    # Intialize the drawing\n",
    "    d = draw.Drawing(width=200, height=200, origin='center')\n",
    "    \n",
    "    # Draw the background as a white rectangle\n",
    "    d.append(draw.Rectangle(x=-100, y=-100, width=200, height=200, fill=\"white\", stroke=\"black\"))\n",
    "\n",
    "    # Specify the size of the drawing when it's rendered in Jupyter\n",
    "    d.set_render_size(h=300)\n",
    "    \n",
    "    # Calculate the y position of the ball in each frame\n",
    "    y = 50 * math.sin(frame * 2 * math.pi / n_frames)  # Use sine function for smooth bouncing\n",
    "    \n",
    "     # Update the ball's position\n",
    "    ball = draw.Circle(0, y, 10, fill='red')\n",
    "    d.append(ball)\n",
    "    \n",
    "    return d\n",
    "\n",
    "# Display the animation using frame_animate_jupyter()\n",
    "reps = 5\n",
    "n_frames = 20\n",
    "with draw.frame_animate_jupyter(drawing_func, delay=0.05) as anim:\n",
    "    for r in range(reps):\n",
    "        for i in range(n_frames):\n",
    "            # Add each frame to the animation\n",
    "            anim.draw_frame(i, n_frames)\n",
    "\n",
    "    # Optional: save the animation to a video file. This step takes a little while\n",
    "    # anim.save_video(\"falling_ball_sine.mp4\")"
   ]
  },
  {
   "cell_type": "markdown",
   "id": "bf92f960daf116da",
   "metadata": {},
   "source": [
    "# Exercises"
   ]
  },
  {
   "cell_type": "markdown",
   "id": "145c3b43-a956-4fc9-b3ea-f88be61adb48",
   "metadata": {},
   "source": [
    "## Exercise 1\n",
    "Figure out how to draw a triangle using `drawsvg`"
   ]
  },
  {
   "cell_type": "code",
   "execution_count": null,
   "id": "07f99687-9ed5-4a9b-bb19-0ab95f387ce4",
   "metadata": {},
   "outputs": [],
   "source": []
  },
  {
   "cell_type": "markdown",
   "id": "520d6c98-d346-49da-aef2-86c35628e7ff",
   "metadata": {},
   "source": [
    "## Exercise 2\n",
    "*Part 1*\n",
    "\n",
    "Why does the below code throw an error?"
   ]
  },
  {
   "cell_type": "code",
   "execution_count": null,
   "id": "acf9110c-9899-4404-9e86-02cfc53a47f3",
   "metadata": {},
   "outputs": [],
   "source": [
    "# Initialize\n",
    "d = draw.Drawing(width=400, height=200, origin='lower-left')\n",
    "\n",
    "# Draw a circle\n",
    "circle = draw.Circle(200, -100, 30, fill='red')\n",
    "d.append(circle)\n",
    "\n",
    "# Display\n",
    "d"
   ]
  },
  {
   "cell_type": "markdown",
   "id": "67e61103-0c0c-41ff-8d45-a51b0bcc4cb3",
   "metadata": {},
   "source": [
    "*[Add your answer here]*"
   ]
  },
  {
   "cell_type": "markdown",
   "id": "1de64e72-50fd-43a9-bc8a-6ac35624f314",
   "metadata": {},
   "source": [
    "*Part 2*\n",
    "\n",
    "What about this code?"
   ]
  },
  {
   "cell_type": "code",
   "execution_count": null,
   "id": "cfaef934-05e1-4fa6-b9c6-602b317a6348",
   "metadata": {},
   "outputs": [],
   "source": [
    "# Initialize\n",
    "d = draw.Drawing(width=400, height=200, origin='bottom-left')\n",
    "\n",
    "# Draw two circles\n",
    "circle1 = draw.Circle(100, -100, 30, fill='red')\n",
    "circle2 = draw.Circle(300, -100, 30, fill='blue')\n",
    "d.append(circle1).append(circle2)\n",
    "\n",
    "# Display\n",
    "d"
   ]
  },
  {
   "cell_type": "markdown",
   "id": "576bc940-b234-4377-8f33-8452ec6ded45",
   "metadata": {},
   "source": [
    "## Exercise 3 \n",
    "Go to drawsvg documentation page (https://cduck.github.io/drawsvg/) and find a new feature; use it to create a new drawing!"
   ]
  },
  {
   "cell_type": "code",
   "execution_count": null,
   "id": "b64950b8-ab70-4ec4-a694-b3aee0d4d292",
   "metadata": {},
   "outputs": [],
   "source": []
  },
  {
   "cell_type": "markdown",
   "id": "04691711-139b-406a-afe8-78d729db4a18",
   "metadata": {},
   "source": [
    "## Exercise 4\n",
    "Create an animation that makes a circle that grows bigger. Use the below code as a starting point"
   ]
  },
  {
   "cell_type": "code",
   "execution_count": null,
   "id": "8f14d4d1-877a-490f-a8cc-52695bdc7cb2",
   "metadata": {},
   "outputs": [],
   "source": [
    "# Define the animation function\n",
    "def drawing_func(frame, n_frames):\n",
    "    d = draw.Drawing(width=200, height=200, origin='center')\n",
    "    d.append(draw.Rectangle(x=-100, y=-100, width=200, height=200, fill=\"white\", stroke=\"black\"))\n",
    "    d.set_render_size(h=300)\n",
    "    \n",
    "    # YOUR CODE HERE\n",
    "    \n",
    "    return d\n",
    "\n",
    "# Display the animation using frame_animate_jupyter()\n",
    "reps = 5\n",
    "n_frames = 20\n",
    "with draw.frame_animate_jupyter(drawing_func, delay=0.05) as anim:\n",
    "    for r in range(reps):\n",
    "        for i in range(n_frames):\n",
    "            # Add each frame to the animation\n",
    "            anim.draw_frame(i, n_frames)"
   ]
  },
  {
   "cell_type": "code",
   "execution_count": null,
   "id": "1ee1331c-25ad-4d96-bfc0-ab3ce408e86e",
   "metadata": {},
   "outputs": [],
   "source": []
  }
 ],
 "metadata": {
  "kernelspec": {
   "display_name": "Python 3 (ipykernel)",
   "language": "python",
   "name": "python3"
  },
  "language_info": {
   "codemirror_mode": {
    "name": "ipython",
    "version": 3
   },
   "file_extension": ".py",
   "mimetype": "text/x-python",
   "name": "python",
   "nbconvert_exporter": "python",
   "pygments_lexer": "ipython3",
   "version": "3.8.17"
  }
 },
 "nbformat": 4,
 "nbformat_minor": 5
}

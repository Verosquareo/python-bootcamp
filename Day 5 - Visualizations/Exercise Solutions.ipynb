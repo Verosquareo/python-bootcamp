{
 "cells": [
  {
   "cell_type": "markdown",
   "id": "a6651169-609e-4843-a3fb-fa8301af5635",
   "metadata": {},
   "source": [
    "# Exercise Solutions - Day 5\n",
    "*August 5, 2024*\n",
    "\n",
    "*I School Python Bootcamp*\n",
    "\n",
    "*Author: Lauren Chambers*\n",
    "\n",
    "## Lab 5A - Drawing with `drawsvg`"
   ]
  },
  {
   "cell_type": "markdown",
   "id": "145c3b43-a956-4fc9-b3ea-f88be61adb48",
   "metadata": {},
   "source": [
    "### Exercise  1\n",
    "Figure out how to draw a triangle using `drawsvg`"
   ]
  },
  {
   "cell_type": "code",
   "execution_count": 4,
   "id": "8148d90a-ccea-4f10-afb3-38c9bec3cfe2",
   "metadata": {},
   "outputs": [],
   "source": [
    "import drawsvg as draw"
   ]
  },
  {
   "cell_type": "code",
   "execution_count": 6,
   "id": "07f99687-9ed5-4a9b-bb19-0ab95f387ce4",
   "metadata": {},
   "outputs": [
    {
     "data": {
      "image/svg+xml": [
       "<?xml version=\"1.0\" encoding=\"UTF-8\"?>\n",
       "<svg xmlns=\"http://www.w3.org/2000/svg\" xmlns:xlink=\"http://www.w3.org/1999/xlink\"\n",
       "     width=\"200\" height=\"100\" viewBox=\"-100.0 -50.0 200 100\">\n",
       "<defs>\n",
       "</defs>\n",
       "<path d=\"M0,0 L0,50 L50,50 L0,0 Z\" fill=\"purple\" stroke=\"black\" />\n",
       "</svg>"
      ],
      "text/plain": [
       "<drawsvg.drawing.Drawing at 0x7f9b495ff3d0>"
      ]
     },
     "execution_count": 6,
     "metadata": {},
     "output_type": "execute_result"
    }
   ],
   "source": [
    "# Initialize\n",
    "d = draw.Drawing(200, 100, origin='center')\n",
    "\n",
    "# Draw a triangle\n",
    "triangle = draw.Lines(0, 0, # starting X, Y vertex\n",
    "                      0, 50, # move down 50 pixels\n",
    "                      50, 50, # move right 50 pixels\n",
    "                      0,0, # move back to the origin\n",
    "                    close=True,\n",
    "            fill='purple',\n",
    "            stroke='black')\n",
    "d.append(triangle)\n",
    "\n",
    "# Display\n",
    "d"
   ]
  },
  {
   "cell_type": "markdown",
   "id": "520d6c98-d346-49da-aef2-86c35628e7ff",
   "metadata": {},
   "source": [
    "### Exercise  2\n",
    "*Part 1*\n",
    "\n",
    "Why does the below code throw an error?"
   ]
  },
  {
   "cell_type": "code",
   "execution_count": 39,
   "id": "acf9110c-9899-4404-9e86-02cfc53a47f3",
   "metadata": {},
   "outputs": [
    {
     "ename": "KeyError",
     "evalue": "'lower-left'",
     "output_type": "error",
     "traceback": [
      "\u001b[0;31m---------------------------------------------------------------------------\u001b[0m",
      "\u001b[0;31mKeyError\u001b[0m                                  Traceback (most recent call last)",
      "Cell \u001b[0;32mIn[39], line 2\u001b[0m\n\u001b[1;32m      1\u001b[0m \u001b[38;5;66;03m# Initialize\u001b[39;00m\n\u001b[0;32m----> 2\u001b[0m d \u001b[38;5;241m=\u001b[39m \u001b[43mdraw\u001b[49m\u001b[38;5;241;43m.\u001b[39;49m\u001b[43mDrawing\u001b[49m\u001b[43m(\u001b[49m\u001b[43mwidth\u001b[49m\u001b[38;5;241;43m=\u001b[39;49m\u001b[38;5;241;43m400\u001b[39;49m\u001b[43m,\u001b[49m\u001b[43m \u001b[49m\u001b[43mheight\u001b[49m\u001b[38;5;241;43m=\u001b[39;49m\u001b[38;5;241;43m200\u001b[39;49m\u001b[43m,\u001b[49m\u001b[43m \u001b[49m\u001b[43morigin\u001b[49m\u001b[38;5;241;43m=\u001b[39;49m\u001b[38;5;124;43m'\u001b[39;49m\u001b[38;5;124;43mlower-left\u001b[39;49m\u001b[38;5;124;43m'\u001b[39;49m\u001b[43m)\u001b[49m\n\u001b[1;32m      4\u001b[0m \u001b[38;5;66;03m# Draw a circle\u001b[39;00m\n\u001b[1;32m      5\u001b[0m circle \u001b[38;5;241m=\u001b[39m draw\u001b[38;5;241m.\u001b[39mCircle(\u001b[38;5;241m200\u001b[39m, \u001b[38;5;241m-\u001b[39m\u001b[38;5;241m100\u001b[39m, \u001b[38;5;241m30\u001b[39m, fill\u001b[38;5;241m=\u001b[39m\u001b[38;5;124m'\u001b[39m\u001b[38;5;124mred\u001b[39m\u001b[38;5;124m'\u001b[39m)\n",
      "File \u001b[0;32m~/miniconda3/envs/bootcamp2/lib/python3.8/site-packages/drawsvg/drawing.py:47\u001b[0m, in \u001b[0;36mDrawing.__init__\u001b[0;34m(self, width, height, origin, context, animation_config, id_prefix, **svg_args)\u001b[0m\n\u001b[1;32m     45\u001b[0m     \u001b[38;5;28;01melif\u001b[39;00m context\u001b[38;5;241m.\u001b[39minvert_y \u001b[38;5;129;01mand\u001b[39;00m origin\u001b[38;5;241m.\u001b[39mstartswith(\u001b[38;5;124m'\u001b[39m\u001b[38;5;124mtop-\u001b[39m\u001b[38;5;124m'\u001b[39m):\n\u001b[1;32m     46\u001b[0m         origin \u001b[38;5;241m=\u001b[39m origin\u001b[38;5;241m.\u001b[39mreplace(\u001b[38;5;124m'\u001b[39m\u001b[38;5;124mtop-\u001b[39m\u001b[38;5;124m'\u001b[39m, \u001b[38;5;124m'\u001b[39m\u001b[38;5;124mbottom-\u001b[39m\u001b[38;5;124m'\u001b[39m)\n\u001b[0;32m---> 47\u001b[0m     \u001b[38;5;28mself\u001b[39m\u001b[38;5;241m.\u001b[39mview_box \u001b[38;5;241m=\u001b[39m \u001b[43m{\u001b[49m\n\u001b[1;32m     48\u001b[0m \u001b[43m        \u001b[49m\u001b[38;5;124;43m'\u001b[39;49m\u001b[38;5;124;43mcenter\u001b[39;49m\u001b[38;5;124;43m'\u001b[39;49m\u001b[43m:\u001b[49m\u001b[43m \u001b[49m\u001b[43m(\u001b[49m\u001b[38;5;241;43m-\u001b[39;49m\u001b[43mwidth\u001b[49m\u001b[38;5;241;43m/\u001b[39;49m\u001b[38;5;241;43m2\u001b[39;49m\u001b[43m,\u001b[49m\u001b[43m \u001b[49m\u001b[38;5;241;43m-\u001b[39;49m\u001b[43mheight\u001b[49m\u001b[38;5;241;43m/\u001b[39;49m\u001b[38;5;241;43m2\u001b[39;49m\u001b[43m,\u001b[49m\u001b[43m \u001b[49m\u001b[43mwidth\u001b[49m\u001b[43m,\u001b[49m\u001b[43m \u001b[49m\u001b[43mheight\u001b[49m\u001b[43m)\u001b[49m\u001b[43m,\u001b[49m\n\u001b[1;32m     49\u001b[0m \u001b[43m        \u001b[49m\u001b[38;5;124;43m'\u001b[39;49m\u001b[38;5;124;43mtop-left\u001b[39;49m\u001b[38;5;124;43m'\u001b[39;49m\u001b[43m:\u001b[49m\u001b[43m \u001b[49m\u001b[43m(\u001b[49m\u001b[38;5;241;43m0\u001b[39;49m\u001b[43m,\u001b[49m\u001b[43m \u001b[49m\u001b[38;5;241;43m0\u001b[39;49m\u001b[43m,\u001b[49m\u001b[43m \u001b[49m\u001b[43mwidth\u001b[49m\u001b[43m,\u001b[49m\u001b[43m \u001b[49m\u001b[43mheight\u001b[49m\u001b[43m)\u001b[49m\u001b[43m,\u001b[49m\n\u001b[1;32m     50\u001b[0m \u001b[43m        \u001b[49m\u001b[38;5;124;43m'\u001b[39;49m\u001b[38;5;124;43mtop-right\u001b[39;49m\u001b[38;5;124;43m'\u001b[39;49m\u001b[43m:\u001b[49m\u001b[43m \u001b[49m\u001b[43m(\u001b[49m\u001b[38;5;241;43m-\u001b[39;49m\u001b[43mwidth\u001b[49m\u001b[43m,\u001b[49m\u001b[43m \u001b[49m\u001b[38;5;241;43m0\u001b[39;49m\u001b[43m,\u001b[49m\u001b[43m \u001b[49m\u001b[43mwidth\u001b[49m\u001b[43m,\u001b[49m\u001b[43m \u001b[49m\u001b[43mheight\u001b[49m\u001b[43m)\u001b[49m\u001b[43m,\u001b[49m\n\u001b[1;32m     51\u001b[0m \u001b[43m        \u001b[49m\u001b[38;5;124;43m'\u001b[39;49m\u001b[38;5;124;43mbottom-left\u001b[39;49m\u001b[38;5;124;43m'\u001b[39;49m\u001b[43m:\u001b[49m\u001b[43m \u001b[49m\u001b[43m(\u001b[49m\u001b[38;5;241;43m0\u001b[39;49m\u001b[43m,\u001b[49m\u001b[43m \u001b[49m\u001b[38;5;241;43m-\u001b[39;49m\u001b[43mheight\u001b[49m\u001b[43m,\u001b[49m\u001b[43m \u001b[49m\u001b[43mwidth\u001b[49m\u001b[43m,\u001b[49m\u001b[43m \u001b[49m\u001b[43mheight\u001b[49m\u001b[43m)\u001b[49m\u001b[43m,\u001b[49m\n\u001b[1;32m     52\u001b[0m \u001b[43m        \u001b[49m\u001b[38;5;124;43m'\u001b[39;49m\u001b[38;5;124;43mbottom-right\u001b[39;49m\u001b[38;5;124;43m'\u001b[39;49m\u001b[43m:\u001b[49m\u001b[43m \u001b[49m\u001b[43m(\u001b[49m\u001b[38;5;241;43m-\u001b[39;49m\u001b[43mwidth\u001b[49m\u001b[43m,\u001b[49m\u001b[43m \u001b[49m\u001b[38;5;241;43m-\u001b[39;49m\u001b[43mheight\u001b[49m\u001b[43m,\u001b[49m\u001b[43m \u001b[49m\u001b[43mwidth\u001b[49m\u001b[43m,\u001b[49m\u001b[43m \u001b[49m\u001b[43mheight\u001b[49m\u001b[43m)\u001b[49m\u001b[43m,\u001b[49m\n\u001b[1;32m     53\u001b[0m \u001b[43m    \u001b[49m\u001b[43m}\u001b[49m\u001b[43m[\u001b[49m\u001b[43morigin\u001b[49m\u001b[43m]\u001b[49m\n\u001b[1;32m     54\u001b[0m \u001b[38;5;28;01melse\u001b[39;00m:\n\u001b[1;32m     55\u001b[0m     origin \u001b[38;5;241m=\u001b[39m \u001b[38;5;28mtuple\u001b[39m(origin)\n",
      "\u001b[0;31mKeyError\u001b[0m: 'lower-left'"
     ]
    }
   ],
   "source": [
    "# Initialize\n",
    "d = draw.Drawing(width=400, height=200, origin='lower-left')\n",
    "\n",
    "# Draw a circle\n",
    "circle = draw.Circle(200, -100, 30, fill='red')\n",
    "d.append(circle)\n",
    "\n",
    "# Display\n",
    "d"
   ]
  },
  {
   "cell_type": "markdown",
   "id": "67e61103-0c0c-41ff-8d45-a51b0bcc4cb3",
   "metadata": {},
   "source": [
    "*Answer:* As shown in the traceback, the problem is in line 2 where we are initializing the drawing. By looking to the error message (`KeyError: 'lower-left'`) and reading through the package code for the definiion of the `Drawing()` function, we can see that the function expects certain strings to place the origin, but 'lower-left' is not one of them. Replacing 'lower-left' with 'bottom-left' would resolve this error."
   ]
  },
  {
   "cell_type": "markdown",
   "id": "1de64e72-50fd-43a9-bc8a-6ac35624f314",
   "metadata": {},
   "source": [
    "*Part 2*\n",
    "\n",
    "What about this code?"
   ]
  },
  {
   "cell_type": "code",
   "execution_count": 17,
   "id": "cfaef934-05e1-4fa6-b9c6-602b317a6348",
   "metadata": {},
   "outputs": [
    {
     "ename": "AttributeError",
     "evalue": "'NoneType' object has no attribute 'append'",
     "output_type": "error",
     "traceback": [
      "\u001b[0;31m---------------------------------------------------------------------------\u001b[0m",
      "\u001b[0;31mAttributeError\u001b[0m                            Traceback (most recent call last)",
      "Cell \u001b[0;32mIn[17], line 7\u001b[0m\n\u001b[1;32m      5\u001b[0m circle1 \u001b[38;5;241m=\u001b[39m draw\u001b[38;5;241m.\u001b[39mCircle(\u001b[38;5;241m100\u001b[39m, \u001b[38;5;241m-\u001b[39m\u001b[38;5;241m100\u001b[39m, \u001b[38;5;241m30\u001b[39m, fill\u001b[38;5;241m=\u001b[39m\u001b[38;5;124m'\u001b[39m\u001b[38;5;124mred\u001b[39m\u001b[38;5;124m'\u001b[39m)\n\u001b[1;32m      6\u001b[0m circle2 \u001b[38;5;241m=\u001b[39m draw\u001b[38;5;241m.\u001b[39mCircle(\u001b[38;5;241m300\u001b[39m, \u001b[38;5;241m-\u001b[39m\u001b[38;5;241m100\u001b[39m, \u001b[38;5;241m30\u001b[39m, fill\u001b[38;5;241m=\u001b[39m\u001b[38;5;124m'\u001b[39m\u001b[38;5;124mblue\u001b[39m\u001b[38;5;124m'\u001b[39m)\n\u001b[0;32m----> 7\u001b[0m \u001b[43md\u001b[49m\u001b[38;5;241;43m.\u001b[39;49m\u001b[43mappend\u001b[49m\u001b[43m(\u001b[49m\u001b[43mcircle1\u001b[49m\u001b[43m)\u001b[49m\u001b[38;5;241;43m.\u001b[39;49m\u001b[43mappend\u001b[49m(circle2)\n\u001b[1;32m      9\u001b[0m \u001b[38;5;66;03m# Display\u001b[39;00m\n\u001b[1;32m     10\u001b[0m d\n",
      "\u001b[0;31mAttributeError\u001b[0m: 'NoneType' object has no attribute 'append'"
     ]
    }
   ],
   "source": [
    "# Initialize\n",
    "d = draw.Drawing(width=400, height=200, origin='bottom-left')\n",
    "\n",
    "# Draw two circles\n",
    "circle1 = draw.Circle(100, -100, 30, fill='red')\n",
    "circle2 = draw.Circle(300, -100, 30, fill='blue')\n",
    "d.append(circle1).append(circle2)\n",
    "\n",
    "# Display\n",
    "d"
   ]
  },
  {
   "cell_type": "markdown",
   "id": "cc4244aa-83ae-4a8c-a480-bbf9e7d89732",
   "metadata": {},
   "source": [
    "*Answer:* As shown in the traceback, the problem is in line 7 where we are adding our circles the drawing. By looking to the error message we see that one of the `append()` functions is causing problems. Indeed, you cannot chain `append()` like this! Splitting up the chain and appending each circle individual resolves this error:\n",
    "```python\n",
    "d.append(circle1)\n",
    "d.append(circle2)\n",
    "```"
   ]
  },
  {
   "cell_type": "markdown",
   "id": "576bc940-b234-4377-8f33-8452ec6ded45",
   "metadata": {},
   "source": [
    "### Exercise  3 \n",
    "Go to drawsvg documentation page (https://cduck.github.io/drawsvg/) and find a new feature; use it to create a new drawing!"
   ]
  },
  {
   "cell_type": "code",
   "execution_count": 22,
   "id": "b64950b8-ab70-4ec4-a694-b3aee0d4d292",
   "metadata": {},
   "outputs": [
    {
     "data": {
      "image/svg+xml": [
       "<?xml version=\"1.0\" encoding=\"UTF-8\"?>\n",
       "<svg xmlns=\"http://www.w3.org/2000/svg\" xmlns:xlink=\"http://www.w3.org/1999/xlink\"\n",
       "     width=\"400\" height=\"400\" viewBox=\"-200.0 -200.0 400 400\">\n",
       "<defs>\n",
       "</defs>\n",
       "<circle cx=\"0\" cy=\"-50\" r=\"100\" fill=\"yellow\" stroke-width=\"2\" stroke=\"black\" />\n",
       "<circle cx=\"-40\" cy=\"-80\" r=\"10\" fill=\"black\" stroke-width=\"2\" stroke=\"black\" />\n",
       "<circle cx=\"40\" cy=\"-80\" r=\"10\" fill=\"black\" stroke-width=\"2\" stroke=\"black\" />\n",
       "<circle cx=\"0\" cy=\"-60\" r=\"60\" stroke-dasharray=\"125.66370614359171 251.32741228718345\" stroke-dashoffset=\"-31.415926535897928\" stroke=\"black\" stroke-width=\"5\" fill=\"none\" fill-opacity=\"0.2\" />\n",
       "<text x=\"0\" y=\"80\" font-size=\"20\" text-anchor=\"middle\">don't worry, be happy!</text>\n",
       "</svg>"
      ],
      "text/plain": [
       "<drawsvg.drawing.Drawing at 0x7f9b49616a00>"
      ]
     },
     "execution_count": 22,
     "metadata": {},
     "output_type": "execute_result"
    }
   ],
   "source": [
    "# Initialize\n",
    "d = draw.Drawing(400, 400, origin='center')\n",
    "\n",
    "# Make the face\n",
    "circle = draw.Circle(0, -50, 100, fill='yellow', stroke_width=2, stroke='black')\n",
    "d.append(circle)\n",
    "\n",
    "# Add the eyes\n",
    "left_eye = draw.Circle(cx=-40, cy=-80, r=10, fill='black', stroke_width=2, stroke='black')\n",
    "right_eye = draw.Circle(cx=40, cy=-80, r=10, fill='black', stroke_width=2, stroke='black')\n",
    "d.append(left_eye)\n",
    "d.append(right_eye)\n",
    "\n",
    "# Add the smile!\n",
    "smile = draw.ArcLine(cx=0, cy=-60, r=60, start_deg=210, end_deg=330,\n",
    "        stroke='black', stroke_width=5, fill='none', fill_opacity=0.2)\n",
    "d.append(smile)\n",
    "\n",
    "# Add a message!\n",
    "msg = draw.Text(\"don't worry, be happy!\", font_size=20, x=0, y=80, text_anchor='middle')\n",
    "d.append(msg)\n",
    "\n",
    "# Display\n",
    "d"
   ]
  },
  {
   "cell_type": "markdown",
   "id": "04691711-139b-406a-afe8-78d729db4a18",
   "metadata": {},
   "source": [
    "### Exercise  4\n",
    "Create an animation that makes a circle that grows bigger. Use the below code as a starting point"
   ]
  },
  {
   "cell_type": "code",
   "execution_count": 24,
   "id": "8f14d4d1-877a-490f-a8cc-52695bdc7cb2",
   "metadata": {},
   "outputs": [
    {
     "data": {
      "image/svg+xml": [
       "<?xml version=\"1.0\" encoding=\"UTF-8\"?>\n",
       "<svg xmlns=\"http://www.w3.org/2000/svg\" xmlns:xlink=\"http://www.w3.org/1999/xlink\"\n",
       "     width=\"300.0\" height=\"300\" viewBox=\"-100.0 -100.0 200 200\">\n",
       "<defs>\n",
       "</defs>\n",
       "<rect x=\"-100\" y=\"-100\" width=\"200\" height=\"200\" fill=\"white\" stroke=\"black\" />\n",
       "<circle cx=\"0\" cy=\"0\" r=\"86.0\" fill=\"red\" />\n",
       "</svg>"
      ],
      "text/plain": [
       "<drawsvg.drawing.Drawing at 0x7f9af80260a0>"
      ]
     },
     "metadata": {},
     "output_type": "display_data"
    }
   ],
   "source": [
    "# Define the animation function\n",
    "def drawing_func(frame, n_frames):\n",
    "    d = draw.Drawing(width=200, height=200, origin='center')\n",
    "    d.append(draw.Rectangle(x=-100, y=-100, width=200, height=200, fill=\"white\", stroke=\"black\"))\n",
    "    d.set_render_size(h=300)\n",
    "    \n",
    "    # Calculate the RADIUS of the ball in each frame\n",
    "    r = frame / n_frames * 80 + 10 \n",
    "    ball = draw.Circle(0, 0, r, fill='red')\n",
    "    d.append(ball)\n",
    "    \n",
    "    return d\n",
    "\n",
    "# Display the animation using frame_animate_jupyter()\n",
    "reps = 5\n",
    "n_frames = 20\n",
    "with draw.frame_animate_jupyter(drawing_func, delay=0.05) as anim:\n",
    "    for r in range(reps):\n",
    "        for i in range(n_frames):\n",
    "            # Add each frame to the animation\n",
    "            anim.draw_frame(i, n_frames)"
   ]
  },
  {
   "cell_type": "markdown",
   "id": "bf92f960daf116da",
   "metadata": {},
   "source": [
    "## Lab 5B - Plotting with `matplotlib`"
   ]
  },
  {
   "cell_type": "code",
   "execution_count": 30,
   "id": "6dbcad01-8015-47eb-9131-b30f2b1ccca1",
   "metadata": {},
   "outputs": [],
   "source": [
    "import matplotlib.pyplot as plt"
   ]
  },
  {
   "cell_type": "markdown",
   "id": "d52f87d3-289a-48b0-b8f1-2089f3e71104",
   "metadata": {},
   "source": [
    "### Exercise  1\n",
    "\n",
    "Create a simple line plot from scratch. Plot the following data points:\n",
    "\n",
    "```python\n",
    "x = [0, 1, 2, 3, 4, 5]\n",
    "y = [0, 1, 4, 9, 16, 25]\n",
    "```\n",
    "\n",
    "Add labels for the x-axis and y-axis, and add a title to the plot."
   ]
  },
  {
   "cell_type": "code",
   "execution_count": 32,
   "id": "785d1817-d0ba-4680-b811-1e42e95bcafd",
   "metadata": {},
   "outputs": [
    {
     "data": {
      "image/png": "[encoded data removed]",
      "text/plain": [
       "<Figure size 640x480 with 1 Axes>"
      ]
     },
     "metadata": {},
     "output_type": "display_data"
    }
   ],
   "source": [
    "# Initialize\n",
    "plt.figure()\n",
    "\n",
    "x = [0, 1, 2, 3, 4, 5]\n",
    "y = [0, 1, 4, 9, 16, 25]\n",
    "\n",
    "# Draw plot and axis labels\n",
    "plt.plot(x, y)\n",
    "plt.ylabel(\"Y values\")\n",
    "plt.xlabel(\"X values\")\n",
    "plt.title(r\"y = x$^2$\")\n",
    "\n",
    "# Display\n",
    "plt.show()"
   ]
  },
  {
   "cell_type": "markdown",
   "id": "1ebd367f-24f7-4d76-8715-b03684df449c",
   "metadata": {},
   "source": [
    "### Exercise  2\n",
    "\n",
    "Create a bar plot from scratch. Plot the following data points:\n",
    "\n",
    "```python\n",
    "categories = ['A', 'B', 'C', 'D', 'E']\n",
    "values = [5, 7, 3, 8, 4]\n",
    "```\n",
    "\n",
    "Add labels for the x-axis and y-axis, and add a title to the plot."
   ]
  },
  {
   "cell_type": "code",
   "execution_count": 34,
   "id": "fcceb3c8-736b-459a-a2b9-1d473edad7d4",
   "metadata": {},
   "outputs": [
    {
     "data": {
      "image/png": "[encoded data removed]",
      "text/plain": [
       "<Figure size 640x480 with 1 Axes>"
      ]
     },
     "metadata": {},
     "output_type": "display_data"
    }
   ],
   "source": [
    "# Initialize\n",
    "plt.figure()\n",
    "\n",
    "categories = ['A', 'B', 'C', 'D', 'E']\n",
    "values = [5, 7, 3, 8, 4]\n",
    "\n",
    "# Draw plot and axis labels\n",
    "width = 0.4  # the width of the bars\n",
    "plt.bar(categories, values, width=width)\n",
    "plt.xlabel(\"Letters\")\n",
    "plt.ylabel(\"Values\")\n",
    "plt.title(\"A simple bar chart\")\n",
    "\n",
    "# Display\n",
    "plt.show()"
   ]
  },
  {
   "cell_type": "markdown",
   "id": "08edad4a-5045-4a36-9f38-c01ac0c0b880",
   "metadata": {},
   "source": [
    "### Exercise 3\n",
    "\n",
    "Re-create your bar plot from Exercise 2, but change the color of the bars, and change the font style for the titles and axis labels.\n",
    "\n",
    "Hint: try setting `fontfamily = \"serif\"`"
   ]
  },
  {
   "cell_type": "code",
   "execution_count": 36,
   "id": "77d2d5df-3cca-4990-b11f-1bd2e08bcfe9",
   "metadata": {},
   "outputs": [
    {
     "data": {
      "image/png": "[encoded data removed]",
      "text/plain": [
       "<Figure size 640x480 with 1 Axes>"
      ]
     },
     "metadata": {},
     "output_type": "display_data"
    }
   ],
   "source": [
    "# Initialize\n",
    "plt.figure()\n",
    "\n",
    "categories = ['A', 'B', 'C', 'D', 'E']\n",
    "values = [5, 7, 3, 8, 4]\n",
    "\n",
    "# Draw plot and axis labels\n",
    "width = 0.7  # the width of the bars\n",
    "plt.bar(categories, values, width=width, color=\"chartreuse\")\n",
    "plt.xlabel(\"Letters\", fontfamily=\"serif\")\n",
    "plt.ylabel(\"Values\", fontfamily=\"serif\")\n",
    "plt.title(\"A simple bar chart\", fontfamily=\"serif\", fontstyle=\"italic\")\n",
    "\n",
    "# Display\n",
    "plt.show()"
   ]
  },
  {
   "cell_type": "markdown",
   "id": "1ec7ec77-38c5-43de-9ac9-1304f8b807ea",
   "metadata": {},
   "source": [
    "### Exercise 4 \n",
    "\n",
    "Create a figure with 2 vertical subplots. The top subplot should be your plot from Exercise 1, and the bottom subplot should be your plot from Exercise 3."
   ]
  },
  {
   "cell_type": "code",
   "execution_count": 38,
   "id": "d1dfa667-869d-4381-b686-cbac3fe209b8",
   "metadata": {},
   "outputs": [
    {
     "data": {
      "image/png": "[encoded data removed]",
      "text/plain": [
       "<Figure size 640x480 with 2 Axes>"
      ]
     },
     "metadata": {},
     "output_type": "display_data"
    }
   ],
   "source": [
    "fig, (ax1, ax2) = plt.subplots(2, 1)\n",
    "\n",
    "x = [0, 1, 2, 3, 4, 5]\n",
    "y = [0, 1, 4, 9, 16, 25]\n",
    "\n",
    "# Draw plot and axis labels\n",
    "ax1.plot(x, y)\n",
    "ax1.set_ylabel(\"Y values\")\n",
    "ax1.set_xlabel(\"X values\")\n",
    "ax1.set_title(r\"y = x$^2$\")\n",
    "\n",
    "categories = ['A', 'B', 'C', 'D', 'E']\n",
    "values = [5, 7, 3, 8, 4]\n",
    "\n",
    "# Draw plot and axis labels\n",
    "width = 0.7  # the width of the bars\n",
    "ax2.bar(categories, values, width=width, color=\"chartreuse\")\n",
    "ax2.set_xlabel(\"Letters\", fontfamily=\"serif\")\n",
    "ax2.set_ylabel(\"Values\", fontfamily=\"serif\")\n",
    "ax2.set_title(\"A simple bar chart\", fontfamily=\"serif\", fontstyle=\"italic\")\n",
    "\n",
    "plt.tight_layout() # Magical function!\n",
    "\n",
    "# Display\n",
    "plt.show()"
   ]
  },
  {
   "cell_type": "code",
   "execution_count": null,
   "id": "396721d3-0e09-4fff-b0bf-d94879191938",
   "metadata": {},
   "outputs": [],
   "source": []
  }
 ],
 "metadata": {
  "kernelspec": {
   "display_name": "Python 3 (ipykernel)",
   "language": "python",
   "name": "python3"
  },
  "language_info": {
   "codemirror_mode": {
    "name": "ipython",
    "version": 3
   },
   "file_extension": ".py",
   "mimetype": "text/x-python",
   "name": "python",
   "nbconvert_exporter": "python",
   "pygments_lexer": "ipython3",
   "version": "3.8.17"
  }
 },
 "nbformat": 4,
 "nbformat_minor": 5
}

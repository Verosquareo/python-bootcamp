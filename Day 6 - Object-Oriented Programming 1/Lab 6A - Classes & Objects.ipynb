{
 "cells": [
  {
   "cell_type": "markdown",
   "id": "a62c51e3",
   "metadata": {},
   "source": [
    "# Lab 6A - Intro to Classes and Objects\n",
    "*Day 6 - August 6, 2024*\n",
    "\n",
    "*I School Python Bootcamp*\n",
    "\n",
    "*Author: Lauren Chambers<br>Modified from notebook by George McIntire*\n",
    "\n",
    "\n",
    "Python is an object-oriented programming langauge, in which *classes* are the way to make Python *objects.* You can consider a class like the \"blueprint\" for your objects."
   ]
  },
  {
   "cell_type": "markdown",
   "id": "55414ebe",
   "metadata": {},
   "source": [
    "## Classes v. Objects \n",
    "\n",
    "A ***class** is the template (or \"blueprint\") for objects. An object belongs to a class, and the class defines the object properties. <br>\n",
    "\n",
    "Take a car, for example. All cars have some things in common, but different cars can still have different properties. What make or model of car? What year? What color? What size? We can think about the concept of a \"car\" in general term like a class, while the specific car (e.g., a red BMW) is an *object* and an *instance* of the class `car`. \n",
    "* A red BMW is an instance of the class `car`\n",
    "* A blue BMW is an instance of the class `car`\n",
    "* A white Tesla is an instance of the class `car`\n",
    "* A black Toyota is an instance of the class `car`"
   ]
  },
  {
   "cell_type": "markdown",
   "id": "58208c4c",
   "metadata": {},
   "source": [
    "<img src=\"https://phpenthusiast.com/theme/assets/images/articles/classes_and_objects.jpg\" alt=\"class example\" width=\"400\"/>"
   ]
  },
  {
   "cell_type": "markdown",
   "id": "75009713",
   "metadata": {},
   "source": [
    "## Coding a class\n",
    "Before we create our class, there are a couple of things we should note about Python classes: \n",
    "* A python class must begin with the keyword `class` followed by the class name\n",
    "* A constructor is used to initialize an object, using the `__init__()` method.\n",
    "* *Attributes* are variables that belong to a class \n",
    "    * e.g., we can say that every car should have an attribute \"brand\" and color\" \n",
    "* We can use the class to create new objects \n",
    "    * e.g., we can call the `car` class to create a new instance of a car \n",
    "    * attributes are public and can be accessed through the dot operator (e.g., `car.brand`)\n",
    "    \n",
    "Alright then! Let's create our car class. We will make a class called \"car\" that has the attributes \"color\" and \"brand\". "
   ]
  },
  {
   "cell_type": "code",
   "execution_count": null,
   "id": "27a45678",
   "metadata": {},
   "outputs": [],
   "source": [
    "class car:\n",
    "    \n",
    "    # initialization constructor\n",
    "    def __init__(self, color, brand):\n",
    "        # attributes\n",
    "        self.color = color \n",
    "        self.brand = brand \n",
    "\n",
    "#create new car object\n",
    "new_car = car(\"red\", \"BMW\")\n",
    "new_car"
   ]
  },
  {
   "cell_type": "markdown",
   "id": "c21b2ae7",
   "metadata": {},
   "source": [
    "Now, we can create multiple instances of the car class! Each example below is a new car object. "
   ]
  },
  {
   "cell_type": "code",
   "execution_count": null,
   "id": "40fb6cd4",
   "metadata": {},
   "outputs": [],
   "source": [
    "white_car = car(\"white\", \"Tesla\")\n",
    "print(\"My\", white_car.brand, \"is\", white_car.color)\n",
    "\n",
    "blue_car = car(\"blue\", \"Volvo\")\n",
    "print(\"My\", blue_car.brand, \"is\", blue_car.color)\n",
    "\n",
    "brown_car = car(\"brown\", \"Toyota\")\n",
    "print(\"My\", brown_car.brand, \"is\", brown_car.color)\n",
    "\n",
    "black_car = car(\"black\", \"Toyota\")\n",
    "print(\"My\", black_car.brand, \"is\", black_car.color)"
   ]
  },
  {
   "cell_type": "markdown",
   "id": "92716f9a",
   "metadata": {},
   "source": [
    "# Exercises"
   ]
  },
  {
   "cell_type": "markdown",
   "id": "28f3cf17",
   "metadata": {},
   "source": [
    "## Exercise 1 \n",
    "*Create a Pizza class*\n",
    "\n",
    "Create a class with the following instructions: \n",
    "* Name your class \"Pizza\"\n",
    "* Your class should have the following attributes in the constructor: \n",
    "    * `cheese`\n",
    "    * `topping`\n",
    "* Create Pizza object with cheddar cheese and mushroom toppings\n",
    "* Create a few more Pizza objects of your choice! \n",
    "* Create print statement that outputs the following: \n",
    "    * \"you ordered a {cheese} pizza with {topping}\""
   ]
  },
  {
   "cell_type": "code",
   "execution_count": null,
   "id": "d161a53c",
   "metadata": {},
   "outputs": [],
   "source": [
    "class Pizza: \n",
    "    # your code here "
   ]
  },
  {
   "cell_type": "markdown",
   "id": "8eacf122",
   "metadata": {},
   "source": [
    "## Exercise 2 \n",
    "*Create an apartment class*\n",
    "\n",
    "Create a class with the following instructions: \n",
    "* Name your class \"Apartment\"\n",
    "* Your class should have the following attributes in the constructor: \n",
    "    * `size` in square feet\n",
    "    * `city` \n",
    "* Create print statement that outputs the following:  \n",
    "    * \"I live in a {size} sq ft apartment in {city}\""
   ]
  },
  {
   "cell_type": "code",
   "execution_count": null,
   "id": "014763a1",
   "metadata": {},
   "outputs": [],
   "source": [
    "#your code here "
   ]
  },
  {
   "cell_type": "code",
   "execution_count": null,
   "id": "b4932a95",
   "metadata": {},
   "outputs": [],
   "source": []
  }
 ],
 "metadata": {
  "kernelspec": {
   "display_name": "Python 3 (ipykernel)",
   "language": "python",
   "name": "python3"
  },
  "language_info": {
   "codemirror_mode": {
    "name": "ipython",
    "version": 3
   },
   "file_extension": ".py",
   "mimetype": "text/x-python",
   "name": "python",
   "nbconvert_exporter": "python",
   "pygments_lexer": "ipython3",
   "version": "3.8.17"
  }
 },
 "nbformat": 4,
 "nbformat_minor": 5
}

{
 "cells": [
  {
   "cell_type": "markdown",
   "id": "a62c51e3",
   "metadata": {},
   "source": [
    "# Lab 6B - Attributes and Methods\n",
    "*Day 6 - August 6, 2024*\n",
    "\n",
    "*I School Python Bootcamp*\n",
    "\n",
    "*Author: Lauren Chambers<br>Modified from notebook by George McIntire*"
   ]
  },
  {
   "cell_type": "markdown",
   "id": "75009713",
   "metadata": {},
   "source": [
    "A class is a new, custom data type. (Kind of.) It is a new namespace that encompasses data and functions. Classes can have:\n",
    "* A constructor (`__init__.py`) - a function that creates a new object instance of the class\n",
    "* Methods (attached functions)\n",
    "* Attributes (attached variables)\n",
    "\n",
    "In our last lab, we create a car class. We already defined some attributes: \"brand\" and color.\"\n",
    "\n",
    "Let's also add some methods now!\n",
    "* Let's add a method to describe what kind of car it is.\n",
    "* Let's also add a car to change the color.\n"
   ]
  },
  {
   "cell_type": "code",
   "execution_count": null,
   "id": "27a45678",
   "metadata": {
    "jupyter": {
     "is_executing": true
    }
   },
   "outputs": [],
   "source": [
    "class car:\n",
    "    # class attribute \n",
    "    n_wheels = 4\n",
    "    \n",
    "    # initialization constructor\n",
    "    def __init__(self, color, brand):\n",
    "        # instance attributes\n",
    "        self.color = color \n",
    "        self.brand = brand \n",
    "        \n",
    "    # description method\n",
    "    def describe(self):\n",
    "        print(\"This car is a {} {}.\".format(self.color, self.brand))\n",
    "        \n",
    "    # Color change method\n",
    "    def paint(self, new_color):\n",
    "        self.color = new_color"
   ]
  },
  {
   "cell_type": "code",
   "execution_count": null,
   "id": "3f5425d70d3c1cf6",
   "metadata": {},
   "outputs": [],
   "source": [
    "#create new car object\n",
    "new_car = car(\"red\", \"BMW\")\n",
    "new_car"
   ]
  },
  {
   "cell_type": "code",
   "execution_count": null,
   "id": "e1bfdf197da2be30",
   "metadata": {},
   "outputs": [],
   "source": [
    "new_car.describe()"
   ]
  },
  {
   "cell_type": "markdown",
   "id": "1a8dea57-000e-466a-8a92-f284c76b76c2",
   "metadata": {},
   "source": [
    "By executing the `paint()` method, we can update the state of the `color` attribute."
   ]
  },
  {
   "cell_type": "code",
   "execution_count": null,
   "id": "155ba271da2edd6a",
   "metadata": {},
   "outputs": [],
   "source": [
    "red_car = car(\"red\", \"Honda\")\n",
    "red_car.describe()\n",
    "red_car.paint(\"green\")\n",
    "red_car.describe()"
   ]
  },
  {
   "cell_type": "markdown",
   "id": "0970629a-f7d9-4e4d-9f69-b0da80102469",
   "metadata": {},
   "source": [
    "We can also dynamically add attributes to an object after we define it:"
   ]
  },
  {
   "cell_type": "code",
   "execution_count": null,
   "id": "4f22c257-44fa-40d0-986c-fa1eec57fa22",
   "metadata": {},
   "outputs": [],
   "source": [
    "red_car.old_color = \"red\"\n",
    "print(\"My car used to be\", red_car.old_color, \"but now it is\", red_car.color)"
   ]
  },
  {
   "cell_type": "markdown",
   "id": "c21b2ae7",
   "metadata": {},
   "source": [
    "Again, we can create multiple instances of the car class! Each example below is a new car object. "
   ]
  },
  {
   "cell_type": "code",
   "execution_count": null,
   "id": "40fb6cd4",
   "metadata": {},
   "outputs": [],
   "source": [
    "white_car = car(\"white\", \"Tesla\")\n",
    "white_car.describe()\n",
    "\n",
    "blue_car = car(\"blue\", \"Volvo\")\n",
    "blue_car.describe()"
   ]
  },
  {
   "cell_type": "markdown",
   "id": "2c9cb039b5123511",
   "metadata": {},
   "source": [
    "Recall that class attributes, which are declared outside of any constructors or methods, are accessible from all instances of a class (all objects):"
   ]
  },
  {
   "cell_type": "code",
   "execution_count": null,
   "id": "d8d5d1e39fa34ae5",
   "metadata": {},
   "outputs": [],
   "source": [
    "print(blue_car.n_wheels)\n",
    "print(white_car.n_wheels)"
   ]
  },
  {
   "cell_type": "markdown",
   "id": "1f578435-fdf6-4f79-8e53-76d376b6ac03",
   "metadata": {},
   "source": [
    "And, if you update a class attribute via its object, the class attribute does not change."
   ]
  },
  {
   "cell_type": "code",
   "execution_count": null,
   "id": "7e20df4f-6e60-4e1d-a643-f8927d9b69fc",
   "metadata": {},
   "outputs": [],
   "source": [
    "blue_car.n_wheels = 3 # whoops! lost a wheel\n",
    "\n",
    "print(\"The {} {} has {} wheels.\".format(blue_car.color, blue_car.brand, blue_car.n_wheels))\n",
    "print(\"Cars have {} wheels.\".format(car.n_wheels))\n",
    "print(\"The {} {} has {} wheels.\".format(white_car.color, white_car.brand, white_car.n_wheels))"
   ]
  },
  {
   "cell_type": "markdown",
   "id": "a35441cd",
   "metadata": {},
   "source": [
    "# Exercises\n",
    "## Exercise 1\n",
    "\n",
    "Create a new class, `closet`, with these instructions:\n",
    "1. The `__init__()` constructor should take two arguments:\n",
    "    2. The number of pairs of `pants` in the closet\n",
    "    3. The number of `shirts` in the closet\n",
    "2. Write a method `buy()`, that increases the number of pants or shirts in the closet.\n",
    "3. Write a method, `borrow()`, that takes a pair of pants or shirt from someone else's closet.\n",
    "4. Bonus: Write a method, `outfits()`, that calculates the total number of distinct combinations of pants and shirts in your closet.\n",
    " "
   ]
  },
  {
   "cell_type": "code",
   "execution_count": null,
   "id": "ecbd2c87",
   "metadata": {},
   "outputs": [],
   "source": [
    "#your code here "
   ]
  },
  {
   "cell_type": "markdown",
   "id": "d4d01dee",
   "metadata": {},
   "source": [
    "## Exercise 2\n",
    "\n",
    "Create a new class, `time`, and initialize it with hours and minutes.\n",
    "1. Make a method `addTime()` which should take two time objects and add them. e.g.- (2 hour and 50 min)+(1 hr and 20 min) is (4 hr and 10 min)\n",
    "2. Make a method `displayTime()` which should print the time.\n",
    "3. Make a method `displayMinute()` which should display the total minutes in the Time. e.g.- (1 hr 2 min) should display 62 minutes."
   ]
  },
  {
   "cell_type": "code",
   "execution_count": null,
   "id": "22380535",
   "metadata": {},
   "outputs": [],
   "source": [
    "#your code here"
   ]
  }
 ],
 "metadata": {
  "kernelspec": {
   "display_name": "Python 3 (ipykernel)",
   "language": "python",
   "name": "python3"
  },
  "language_info": {
   "codemirror_mode": {
    "name": "ipython",
    "version": 3
   },
   "file_extension": ".py",
   "mimetype": "text/x-python",
   "name": "python",
   "nbconvert_exporter": "python",
   "pygments_lexer": "ipython3",
   "version": "3.8.17"
  }
 },
 "nbformat": 4,
 "nbformat_minor": 5
}

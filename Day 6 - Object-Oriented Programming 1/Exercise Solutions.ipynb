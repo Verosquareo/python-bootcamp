{
 "cells": [
  {
   "cell_type": "markdown",
   "id": "8782445458935b65",
   "metadata": {},
   "source": [
    "# Exercise Solutions - Day 6\n",
    "*August 6, 2024*\n",
    "\n",
    "*I School Python Bootcamp*\n",
    "\n",
    "*Author: Lauren Chambers<br>Modified from notebook by George McIntire*"
   ]
  },
  {
   "cell_type": "markdown",
   "id": "e0f49115424cdf6a",
   "metadata": {},
   "source": [
    "## Lab 6A - Intro to Classes & Methods"
   ]
  },
  {
   "cell_type": "markdown",
   "id": "28f3cf17",
   "metadata": {},
   "source": [
    "### Exercise 1 \n",
    "*Create a Pizza class*\n",
    "\n",
    "Create a class with the following instructions: \n",
    "* Name your class \"Pizza\"\n",
    "* Your class should have the following attributes in the constructor: \n",
    "    * `cheese`\n",
    "    * `topping`\n",
    "* Create Pizza object with cheddar cheese and mushroom toppings\n",
    "* Create a few more Pizza objects of your choice! \n",
    "* Create print statement that outputs the following: \n",
    "    * \"you ordered a {cheese} pizza with {topping}\""
   ]
  },
  {
   "cell_type": "code",
   "execution_count": 13,
   "id": "d161a53c",
   "metadata": {},
   "outputs": [],
   "source": [
    "class Pizza:\n",
    "    \n",
    "    # initialization constructor\n",
    "    def __init__(self, cheese, topping):\n",
    "        # attributes\n",
    "        self.cheese = cheese \n",
    "        self.topping = topping "
   ]
  },
  {
   "cell_type": "code",
   "execution_count": 17,
   "id": "d55fafa3-da95-4ae2-b5e2-2a4aee3298df",
   "metadata": {},
   "outputs": [
    {
     "name": "stdout",
     "output_type": "stream",
     "text": [
      "You ordered a cheddar pizza with mushrooms\n",
      "You ordered a mozzarella pizza with basil\n",
      "You ordered a burrata pizza with pesto\n"
     ]
    }
   ],
   "source": [
    "mushroom_pizza = Pizza(\"cheddar\", \"mushrooms\")\n",
    "print(\"You ordered a\", mushroom_pizza.cheese, \"pizza with\", mushroom_pizza.topping)\n",
    "\n",
    "margherita_pizza = Pizza(\"mozzarella\", \"basil\")\n",
    "print(\"You ordered a\", margherita_pizza.cheese, \"pizza with\", margherita_pizza.topping)\n",
    "\n",
    "pesto_pizza = Pizza(\"burrata\", \"pesto\")\n",
    "print(\"You ordered a\", pesto_pizza.cheese, \"pizza with\", pesto_pizza.topping)"
   ]
  },
  {
   "cell_type": "markdown",
   "id": "569dc850-9b1b-4883-ba03-205ae0abf539",
   "metadata": {},
   "source": [
    "Note that, with our current `Pizza` class, we cannot have a pizza with cheese and no toppings:"
   ]
  },
  {
   "cell_type": "code",
   "execution_count": 19,
   "id": "a062f891-cd04-48e0-8dc5-3578269b5a74",
   "metadata": {},
   "outputs": [
    {
     "ename": "TypeError",
     "evalue": "__init__() missing 1 required positional argument: 'topping'",
     "output_type": "error",
     "traceback": [
      "\u001b[0;31m---------------------------------------------------------------------------\u001b[0m",
      "\u001b[0;31mTypeError\u001b[0m                                 Traceback (most recent call last)",
      "Cell \u001b[0;32mIn[19], line 1\u001b[0m\n\u001b[0;32m----> 1\u001b[0m cheese_pizza \u001b[38;5;241m=\u001b[39m \u001b[43mPizza\u001b[49m\u001b[43m(\u001b[49m\u001b[38;5;124;43m\"\u001b[39;49m\u001b[38;5;124;43mfive-cheese blend\u001b[39;49m\u001b[38;5;124;43m\"\u001b[39;49m\u001b[43m)\u001b[49m\n",
      "\u001b[0;31mTypeError\u001b[0m: __init__() missing 1 required positional argument: 'topping'"
     ]
    }
   ],
   "source": [
    "cheese_pizza = Pizza(\"five-cheese blend\")"
   ]
  },
  {
   "cell_type": "markdown",
   "id": "a67f84ed-5ad0-4869-a4ab-9bdca1f2df85",
   "metadata": {},
   "source": [
    "In order to do that we'll need to define a new class in which the `topping` argument is optional:"
   ]
  },
  {
   "cell_type": "code",
   "execution_count": 21,
   "id": "dcdb5446-a27d-46ac-b69a-1f156a618db4",
   "metadata": {},
   "outputs": [],
   "source": [
    "class Pizza_simple:\n",
    "    \n",
    "    # initialization constructor\n",
    "    def __init__(self, cheese, topping=None):\n",
    "        # attributes\n",
    "        self.cheese = cheese \n",
    "        self.topping = topping "
   ]
  },
  {
   "cell_type": "code",
   "execution_count": 25,
   "id": "bf01a9b1-486f-45cf-a4f6-bf669ac48235",
   "metadata": {},
   "outputs": [
    {
     "name": "stdout",
     "output_type": "stream",
     "text": [
      "You ordered a five-cheese blend pizza with None\n"
     ]
    }
   ],
   "source": [
    "cheese_pizza = Pizza_simple(\"five-cheese blend\")\n",
    "print(\"You ordered a\", cheese_pizza.cheese, \"pizza with\", cheese_pizza.topping)"
   ]
  },
  {
   "cell_type": "markdown",
   "id": "8eacf122",
   "metadata": {},
   "source": [
    "### Exercise 2 \n",
    "*Create an apartment class*\n",
    "\n",
    "Create a class with the following instructions: \n",
    "* Name your class \"Apartment\"\n",
    "* Your class should have the following attributes in the constructor: \n",
    "    * `size` in square feet\n",
    "    * `city` \n",
    "* Create print statement that outputs the following:  \n",
    "    * \"I live in a {size} sq ft apartment in {city}\""
   ]
  },
  {
   "cell_type": "code",
   "execution_count": 27,
   "id": "014763a1",
   "metadata": {},
   "outputs": [],
   "source": [
    "class Apartment:\n",
    "    \n",
    "    # initialization constructor\n",
    "    def __init__(self, size, city):\n",
    "        # attributes\n",
    "        self.size = size \n",
    "        self.city = city "
   ]
  },
  {
   "cell_type": "code",
   "execution_count": 35,
   "id": "b4932a95",
   "metadata": {},
   "outputs": [
    {
     "name": "stdout",
     "output_type": "stream",
     "text": [
      "I live in a 700 sq ft apartment in San Francisco\n"
     ]
    }
   ],
   "source": [
    "Laurens_apt = Apartment(700, \"San Francisco\")\n",
    "print(\"I live in a\", Laurens_apt.size, \"sq ft apartment in\", Laurens_apt.city)"
   ]
  },
  {
   "cell_type": "code",
   "execution_count": 33,
   "id": "a03441ce-1927-4046-afdf-e2ed6be26e0c",
   "metadata": {},
   "outputs": [
    {
     "data": {
      "text/plain": [
       "int"
      ]
     },
     "execution_count": 33,
     "metadata": {},
     "output_type": "execute_result"
    }
   ],
   "source": [
    "type(Laurens_apt.size)"
   ]
  },
  {
   "cell_type": "code",
   "execution_count": 37,
   "id": "51f4e8e8-65b6-4d81-bd10-3c3f4d50154e",
   "metadata": {},
   "outputs": [
    {
     "name": "stdout",
     "output_type": "stream",
     "text": [
      "Kit lives in a 900 sq ft apartment in Cincinnati\n"
     ]
    }
   ],
   "source": [
    "Kits_apt = Apartment(900, \"Cincinnati\")\n",
    "print(\"Kit lives in a\", Kits_apt.size, \"sq ft apartment in\", Kits_apt.city)"
   ]
  },
  {
   "cell_type": "code",
   "execution_count": 39,
   "id": "e105215f-646f-49e0-83b3-ceafcd302f40",
   "metadata": {},
   "outputs": [
    {
     "data": {
      "text/plain": [
       "__main__.Apartment"
      ]
     },
     "execution_count": 39,
     "metadata": {},
     "output_type": "execute_result"
    }
   ],
   "source": [
    "type(Kits_apt)"
   ]
  },
  {
   "cell_type": "markdown",
   "id": "a35441cd",
   "metadata": {},
   "source": [
    "## Lab 6B - Attributes & Methods\n",
    "### Exercise 1\n",
    "\n",
    "Create a new class, `closet`, with these instructions:\n",
    "1. The `__init__()` constructor should take two arguments:\n",
    "    2. The number of pairs of `pants` in the closet\n",
    "    3. The number of `shirts` in the closet\n",
    "2. Write a method `buy()`, that increases the number of pants or shirts in the closet.\n",
    "3. Write a method, `borrow()`, that takes a pair of pants or shirt from someone else's closet.\n",
    "4. Bonus: Write a method, `outfits()`, that calculates the total number of distinct combinations of pants and shirts in your closet.\n",
    " "
   ]
  },
  {
   "cell_type": "code",
   "execution_count": 9,
   "id": "ecbd2c87",
   "metadata": {},
   "outputs": [],
   "source": [
    "class closet:\n",
    "    \n",
    "    # initialization constructor\n",
    "    def __init__(self, pants, shirts):\n",
    "        # instance attributes\n",
    "        self.pants = pants \n",
    "        self.shirts = shirts \n",
    "\n",
    "    # description method\n",
    "    def describe(self):\n",
    "        print(\"This closet has {} pants and {} shirts.\".format(self.pants, self.shirts))\n",
    "        \n",
    "    # shopping method\n",
    "    def buy(self, shirts=0, pants=0): \n",
    "        self.pants += pants\n",
    "        self.shirts += shirts\n",
    "\n",
    "    # shopping method using string instead of kwargs\n",
    "    def buy_fancy(self, clothing_type, amount):\n",
    "        my_clothing_amount = getattr(self, clothing_type)\n",
    "        setattr(self, clothing_type, amount + my_clothing_amount)\n",
    "        \n",
    "    # borrowing method\n",
    "    def borrow(self, friends_closet, shirts=0, pants=0):\n",
    "        friends_closet.shirts -= shirts\n",
    "        friends_closet.pants -= pants\n",
    "\n",
    "        self.pants += pants\n",
    "        self.shirts += shirts\n",
    "\n",
    "    def outfits(self):\n",
    "        n_outfits = 0\n",
    "        for p in range(self.pants):\n",
    "            for s in range(self.shirts):\n",
    "                n_outfits += 1\n",
    "\n",
    "        # n_outfits = self.pants * self.shirts\n",
    "        \n",
    "        return n_outfits"
   ]
  },
  {
   "cell_type": "code",
   "execution_count": 31,
   "id": "64ca8db3-1c4d-4a93-bb3d-6778b06df9a5",
   "metadata": {},
   "outputs": [
    {
     "name": "stdout",
     "output_type": "stream",
     "text": [
      "This closet has 15 pants and 40 shirts.\n"
     ]
    }
   ],
   "source": [
    "my_closet = closet(pants=15, shirts=40)\n",
    "my_closet.describe()"
   ]
  },
  {
   "cell_type": "code",
   "execution_count": 33,
   "id": "b881b77b-6795-4a92-9828-14280610a1ef",
   "metadata": {},
   "outputs": [
    {
     "name": "stdout",
     "output_type": "stream",
     "text": [
      "This closet has 40 pants and 60 shirts.\n"
     ]
    }
   ],
   "source": [
    "julias_closet = closet(pants=40, shirts=60)\n",
    "julias_closet.describe()"
   ]
  },
  {
   "cell_type": "code",
   "execution_count": 35,
   "id": "9b559b99-0337-4b18-b562-7dcfb137e4e6",
   "metadata": {},
   "outputs": [
    {
     "name": "stdout",
     "output_type": "stream",
     "text": [
      "This closet has 15 pants and 42 shirts.\n",
      "This closet has 40 pants and 58 shirts.\n"
     ]
    }
   ],
   "source": [
    "my_closet.borrow(julias_closet, shirts=2)\n",
    "my_closet.describe()\n",
    "julias_closet.describe()"
   ]
  },
  {
   "cell_type": "code",
   "execution_count": 37,
   "id": "50a7b156-de55-487e-aac1-a09ae76b5c19",
   "metadata": {},
   "outputs": [
    {
     "data": {
      "text/plain": [
       "2320"
      ]
     },
     "execution_count": 37,
     "metadata": {},
     "output_type": "execute_result"
    }
   ],
   "source": [
    "julias_closet.outfits()"
   ]
  },
  {
   "cell_type": "code",
   "execution_count": 11,
   "id": "e04c115c-95b8-4000-b89a-0af6ae9cb734",
   "metadata": {},
   "outputs": [
    {
     "name": "stdout",
     "output_type": "stream",
     "text": [
      "This closet has 2 pants and 5 shirts.\n",
      "This closet has 2 pants and 8 shirts.\n"
     ]
    }
   ],
   "source": [
    "new_closet = closet(pants=2, shirts=5)\n",
    "new_closet.describe()\n",
    "new_closet.buy_fancy(\"shirts\", 3)\n",
    "new_closet.describe()"
   ]
  },
  {
   "cell_type": "markdown",
   "id": "d4d01dee",
   "metadata": {},
   "source": [
    "### Exercise 2\n",
    "\n",
    "Create a new class, `time`, and initialize it with hours and minutes.\n",
    "1. Make a method `addTime()` which should take two time objects and add them. e.g.- (2 hour and 50 min)+(1 hr and 20 min) is (4 hr and 10 min)\n",
    "2. Make a method `displayTime()` which should print the time.\n",
    "3. Make a method `displayMinute()` which should display the total minutes in the Time. e.g.- (1 hr 2 min) should display 62 minutes."
   ]
  },
  {
   "cell_type": "code",
   "execution_count": 47,
   "id": "22380535",
   "metadata": {},
   "outputs": [],
   "source": [
    "class time:\n",
    "    \n",
    "    # initialization constructor\n",
    "    def __init__(self, h, m):\n",
    "        # instance attributes\n",
    "        self.h = h \n",
    "        self.m = m \n",
    "\n",
    "    # description method\n",
    "    def displayTime(self):\n",
    "        print(\"The time is {} hr and {} min.\".format(self.h, self.m))\n",
    "\n",
    "    # description method\n",
    "    def displayMinute(self):\n",
    "        total_minutes = self.h * 60 + self.m\n",
    "        print(\"The time is {} min.\".format(total_minutes))\n",
    "        \n",
    "    # addition method\n",
    "    def addTime(self, addend):\n",
    "        total_minutes = self.h * 60 + self.m\n",
    "        addend_total_minutes = addend.h * 60 + addend.m\n",
    "\n",
    "        sum_total_minutes = total_minutes + addend_total_minutes\n",
    "        sum_h = sum_total_minutes // 60\n",
    "        sum_m = sum_total_minutes % 60\n",
    "\n",
    "        return {\"h\": sum_h, \"m\": sum_m}"
   ]
  },
  {
   "cell_type": "code",
   "execution_count": 55,
   "id": "840199b4-883b-4949-954f-104579cbd343",
   "metadata": {},
   "outputs": [
    {
     "name": "stdout",
     "output_type": "stream",
     "text": [
      "The time is 5 hr and 40 min.\n",
      "The time is 340 min.\n"
     ]
    }
   ],
   "source": [
    "time_SF_to_LA = time(5, 40)\n",
    "time_SF_to_LA.displayTime()\n",
    "time_SF_to_LA.displayMinute()"
   ]
  },
  {
   "cell_type": "code",
   "execution_count": 57,
   "id": "932bbe8a-6420-46d4-b365-dffda317ea9d",
   "metadata": {},
   "outputs": [
    {
     "name": "stdout",
     "output_type": "stream",
     "text": [
      "The time is 2 hr and 55 min.\n",
      "The time is 175 min.\n"
     ]
    }
   ],
   "source": [
    "time_LA_to_PalmSprings = time(2, 55)\n",
    "time_LA_to_PalmSprings.displayTime()\n",
    "time_LA_to_PalmSprings.displayMinute()"
   ]
  },
  {
   "cell_type": "code",
   "execution_count": 59,
   "id": "7aa53ac6-071a-4f8e-88bf-8421f78cd5fe",
   "metadata": {},
   "outputs": [
    {
     "data": {
      "text/plain": [
       "{'h': 8, 'm': 35}"
      ]
     },
     "execution_count": 59,
     "metadata": {},
     "output_type": "execute_result"
    }
   ],
   "source": [
    "time_SF_to_LA.addTime(time_LA_to_PalmSprings)"
   ]
  }
 ],
 "metadata": {
  "kernelspec": {
   "display_name": "Python 3 (ipykernel)",
   "language": "python",
   "name": "python3"
  },
  "language_info": {
   "codemirror_mode": {
    "name": "ipython",
    "version": 3
   },
   "file_extension": ".py",
   "mimetype": "text/x-python",
   "name": "python",
   "nbconvert_exporter": "python",
   "pygments_lexer": "ipython3",
   "version": "3.8.17"
  }
 },
 "nbformat": 4,
 "nbformat_minor": 5
}
